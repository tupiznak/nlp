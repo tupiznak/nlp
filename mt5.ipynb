{
 "cells": [
  {
   "cell_type": "code",
   "execution_count": 1,
   "id": "c7a27d0a",
   "metadata": {},
   "outputs": [
    {
     "data": {
      "application/javascript": [
       "\n",
       "            setTimeout(function() {\n",
       "                var nbb_cell_id = 1;\n",
       "                var nbb_unformatted_code = \"%load_ext nb_black\";\n",
       "                var nbb_formatted_code = \"%load_ext nb_black\";\n",
       "                var nbb_cells = Jupyter.notebook.get_cells();\n",
       "                for (var i = 0; i < nbb_cells.length; ++i) {\n",
       "                    if (nbb_cells[i].input_prompt_number == nbb_cell_id) {\n",
       "                        if (nbb_cells[i].get_text() == nbb_unformatted_code) {\n",
       "                             nbb_cells[i].set_text(nbb_formatted_code);\n",
       "                        }\n",
       "                        break;\n",
       "                    }\n",
       "                }\n",
       "            }, 500);\n",
       "            "
      ],
      "text/plain": [
       "<IPython.core.display.Javascript object>"
      ]
     },
     "metadata": {},
     "output_type": "display_data"
    }
   ],
   "source": [
    "%load_ext nb_black"
   ]
  },
  {
   "cell_type": "code",
   "execution_count": 2,
   "id": "e507e35b",
   "metadata": {},
   "outputs": [
    {
     "name": "stderr",
     "output_type": "stream",
     "text": [
      "Found cached dataset generator (C:/tempjeka/cache/huggingface/generator/default-f628ff2f2d994b84/0.0.0)\n",
      "Loading cached split indices for dataset at C:\\tempjeka\\cache\\huggingface\\generator\\default-f628ff2f2d994b84\\0.0.0\\cache-a84cfc0a0e11ed54.arrow and C:\\tempjeka\\cache\\huggingface\\generator\\default-f628ff2f2d994b84\\0.0.0\\cache-665145fe0a5a6a51.arrow\n",
      "Loading cached split indices for dataset at C:\\tempjeka\\cache\\huggingface\\generator\\default-f628ff2f2d994b84\\0.0.0\\cache-e104a2bffe25c7fa.arrow and C:\\tempjeka\\cache\\huggingface\\generator\\default-f628ff2f2d994b84\\0.0.0\\cache-4096519e2393e19f.arrow\n"
     ]
    },
    {
     "data": {
      "application/javascript": [
       "\n",
       "            setTimeout(function() {\n",
       "                var nbb_cell_id = 2;\n",
       "                var nbb_unformatted_code = \"from src.env import *\\nfrom src.imports import *\\nfrom src.config import *\\nfrom src.dataset import *\\nfrom src.metric import *\";\n",
       "                var nbb_formatted_code = \"from src.env import *\\nfrom src.imports import *\\nfrom src.config import *\\nfrom src.dataset import *\\nfrom src.metric import *\";\n",
       "                var nbb_cells = Jupyter.notebook.get_cells();\n",
       "                for (var i = 0; i < nbb_cells.length; ++i) {\n",
       "                    if (nbb_cells[i].input_prompt_number == nbb_cell_id) {\n",
       "                        if (nbb_cells[i].get_text() == nbb_unformatted_code) {\n",
       "                             nbb_cells[i].set_text(nbb_formatted_code);\n",
       "                        }\n",
       "                        break;\n",
       "                    }\n",
       "                }\n",
       "            }, 500);\n",
       "            "
      ],
      "text/plain": [
       "<IPython.core.display.Javascript object>"
      ]
     },
     "metadata": {},
     "output_type": "display_data"
    }
   ],
   "source": [
    "from src.env import *\n",
    "from src.imports import *\n",
    "from src.config import *\n",
    "from src.dataset import *\n",
    "from src.metric import *"
   ]
  },
  {
   "cell_type": "code",
   "execution_count": 3,
   "id": "83d3db35",
   "metadata": {},
   "outputs": [
    {
     "data": {
      "application/javascript": [
       "\n",
       "            setTimeout(function() {\n",
       "                var nbb_cell_id = 3;\n",
       "                var nbb_unformatted_code = \"enc_name = \\\"google/mt5-small\\\"\\nmodel_name = \\\"mt5_small\\\"\";\n",
       "                var nbb_formatted_code = \"enc_name = \\\"google/mt5-small\\\"\\nmodel_name = \\\"mt5_small\\\"\";\n",
       "                var nbb_cells = Jupyter.notebook.get_cells();\n",
       "                for (var i = 0; i < nbb_cells.length; ++i) {\n",
       "                    if (nbb_cells[i].input_prompt_number == nbb_cell_id) {\n",
       "                        if (nbb_cells[i].get_text() == nbb_unformatted_code) {\n",
       "                             nbb_cells[i].set_text(nbb_formatted_code);\n",
       "                        }\n",
       "                        break;\n",
       "                    }\n",
       "                }\n",
       "            }, 500);\n",
       "            "
      ],
      "text/plain": [
       "<IPython.core.display.Javascript object>"
      ]
     },
     "metadata": {},
     "output_type": "display_data"
    }
   ],
   "source": [
    "enc_name = \"google/mt5-small\"\n",
    "model_name = \"mt5_small\""
   ]
  },
  {
   "cell_type": "code",
   "execution_count": 4,
   "id": "56ccf276",
   "metadata": {},
   "outputs": [
    {
     "name": "stderr",
     "output_type": "stream",
     "text": [
      "C:\\tempjeka\\anaconda3\\lib\\site-packages\\transformers\\convert_slow_tokenizer.py:454: UserWarning: The sentencepiece tokenizer that you are converting to a fast tokenizer uses the byte fallback option which is not implemented in the fast tokenizers. In practice this means that the fast version of the tokenizer can produce unknown tokens whereas the sentencepiece version would have converted these unknown tokens into a sequence of byte tokens matching the original piece of text.\n",
      "  warnings.warn(\n"
     ]
    },
    {
     "data": {
      "application/javascript": [
       "\n",
       "            setTimeout(function() {\n",
       "                var nbb_cell_id = 4;\n",
       "                var nbb_unformatted_code = \"enc_tokenizer = AutoTokenizer.from_pretrained(enc_name)\";\n",
       "                var nbb_formatted_code = \"enc_tokenizer = AutoTokenizer.from_pretrained(enc_name)\";\n",
       "                var nbb_cells = Jupyter.notebook.get_cells();\n",
       "                for (var i = 0; i < nbb_cells.length; ++i) {\n",
       "                    if (nbb_cells[i].input_prompt_number == nbb_cell_id) {\n",
       "                        if (nbb_cells[i].get_text() == nbb_unformatted_code) {\n",
       "                             nbb_cells[i].set_text(nbb_formatted_code);\n",
       "                        }\n",
       "                        break;\n",
       "                    }\n",
       "                }\n",
       "            }, 500);\n",
       "            "
      ],
      "text/plain": [
       "<IPython.core.display.Javascript object>"
      ]
     },
     "metadata": {},
     "output_type": "display_data"
    }
   ],
   "source": [
    "enc_tokenizer = AutoTokenizer.from_pretrained(enc_name)"
   ]
  },
  {
   "cell_type": "code",
   "execution_count": 5,
   "id": "a088a0ee",
   "metadata": {},
   "outputs": [
    {
     "data": {
      "application/javascript": [
       "\n",
       "            setTimeout(function() {\n",
       "                var nbb_cell_id = 5;\n",
       "                var nbb_unformatted_code = \"dec_tokenizer = enc_tokenizer\";\n",
       "                var nbb_formatted_code = \"dec_tokenizer = enc_tokenizer\";\n",
       "                var nbb_cells = Jupyter.notebook.get_cells();\n",
       "                for (var i = 0; i < nbb_cells.length; ++i) {\n",
       "                    if (nbb_cells[i].input_prompt_number == nbb_cell_id) {\n",
       "                        if (nbb_cells[i].get_text() == nbb_unformatted_code) {\n",
       "                             nbb_cells[i].set_text(nbb_formatted_code);\n",
       "                        }\n",
       "                        break;\n",
       "                    }\n",
       "                }\n",
       "            }, 500);\n",
       "            "
      ],
      "text/plain": [
       "<IPython.core.display.Javascript object>"
      ]
     },
     "metadata": {},
     "output_type": "display_data"
    }
   ],
   "source": [
    "dec_tokenizer = enc_tokenizer"
   ]
  },
  {
   "cell_type": "code",
   "execution_count": 6,
   "id": "532b58e3",
   "metadata": {},
   "outputs": [
    {
     "name": "stderr",
     "output_type": "stream",
     "text": [
      "Loading cached processed dataset at C:\\tempjeka\\cache\\huggingface\\generator\\default-f628ff2f2d994b84\\0.0.0\\cache-e8e63b2a8a7e4ad3.arrow\n",
      "Loading cached processed dataset at C:\\tempjeka\\cache\\huggingface\\generator\\default-f628ff2f2d994b84\\0.0.0\\cache-d6ceae0a37a67c62.arrow\n",
      "Loading cached processed dataset at C:\\tempjeka\\cache\\huggingface\\generator\\default-f628ff2f2d994b84\\0.0.0\\cache-0c3f31464f8f7989.arrow\n",
      "Loading cached sorted indices for dataset at C:\\tempjeka\\cache\\huggingface\\generator\\default-f628ff2f2d994b84\\0.0.0\\cache-bdb4805bd3c0c42c.arrow\n",
      "Loading cached sorted indices for dataset at C:\\tempjeka\\cache\\huggingface\\generator\\default-f628ff2f2d994b84\\0.0.0\\cache-fc809c3039eedd94.arrow\n",
      "Loading cached sorted indices for dataset at C:\\tempjeka\\cache\\huggingface\\generator\\default-f628ff2f2d994b84\\0.0.0\\cache-733901f9d738dbc2.arrow\n"
     ]
    },
    {
     "data": {
      "application/javascript": [
       "\n",
       "            setTimeout(function() {\n",
       "                var nbb_cell_id = 6;\n",
       "                var nbb_unformatted_code = \"dataset = create_dataset(enc_tokenizer, dec_tokenizer).sort(\\\"input_ids_length\\\")\";\n",
       "                var nbb_formatted_code = \"dataset = create_dataset(enc_tokenizer, dec_tokenizer).sort(\\\"input_ids_length\\\")\";\n",
       "                var nbb_cells = Jupyter.notebook.get_cells();\n",
       "                for (var i = 0; i < nbb_cells.length; ++i) {\n",
       "                    if (nbb_cells[i].input_prompt_number == nbb_cell_id) {\n",
       "                        if (nbb_cells[i].get_text() == nbb_unformatted_code) {\n",
       "                             nbb_cells[i].set_text(nbb_formatted_code);\n",
       "                        }\n",
       "                        break;\n",
       "                    }\n",
       "                }\n",
       "            }, 500);\n",
       "            "
      ],
      "text/plain": [
       "<IPython.core.display.Javascript object>"
      ]
     },
     "metadata": {},
     "output_type": "display_data"
    }
   ],
   "source": [
    "dataset = create_dataset(enc_tokenizer, dec_tokenizer).sort(\"input_ids_length\")"
   ]
  },
  {
   "cell_type": "code",
   "execution_count": 7,
   "id": "c222954f",
   "metadata": {
    "scrolled": true
   },
   "outputs": [
    {
     "data": {
      "application/javascript": [
       "\n",
       "            setTimeout(function() {\n",
       "                var nbb_cell_id = 7;\n",
       "                var nbb_unformatted_code = \"from transformers import AutoModel\\n\\nmodel = AutoModelForSeq2SeqLM.from_pretrained(enc_name)\";\n",
       "                var nbb_formatted_code = \"from transformers import AutoModel\\n\\nmodel = AutoModelForSeq2SeqLM.from_pretrained(enc_name)\";\n",
       "                var nbb_cells = Jupyter.notebook.get_cells();\n",
       "                for (var i = 0; i < nbb_cells.length; ++i) {\n",
       "                    if (nbb_cells[i].input_prompt_number == nbb_cell_id) {\n",
       "                        if (nbb_cells[i].get_text() == nbb_unformatted_code) {\n",
       "                             nbb_cells[i].set_text(nbb_formatted_code);\n",
       "                        }\n",
       "                        break;\n",
       "                    }\n",
       "                }\n",
       "            }, 500);\n",
       "            "
      ],
      "text/plain": [
       "<IPython.core.display.Javascript object>"
      ]
     },
     "metadata": {},
     "output_type": "display_data"
    }
   ],
   "source": [
    "from transformers import AutoModel\n",
    "\n",
    "model = AutoModelForSeq2SeqLM.from_pretrained(enc_name)"
   ]
  },
  {
   "cell_type": "code",
   "execution_count": 8,
   "id": "478ee05e",
   "metadata": {},
   "outputs": [
    {
     "data": {
      "application/javascript": [
       "\n",
       "            setTimeout(function() {\n",
       "                var nbb_cell_id = 8;\n",
       "                var nbb_unformatted_code = \"model.config.max_length = max_input_length\\nmodel.config.min_length = 10\\nmodel.config.no_repeat_ngram_size = 3\\nmodel.config.early_stopping = True\\nmodel.config.num_beams = 10\";\n",
       "                var nbb_formatted_code = \"model.config.max_length = max_input_length\\nmodel.config.min_length = 10\\nmodel.config.no_repeat_ngram_size = 3\\nmodel.config.early_stopping = True\\nmodel.config.num_beams = 10\";\n",
       "                var nbb_cells = Jupyter.notebook.get_cells();\n",
       "                for (var i = 0; i < nbb_cells.length; ++i) {\n",
       "                    if (nbb_cells[i].input_prompt_number == nbb_cell_id) {\n",
       "                        if (nbb_cells[i].get_text() == nbb_unformatted_code) {\n",
       "                             nbb_cells[i].set_text(nbb_formatted_code);\n",
       "                        }\n",
       "                        break;\n",
       "                    }\n",
       "                }\n",
       "            }, 500);\n",
       "            "
      ],
      "text/plain": [
       "<IPython.core.display.Javascript object>"
      ]
     },
     "metadata": {},
     "output_type": "display_data"
    }
   ],
   "source": [
    "model.config.max_length = max_input_length\n",
    "model.config.min_length = 10\n",
    "model.config.no_repeat_ngram_size = 3\n",
    "model.config.early_stopping = True\n",
    "model.config.num_beams = 10"
   ]
  },
  {
   "cell_type": "code",
   "execution_count": 9,
   "id": "5ce6805a",
   "metadata": {},
   "outputs": [
    {
     "data": {
      "application/javascript": [
       "\n",
       "            setTimeout(function() {\n",
       "                var nbb_cell_id = 9;\n",
       "                var nbb_unformatted_code = \"version = 1\";\n",
       "                var nbb_formatted_code = \"version = 1\";\n",
       "                var nbb_cells = Jupyter.notebook.get_cells();\n",
       "                for (var i = 0; i < nbb_cells.length; ++i) {\n",
       "                    if (nbb_cells[i].input_prompt_number == nbb_cell_id) {\n",
       "                        if (nbb_cells[i].get_text() == nbb_unformatted_code) {\n",
       "                             nbb_cells[i].set_text(nbb_formatted_code);\n",
       "                        }\n",
       "                        break;\n",
       "                    }\n",
       "                }\n",
       "            }, 500);\n",
       "            "
      ],
      "text/plain": [
       "<IPython.core.display.Javascript object>"
      ]
     },
     "metadata": {},
     "output_type": "display_data"
    }
   ],
   "source": [
    "version = 1"
   ]
  },
  {
   "cell_type": "code",
   "execution_count": 10,
   "id": "6adb2d8a",
   "metadata": {},
   "outputs": [
    {
     "data": {
      "application/javascript": [
       "\n",
       "            setTimeout(function() {\n",
       "                var nbb_cell_id = 10;\n",
       "                var nbb_unformatted_code = \"version += 1\\nargs = Seq2SeqTrainingArguments(\\n    output_dir=Path(\\\"models\\\") / model_name,\\n    evaluation_strategy=\\\"steps\\\",\\n    learning_rate=5e-5,\\n    #     lr_scheduler_type=\\\"constant_with_warmup\\\",\\n    per_device_train_batch_size=batch_size,\\n    per_device_eval_batch_size=batch_size,\\n    save_total_limit=1,\\n    num_train_epochs=4,\\n    predict_with_generate=True,\\n    warmup_steps=3000,\\n    fp16=False,\\n    logging_dir=f\\\"../made/logs/lightning_logs/{model_name}/{version}\\\",\\n    logging_first_step=False,\\n    eval_steps=1000,\\n    logging_steps=500,\\n    overwrite_output_dir=True,\\n    group_by_length=True,\\n)\";\n",
       "                var nbb_formatted_code = \"version += 1\\nargs = Seq2SeqTrainingArguments(\\n    output_dir=Path(\\\"models\\\") / model_name,\\n    evaluation_strategy=\\\"steps\\\",\\n    learning_rate=5e-5,\\n    #     lr_scheduler_type=\\\"constant_with_warmup\\\",\\n    per_device_train_batch_size=batch_size,\\n    per_device_eval_batch_size=batch_size,\\n    save_total_limit=1,\\n    num_train_epochs=4,\\n    predict_with_generate=True,\\n    warmup_steps=3000,\\n    fp16=False,\\n    logging_dir=f\\\"../made/logs/lightning_logs/{model_name}/{version}\\\",\\n    logging_first_step=False,\\n    eval_steps=1000,\\n    logging_steps=500,\\n    overwrite_output_dir=True,\\n    group_by_length=True,\\n)\";\n",
       "                var nbb_cells = Jupyter.notebook.get_cells();\n",
       "                for (var i = 0; i < nbb_cells.length; ++i) {\n",
       "                    if (nbb_cells[i].input_prompt_number == nbb_cell_id) {\n",
       "                        if (nbb_cells[i].get_text() == nbb_unformatted_code) {\n",
       "                             nbb_cells[i].set_text(nbb_formatted_code);\n",
       "                        }\n",
       "                        break;\n",
       "                    }\n",
       "                }\n",
       "            }, 500);\n",
       "            "
      ],
      "text/plain": [
       "<IPython.core.display.Javascript object>"
      ]
     },
     "metadata": {},
     "output_type": "display_data"
    }
   ],
   "source": [
    "version += 1\n",
    "args = Seq2SeqTrainingArguments(\n",
    "    output_dir=Path(\"models\") / model_name,\n",
    "    evaluation_strategy=\"steps\",\n",
    "    learning_rate=5e-5,\n",
    "    #     lr_scheduler_type=\"constant_with_warmup\",\n",
    "    per_device_train_batch_size=batch_size,\n",
    "    per_device_eval_batch_size=batch_size,\n",
    "    save_total_limit=1,\n",
    "    num_train_epochs=4,\n",
    "    predict_with_generate=True,\n",
    "    warmup_steps=3000,\n",
    "    fp16=False,\n",
    "    logging_dir=f\"../made/logs/lightning_logs/{model_name}/{version}\",\n",
    "    logging_first_step=False,\n",
    "    eval_steps=1000,\n",
    "    logging_steps=500,\n",
    "    overwrite_output_dir=True,\n",
    "    group_by_length=True,\n",
    ")"
   ]
  },
  {
   "cell_type": "code",
   "execution_count": 11,
   "id": "d5738285",
   "metadata": {},
   "outputs": [
    {
     "data": {
      "application/javascript": [
       "\n",
       "            setTimeout(function() {\n",
       "                var nbb_cell_id = 11;\n",
       "                var nbb_unformatted_code = \"trainer = Seq2SeqTrainer(\\n    model=model,\\n    args=args,\\n    compute_metrics=partial(compute_metrics, dec_tokenizer, metric),\\n    train_dataset=dataset[\\\"train\\\"],\\n    eval_dataset=dataset[\\\"val\\\"],\\n    data_collator=DataCollatorForSeq2Seq(dec_tokenizer, model=model),\\n)\";\n",
       "                var nbb_formatted_code = \"trainer = Seq2SeqTrainer(\\n    model=model,\\n    args=args,\\n    compute_metrics=partial(compute_metrics, dec_tokenizer, metric),\\n    train_dataset=dataset[\\\"train\\\"],\\n    eval_dataset=dataset[\\\"val\\\"],\\n    data_collator=DataCollatorForSeq2Seq(dec_tokenizer, model=model),\\n)\";\n",
       "                var nbb_cells = Jupyter.notebook.get_cells();\n",
       "                for (var i = 0; i < nbb_cells.length; ++i) {\n",
       "                    if (nbb_cells[i].input_prompt_number == nbb_cell_id) {\n",
       "                        if (nbb_cells[i].get_text() == nbb_unformatted_code) {\n",
       "                             nbb_cells[i].set_text(nbb_formatted_code);\n",
       "                        }\n",
       "                        break;\n",
       "                    }\n",
       "                }\n",
       "            }, 500);\n",
       "            "
      ],
      "text/plain": [
       "<IPython.core.display.Javascript object>"
      ]
     },
     "metadata": {},
     "output_type": "display_data"
    }
   ],
   "source": [
    "trainer = Seq2SeqTrainer(\n",
    "    model=model,\n",
    "    args=args,\n",
    "    compute_metrics=partial(compute_metrics, dec_tokenizer, metric),\n",
    "    train_dataset=dataset[\"train\"],\n",
    "    eval_dataset=dataset[\"val\"],\n",
    "    data_collator=DataCollatorForSeq2Seq(dec_tokenizer, model=model),\n",
    ")"
   ]
  },
  {
   "cell_type": "code",
   "execution_count": 12,
   "id": "520bc29c",
   "metadata": {},
   "outputs": [
    {
     "name": "stderr",
     "output_type": "stream",
     "text": [
      "C:\\tempjeka\\anaconda3\\lib\\site-packages\\transformers\\optimization.py:391: FutureWarning: This implementation of AdamW is deprecated and will be removed in a future version. Use the PyTorch implementation torch.optim.AdamW instead, or set `no_deprecation_warning=True` to disable this warning\n",
      "  warnings.warn(\n",
      "You're using a T5TokenizerFast tokenizer. Please note that with a fast tokenizer, using the `__call__` method is faster than using a method to encode the text followed by a call to the `pad` method to get a padded encoding.\n"
     ]
    },
    {
     "data": {
      "text/html": [
       "\n",
       "    <div>\n",
       "      \n",
       "      <progress value='45000' max='45000' style='width:300px; height:20px; vertical-align: middle;'></progress>\n",
       "      [45000/45000 2:56:20, Epoch 4/4]\n",
       "    </div>\n",
       "    <table border=\"1\" class=\"dataframe\">\n",
       "  <thead>\n",
       " <tr style=\"text-align: left;\">\n",
       "      <th>Step</th>\n",
       "      <th>Training Loss</th>\n",
       "      <th>Validation Loss</th>\n",
       "      <th>Bleu</th>\n",
       "      <th>Gen Len</th>\n",
       "    </tr>\n",
       "  </thead>\n",
       "  <tbody>\n",
       "    <tr>\n",
       "      <td>1000</td>\n",
       "      <td>16.670000</td>\n",
       "      <td>7.664755</td>\n",
       "      <td>0.014361</td>\n",
       "      <td>43.220000</td>\n",
       "    </tr>\n",
       "    <tr>\n",
       "      <td>2000</td>\n",
       "      <td>4.359400</td>\n",
       "      <td>2.134417</td>\n",
       "      <td>0.022299</td>\n",
       "      <td>47.840000</td>\n",
       "    </tr>\n",
       "    <tr>\n",
       "      <td>3000</td>\n",
       "      <td>2.913600</td>\n",
       "      <td>1.695495</td>\n",
       "      <td>0.080851</td>\n",
       "      <td>63.060000</td>\n",
       "    </tr>\n",
       "    <tr>\n",
       "      <td>4000</td>\n",
       "      <td>2.497700</td>\n",
       "      <td>1.483175</td>\n",
       "      <td>0.131925</td>\n",
       "      <td>63.340000</td>\n",
       "    </tr>\n",
       "    <tr>\n",
       "      <td>5000</td>\n",
       "      <td>2.245500</td>\n",
       "      <td>1.354940</td>\n",
       "      <td>0.134872</td>\n",
       "      <td>65.520000</td>\n",
       "    </tr>\n",
       "    <tr>\n",
       "      <td>6000</td>\n",
       "      <td>2.121300</td>\n",
       "      <td>1.282575</td>\n",
       "      <td>0.140392</td>\n",
       "      <td>69.660000</td>\n",
       "    </tr>\n",
       "    <tr>\n",
       "      <td>7000</td>\n",
       "      <td>1.965500</td>\n",
       "      <td>1.199819</td>\n",
       "      <td>0.157548</td>\n",
       "      <td>74.600000</td>\n",
       "    </tr>\n",
       "    <tr>\n",
       "      <td>8000</td>\n",
       "      <td>1.886700</td>\n",
       "      <td>1.144614</td>\n",
       "      <td>0.153701</td>\n",
       "      <td>70.920000</td>\n",
       "    </tr>\n",
       "    <tr>\n",
       "      <td>9000</td>\n",
       "      <td>1.834500</td>\n",
       "      <td>1.083573</td>\n",
       "      <td>0.172849</td>\n",
       "      <td>72.200000</td>\n",
       "    </tr>\n",
       "    <tr>\n",
       "      <td>10000</td>\n",
       "      <td>1.781900</td>\n",
       "      <td>1.058200</td>\n",
       "      <td>0.214244</td>\n",
       "      <td>75.180000</td>\n",
       "    </tr>\n",
       "    <tr>\n",
       "      <td>11000</td>\n",
       "      <td>1.743800</td>\n",
       "      <td>1.038370</td>\n",
       "      <td>0.216212</td>\n",
       "      <td>77.420000</td>\n",
       "    </tr>\n",
       "    <tr>\n",
       "      <td>12000</td>\n",
       "      <td>1.653600</td>\n",
       "      <td>1.011461</td>\n",
       "      <td>0.202337</td>\n",
       "      <td>74.120000</td>\n",
       "    </tr>\n",
       "    <tr>\n",
       "      <td>13000</td>\n",
       "      <td>1.623500</td>\n",
       "      <td>0.970160</td>\n",
       "      <td>0.239447</td>\n",
       "      <td>79.020000</td>\n",
       "    </tr>\n",
       "    <tr>\n",
       "      <td>14000</td>\n",
       "      <td>1.641500</td>\n",
       "      <td>0.965437</td>\n",
       "      <td>0.233701</td>\n",
       "      <td>76.180000</td>\n",
       "    </tr>\n",
       "    <tr>\n",
       "      <td>15000</td>\n",
       "      <td>1.576800</td>\n",
       "      <td>0.948105</td>\n",
       "      <td>0.251259</td>\n",
       "      <td>80.760000</td>\n",
       "    </tr>\n",
       "    <tr>\n",
       "      <td>16000</td>\n",
       "      <td>1.530100</td>\n",
       "      <td>0.935343</td>\n",
       "      <td>0.251600</td>\n",
       "      <td>75.980000</td>\n",
       "    </tr>\n",
       "    <tr>\n",
       "      <td>17000</td>\n",
       "      <td>1.516100</td>\n",
       "      <td>0.923528</td>\n",
       "      <td>0.272303</td>\n",
       "      <td>80.520000</td>\n",
       "    </tr>\n",
       "    <tr>\n",
       "      <td>18000</td>\n",
       "      <td>1.467300</td>\n",
       "      <td>0.911642</td>\n",
       "      <td>0.275436</td>\n",
       "      <td>78.080000</td>\n",
       "    </tr>\n",
       "    <tr>\n",
       "      <td>19000</td>\n",
       "      <td>1.484100</td>\n",
       "      <td>0.897832</td>\n",
       "      <td>0.281630</td>\n",
       "      <td>79.560000</td>\n",
       "    </tr>\n",
       "    <tr>\n",
       "      <td>20000</td>\n",
       "      <td>1.443600</td>\n",
       "      <td>0.888290</td>\n",
       "      <td>0.284184</td>\n",
       "      <td>83.300000</td>\n",
       "    </tr>\n",
       "    <tr>\n",
       "      <td>21000</td>\n",
       "      <td>1.407500</td>\n",
       "      <td>0.876297</td>\n",
       "      <td>0.280895</td>\n",
       "      <td>79.920000</td>\n",
       "    </tr>\n",
       "    <tr>\n",
       "      <td>22000</td>\n",
       "      <td>1.411800</td>\n",
       "      <td>0.864952</td>\n",
       "      <td>0.317760</td>\n",
       "      <td>84.200000</td>\n",
       "    </tr>\n",
       "    <tr>\n",
       "      <td>23000</td>\n",
       "      <td>1.386400</td>\n",
       "      <td>0.858435</td>\n",
       "      <td>0.314591</td>\n",
       "      <td>83.580000</td>\n",
       "    </tr>\n",
       "    <tr>\n",
       "      <td>24000</td>\n",
       "      <td>1.353600</td>\n",
       "      <td>0.854307</td>\n",
       "      <td>0.289974</td>\n",
       "      <td>82.600000</td>\n",
       "    </tr>\n",
       "    <tr>\n",
       "      <td>25000</td>\n",
       "      <td>1.386100</td>\n",
       "      <td>0.852438</td>\n",
       "      <td>0.290594</td>\n",
       "      <td>81.760000</td>\n",
       "    </tr>\n",
       "    <tr>\n",
       "      <td>26000</td>\n",
       "      <td>1.353500</td>\n",
       "      <td>0.841216</td>\n",
       "      <td>0.317286</td>\n",
       "      <td>84.160000</td>\n",
       "    </tr>\n",
       "    <tr>\n",
       "      <td>27000</td>\n",
       "      <td>1.344400</td>\n",
       "      <td>0.838917</td>\n",
       "      <td>0.310416</td>\n",
       "      <td>81.720000</td>\n",
       "    </tr>\n",
       "    <tr>\n",
       "      <td>28000</td>\n",
       "      <td>1.317500</td>\n",
       "      <td>0.834349</td>\n",
       "      <td>0.346344</td>\n",
       "      <td>86.320000</td>\n",
       "    </tr>\n",
       "    <tr>\n",
       "      <td>29000</td>\n",
       "      <td>1.323300</td>\n",
       "      <td>0.823217</td>\n",
       "      <td>0.336400</td>\n",
       "      <td>84.860000</td>\n",
       "    </tr>\n",
       "    <tr>\n",
       "      <td>30000</td>\n",
       "      <td>1.311200</td>\n",
       "      <td>0.830775</td>\n",
       "      <td>0.303155</td>\n",
       "      <td>84.620000</td>\n",
       "    </tr>\n",
       "    <tr>\n",
       "      <td>31000</td>\n",
       "      <td>1.328700</td>\n",
       "      <td>0.820964</td>\n",
       "      <td>0.309328</td>\n",
       "      <td>83.660000</td>\n",
       "    </tr>\n",
       "    <tr>\n",
       "      <td>32000</td>\n",
       "      <td>1.304000</td>\n",
       "      <td>0.817610</td>\n",
       "      <td>0.311445</td>\n",
       "      <td>83.740000</td>\n",
       "    </tr>\n",
       "    <tr>\n",
       "      <td>33000</td>\n",
       "      <td>1.307000</td>\n",
       "      <td>0.811262</td>\n",
       "      <td>0.307775</td>\n",
       "      <td>83.200000</td>\n",
       "    </tr>\n",
       "    <tr>\n",
       "      <td>34000</td>\n",
       "      <td>1.286000</td>\n",
       "      <td>0.807731</td>\n",
       "      <td>0.306075</td>\n",
       "      <td>84.080000</td>\n",
       "    </tr>\n",
       "    <tr>\n",
       "      <td>35000</td>\n",
       "      <td>1.272600</td>\n",
       "      <td>0.805498</td>\n",
       "      <td>0.295825</td>\n",
       "      <td>83.800000</td>\n",
       "    </tr>\n",
       "    <tr>\n",
       "      <td>36000</td>\n",
       "      <td>1.271500</td>\n",
       "      <td>0.805610</td>\n",
       "      <td>0.312034</td>\n",
       "      <td>86.180000</td>\n",
       "    </tr>\n",
       "    <tr>\n",
       "      <td>37000</td>\n",
       "      <td>1.274900</td>\n",
       "      <td>0.804061</td>\n",
       "      <td>0.305637</td>\n",
       "      <td>84.520000</td>\n",
       "    </tr>\n",
       "    <tr>\n",
       "      <td>38000</td>\n",
       "      <td>1.256600</td>\n",
       "      <td>0.798698</td>\n",
       "      <td>0.310537</td>\n",
       "      <td>86.500000</td>\n",
       "    </tr>\n",
       "    <tr>\n",
       "      <td>39000</td>\n",
       "      <td>1.264400</td>\n",
       "      <td>0.795822</td>\n",
       "      <td>0.311806</td>\n",
       "      <td>84.220000</td>\n",
       "    </tr>\n",
       "    <tr>\n",
       "      <td>40000</td>\n",
       "      <td>1.235900</td>\n",
       "      <td>0.796523</td>\n",
       "      <td>0.318747</td>\n",
       "      <td>85.240000</td>\n",
       "    </tr>\n",
       "    <tr>\n",
       "      <td>41000</td>\n",
       "      <td>1.243300</td>\n",
       "      <td>0.796051</td>\n",
       "      <td>0.315118</td>\n",
       "      <td>84.580000</td>\n",
       "    </tr>\n",
       "    <tr>\n",
       "      <td>42000</td>\n",
       "      <td>1.260000</td>\n",
       "      <td>0.794373</td>\n",
       "      <td>0.310994</td>\n",
       "      <td>86.160000</td>\n",
       "    </tr>\n",
       "    <tr>\n",
       "      <td>43000</td>\n",
       "      <td>1.272900</td>\n",
       "      <td>0.792673</td>\n",
       "      <td>0.312895</td>\n",
       "      <td>84.100000</td>\n",
       "    </tr>\n",
       "    <tr>\n",
       "      <td>44000</td>\n",
       "      <td>1.261600</td>\n",
       "      <td>0.791305</td>\n",
       "      <td>0.312813</td>\n",
       "      <td>84.920000</td>\n",
       "    </tr>\n",
       "    <tr>\n",
       "      <td>45000</td>\n",
       "      <td>1.248200</td>\n",
       "      <td>0.791375</td>\n",
       "      <td>0.312108</td>\n",
       "      <td>85.600000</td>\n",
       "    </tr>\n",
       "  </tbody>\n",
       "</table><p>"
      ],
      "text/plain": [
       "<IPython.core.display.HTML object>"
      ]
     },
     "metadata": {},
     "output_type": "display_data"
    },
    {
     "name": "stderr",
     "output_type": "stream",
     "text": [
      "C:\\tempjeka\\anaconda3\\lib\\site-packages\\transformers\\generation\\utils.py:1219: UserWarning: You have modified the pretrained model configuration to control generation. This is a deprecated strategy to control generation and will be removed soon, in a future version. Please use a generation configuration file (see https://huggingface.co/docs/transformers/main_classes/text_generation)\n",
      "  warnings.warn(\n",
      "IOPub message rate exceeded.\n",
      "The notebook server will temporarily stop sending output\n",
      "to the client in order to avoid crashing it.\n",
      "To change this limit, set the config variable\n",
      "`--NotebookApp.iopub_msg_rate_limit`.\n",
      "\n",
      "Current values:\n",
      "NotebookApp.iopub_msg_rate_limit=1000.0 (msgs/sec)\n",
      "NotebookApp.rate_limit_window=3.0 (secs)\n",
      "\n",
      "IOPub message rate exceeded.\n",
      "The notebook server will temporarily stop sending output\n",
      "to the client in order to avoid crashing it.\n",
      "To change this limit, set the config variable\n",
      "`--NotebookApp.iopub_msg_rate_limit`.\n",
      "\n",
      "Current values:\n",
      "NotebookApp.iopub_msg_rate_limit=1000.0 (msgs/sec)\n",
      "NotebookApp.rate_limit_window=3.0 (secs)\n",
      "\n",
      "IOPub message rate exceeded.\n",
      "The notebook server will temporarily stop sending output\n",
      "to the client in order to avoid crashing it.\n",
      "To change this limit, set the config variable\n",
      "`--NotebookApp.iopub_msg_rate_limit`.\n",
      "\n",
      "Current values:\n",
      "NotebookApp.iopub_msg_rate_limit=1000.0 (msgs/sec)\n",
      "NotebookApp.rate_limit_window=3.0 (secs)\n",
      "\n"
     ]
    },
    {
     "data": {
      "text/plain": [
       "TrainOutput(global_step=45000, training_loss=2.0930444566514756, metrics={'train_runtime': 10583.3098, 'train_samples_per_second': 17.008, 'train_steps_per_second': 4.252, 'total_flos': 4253584720281600.0, 'train_loss': 2.0930444566514756, 'epoch': 4.0})"
      ]
     },
     "execution_count": 12,
     "metadata": {},
     "output_type": "execute_result"
    },
    {
     "data": {
      "application/javascript": [
       "\n",
       "            setTimeout(function() {\n",
       "                var nbb_cell_id = 12;\n",
       "                var nbb_unformatted_code = \"trainer.train()\";\n",
       "                var nbb_formatted_code = \"trainer.train()\";\n",
       "                var nbb_cells = Jupyter.notebook.get_cells();\n",
       "                for (var i = 0; i < nbb_cells.length; ++i) {\n",
       "                    if (nbb_cells[i].input_prompt_number == nbb_cell_id) {\n",
       "                        if (nbb_cells[i].get_text() == nbb_unformatted_code) {\n",
       "                             nbb_cells[i].set_text(nbb_formatted_code);\n",
       "                        }\n",
       "                        break;\n",
       "                    }\n",
       "                }\n",
       "            }, 500);\n",
       "            "
      ],
      "text/plain": [
       "<IPython.core.display.Javascript object>"
      ]
     },
     "metadata": {},
     "output_type": "display_data"
    }
   ],
   "source": [
    "trainer.train()"
   ]
  },
  {
   "cell_type": "code",
   "execution_count": 13,
   "id": "077a277c",
   "metadata": {},
   "outputs": [
    {
     "data": {
      "application/javascript": [
       "\n",
       "            setTimeout(function() {\n",
       "                var nbb_cell_id = 13;\n",
       "                var nbb_unformatted_code = \"model.save_pretrained(model_name)\";\n",
       "                var nbb_formatted_code = \"model.save_pretrained(model_name)\";\n",
       "                var nbb_cells = Jupyter.notebook.get_cells();\n",
       "                for (var i = 0; i < nbb_cells.length; ++i) {\n",
       "                    if (nbb_cells[i].input_prompt_number == nbb_cell_id) {\n",
       "                        if (nbb_cells[i].get_text() == nbb_unformatted_code) {\n",
       "                             nbb_cells[i].set_text(nbb_formatted_code);\n",
       "                        }\n",
       "                        break;\n",
       "                    }\n",
       "                }\n",
       "            }, 500);\n",
       "            "
      ],
      "text/plain": [
       "<IPython.core.display.Javascript object>"
      ]
     },
     "metadata": {},
     "output_type": "display_data"
    }
   ],
   "source": [
    "model.save_pretrained(model_name)"
   ]
  },
  {
   "cell_type": "code",
   "execution_count": 7,
   "id": "6bd470bf",
   "metadata": {},
   "outputs": [
    {
     "data": {
      "application/javascript": [
       "\n",
       "            setTimeout(function() {\n",
       "                var nbb_cell_id = 7;\n",
       "                var nbb_unformatted_code = \"model = EncoderDecoderModel.from_pretrained(model_name)\";\n",
       "                var nbb_formatted_code = \"model = EncoderDecoderModel.from_pretrained(model_name)\";\n",
       "                var nbb_cells = Jupyter.notebook.get_cells();\n",
       "                for (var i = 0; i < nbb_cells.length; ++i) {\n",
       "                    if (nbb_cells[i].input_prompt_number == nbb_cell_id) {\n",
       "                        if (nbb_cells[i].get_text() == nbb_unformatted_code) {\n",
       "                             nbb_cells[i].set_text(nbb_formatted_code);\n",
       "                        }\n",
       "                        break;\n",
       "                    }\n",
       "                }\n",
       "            }, 500);\n",
       "            "
      ],
      "text/plain": [
       "<IPython.core.display.Javascript object>"
      ]
     },
     "metadata": {},
     "output_type": "display_data"
    }
   ],
   "source": [
    "model = EncoderDecoderModel.from_pretrained(model_name)"
   ]
  },
  {
   "cell_type": "code",
   "execution_count": 15,
   "id": "7c9c1727",
   "metadata": {},
   "outputs": [
    {
     "data": {
      "application/vnd.jupyter.widget-view+json": {
       "model_id": "",
       "version_major": 2,
       "version_minor": 0
      },
      "text/plain": [
       "Map:   0%|          | 0/4950 [00:00<?, ? examples/s]"
      ]
     },
     "metadata": {},
     "output_type": "display_data"
    },
    {
     "data": {
      "application/javascript": [
       "\n",
       "            setTimeout(function() {\n",
       "                var nbb_cell_id = 15;\n",
       "                var nbb_unformatted_code = \"metric = evaluate.load(\\\"bleu\\\")\\nmodel.cuda()\\nmodel.eval()\\nwith torch.no_grad():\\n    dataset[\\\"test\\\"].map(\\n        partial(\\n            compute_metrics_test,\\n            model,\\n            DataCollatorWithPadding(enc_tokenizer),\\n            dec_tokenizer,\\n            metric,\\n            log=False,\\n        ),\\n        batched=True,\\n        batch_size=batch_size,\\n    )\";\n",
       "                var nbb_formatted_code = \"metric = evaluate.load(\\\"bleu\\\")\\nmodel.cuda()\\nmodel.eval()\\nwith torch.no_grad():\\n    dataset[\\\"test\\\"].map(\\n        partial(\\n            compute_metrics_test,\\n            model,\\n            DataCollatorWithPadding(enc_tokenizer),\\n            dec_tokenizer,\\n            metric,\\n            log=False,\\n        ),\\n        batched=True,\\n        batch_size=batch_size,\\n    )\";\n",
       "                var nbb_cells = Jupyter.notebook.get_cells();\n",
       "                for (var i = 0; i < nbb_cells.length; ++i) {\n",
       "                    if (nbb_cells[i].input_prompt_number == nbb_cell_id) {\n",
       "                        if (nbb_cells[i].get_text() == nbb_unformatted_code) {\n",
       "                             nbb_cells[i].set_text(nbb_formatted_code);\n",
       "                        }\n",
       "                        break;\n",
       "                    }\n",
       "                }\n",
       "            }, 500);\n",
       "            "
      ],
      "text/plain": [
       "<IPython.core.display.Javascript object>"
      ]
     },
     "metadata": {},
     "output_type": "display_data"
    }
   ],
   "source": [
    "metric = evaluate.load(\"bleu\")\n",
    "model.cuda()\n",
    "model.eval()\n",
    "with torch.no_grad():\n",
    "    dataset[\"test\"].map(\n",
    "        partial(\n",
    "            compute_metrics_test,\n",
    "            model,\n",
    "            DataCollatorWithPadding(enc_tokenizer),\n",
    "            dec_tokenizer,\n",
    "            metric,\n",
    "            log=False,\n",
    "        ),\n",
    "        batched=True,\n",
    "        batch_size=batch_size,\n",
    "    )"
   ]
  },
  {
   "cell_type": "code",
   "execution_count": 16,
   "id": "02cdeb75",
   "metadata": {},
   "outputs": [
    {
     "data": {
      "text/plain": [
       "{'bleu': 0.2802308261876972,\n",
       " 'precisions': [0.5835117292175033,\n",
       "  0.37066080292324854,\n",
       "  0.26366016977451273,\n",
       "  0.18787657125257465],\n",
       " 'brevity_penalty': 0.8710238680265673,\n",
       " 'length_ratio': 0.8786682977519961,\n",
       " 'translation_length': 66799,\n",
       " 'reference_length': 76023}"
      ]
     },
     "execution_count": 16,
     "metadata": {},
     "output_type": "execute_result"
    },
    {
     "data": {
      "application/javascript": [
       "\n",
       "            setTimeout(function() {\n",
       "                var nbb_cell_id = 16;\n",
       "                var nbb_unformatted_code = \"metric.compute()\";\n",
       "                var nbb_formatted_code = \"metric.compute()\";\n",
       "                var nbb_cells = Jupyter.notebook.get_cells();\n",
       "                for (var i = 0; i < nbb_cells.length; ++i) {\n",
       "                    if (nbb_cells[i].input_prompt_number == nbb_cell_id) {\n",
       "                        if (nbb_cells[i].get_text() == nbb_unformatted_code) {\n",
       "                             nbb_cells[i].set_text(nbb_formatted_code);\n",
       "                        }\n",
       "                        break;\n",
       "                    }\n",
       "                }\n",
       "            }, 500);\n",
       "            "
      ],
      "text/plain": [
       "<IPython.core.display.Javascript object>"
      ]
     },
     "metadata": {},
     "output_type": "display_data"
    }
   ],
   "source": [
    "metric.compute()"
   ]
  },
  {
   "cell_type": "code",
   "execution_count": 14,
   "id": "996e4891",
   "metadata": {},
   "outputs": [
    {
     "data": {
      "application/vnd.jupyter.widget-view+json": {
       "model_id": "",
       "version_major": 2,
       "version_minor": 0
      },
      "text/plain": [
       "Map:   0%|          | 0/16 [00:00<?, ? examples/s]"
      ]
     },
     "metadata": {},
     "output_type": "display_data"
    },
    {
     "name": "stderr",
     "output_type": "stream",
     "text": [
      "C:\\tempjeka\\anaconda3\\lib\\site-packages\\transformers\\generation\\utils.py:1313: UserWarning: Using `max_length`'s default (512) to control the generation length. This behaviour is deprecated and will be removed from the config in v5 of Transformers -- we recommend using `max_new_tokens` to control the maximum length of the generation.\n",
      "  warnings.warn(\n"
     ]
    },
    {
     "data": {
      "text/plain": [
       "[{'input': 'Bed linen is featured.',\n",
       "  'target': ['Предоставляется постельное белье.'],\n",
       "  'preds': 'Предоставляется постельное белье.'},\n",
       " {'input': 'A fitness room is also available.',\n",
       "  'target': ['Кроме того, к услугам фитнес-зал.'],\n",
       "  'preds': 'В распоряжении гостей фитнес-зал.'},\n",
       " {'input': 'Free parking is available in the garden',\n",
       "  'target': ['Гостям предоставляется бесплатная парковка в саду.'],\n",
       "  'preds': 'На территории отеля обустроена бесплатная парковка.'},\n",
       " {'input': 'The property offers free parking.',\n",
       "  'target': ['На территории дома для отпуска обустроена бесплатная парковка.'],\n",
       "  'preds': 'На территории обустроена бесплатная парковка.'}]"
      ]
     },
     "metadata": {},
     "output_type": "display_data"
    },
    {
     "data": {
      "text/plain": [
       "[{'input': 'Guests benefit from balcony.',\n",
       "  'target': ['К услугам гостей балкон.'],\n",
       "  'preds': 'Гости могут воспользоваться балконом.'},\n",
       " {'input': 'A business centre is also available.',\n",
       "  'target': ['На территории работает бизнес-центр.'],\n",
       "  'preds': 'Кроме того, в распоряжении гостей бизнес-центр.'},\n",
       " {'input': 'The property offers free parking.',\n",
       "  'target': ['Гостям апартаментов предоставляется бесплатная парковка.'],\n",
       "  'preds': 'На территории обустроена бесплатная парковка.'},\n",
       " {'input': 'The property offers free parking.',\n",
       "  'target': ['Гостям доступна бесплатная парковка.'],\n",
       "  'preds': 'На территории обустроена бесплатная парковка.'}]"
      ]
     },
     "metadata": {},
     "output_type": "display_data"
    },
    {
     "data": {
      "text/plain": [
       "[{'input': 'Some units are split level.',\n",
       "  'target': ['Некоторые апартаменты занимают 2 этажа.'],\n",
       "  'preds': 'В некоторых апартаментах имеется отдельная зона.'},\n",
       " {'input': 'The property offers free parking.',\n",
       "  'target': ['Предоставляется бесплатная парковка.'],\n",
       "  'preds': 'На территории обустроена бесплатная парковка.'},\n",
       " {'input': 'It offers free WiFi access.',\n",
       "  'target': ['К услугам гостей апартаменты с 2 спальнями и бесплатным WiFi.'],\n",
       "  'preds': 'К услугам гостей бесплатный Wi-Fi.'},\n",
       " {'input': 'The lobby is open 24 hours.',\n",
       "  'target': ['Вестибюль отеля открыт круглосуточно.'],\n",
       "  'preds': 'На круглосуточной стойке регистрации работает лобби.'}]"
      ]
     },
     "metadata": {},
     "output_type": "display_data"
    },
    {
     "data": {
      "text/plain": [
       "[{'input': 'Massages are available on request.',\n",
       "  'target': ['Также можно заказать различные виды массажа.'],\n",
       "  'preds': 'По запросу предоставляются массажные процедуры.'},\n",
       " {'input': 'The property offers free parking.',\n",
       "  'target': ['На территории дома предоставляется бесплатная парковка.'],\n",
       "  'preds': 'На территории обустроена бесплатная парковка.'},\n",
       " {'input': 'The property offers free parking.',\n",
       "  'target': ['Гостям предоставляется бесплатная парковка.'],\n",
       "  'preds': 'На территории обустроена бесплатная парковка.'},\n",
       " {'input': 'The property offers free parking.',\n",
       "  'target': ['На территории апартаментов обустроена бесплатная парковка.'],\n",
       "  'preds': 'На территории обустроена бесплатная парковка.'}]"
      ]
     },
     "metadata": {},
     "output_type": "display_data"
    },
    {
     "data": {
      "text/plain": [
       "{'bleu': 0.2014668239611586,\n",
       " 'precisions': [0.4948453608247423,\n",
       "  0.3333333333333333,\n",
       "  0.18461538461538463,\n",
       "  0.061224489795918366],\n",
       " 'brevity_penalty': 0.9695455377552523,\n",
       " 'length_ratio': 0.97,\n",
       " 'translation_length': 97,\n",
       " 'reference_length': 100}"
      ]
     },
     "execution_count": 14,
     "metadata": {},
     "output_type": "execute_result"
    },
    {
     "data": {
      "application/javascript": [
       "\n",
       "            setTimeout(function() {\n",
       "                var nbb_cell_id = 14;\n",
       "                var nbb_unformatted_code = \"metric = evaluate.load(\\\"bleu\\\")\\nmodel.cuda()\\nmodel.eval()\\n_idx = 100\\nwith torch.no_grad():\\n    dataset[\\\"test\\\"].select(range(_idx, _idx + 16)).map(\\n        partial(\\n            compute_metrics_test,\\n            model,\\n            DataCollatorWithPadding(enc_tokenizer),\\n            dec_tokenizer,\\n            metric,\\n            log=True,\\n        ),\\n        batched=True,\\n        batch_size=batch_size,\\n    )\\nmetric.compute()\";\n",
       "                var nbb_formatted_code = \"metric = evaluate.load(\\\"bleu\\\")\\nmodel.cuda()\\nmodel.eval()\\n_idx = 100\\nwith torch.no_grad():\\n    dataset[\\\"test\\\"].select(range(_idx, _idx + 16)).map(\\n        partial(\\n            compute_metrics_test,\\n            model,\\n            DataCollatorWithPadding(enc_tokenizer),\\n            dec_tokenizer,\\n            metric,\\n            log=True,\\n        ),\\n        batched=True,\\n        batch_size=batch_size,\\n    )\\nmetric.compute()\";\n",
       "                var nbb_cells = Jupyter.notebook.get_cells();\n",
       "                for (var i = 0; i < nbb_cells.length; ++i) {\n",
       "                    if (nbb_cells[i].input_prompt_number == nbb_cell_id) {\n",
       "                        if (nbb_cells[i].get_text() == nbb_unformatted_code) {\n",
       "                             nbb_cells[i].set_text(nbb_formatted_code);\n",
       "                        }\n",
       "                        break;\n",
       "                    }\n",
       "                }\n",
       "            }, 500);\n",
       "            "
      ],
      "text/plain": [
       "<IPython.core.display.Javascript object>"
      ]
     },
     "metadata": {},
     "output_type": "display_data"
    }
   ],
   "source": [
    "metric = evaluate.load(\"bleu\")\n",
    "model.cuda()\n",
    "model.eval()\n",
    "_idx = 100\n",
    "with torch.no_grad():\n",
    "    dataset[\"test\"].select(range(_idx, _idx + 16)).map(\n",
    "        partial(\n",
    "            compute_metrics_test,\n",
    "            model,\n",
    "            DataCollatorWithPadding(enc_tokenizer),\n",
    "            dec_tokenizer,\n",
    "            metric,\n",
    "            log=True,\n",
    "        ),\n",
    "        batched=True,\n",
    "        batch_size=batch_size,\n",
    "    )\n",
    "metric.compute()"
   ]
  },
  {
   "attachments": {
    "image-13.png": {
     "image/png": "[encoded data removed]"
    },
    "image-14.png": {
     "image/png": "[encoded data removed]"
    }
   },
   "cell_type": "markdown",
   "id": "676aa8e4",
   "metadata": {},
   "source": [
    "![image-13.png](attachment:image-13.png) ![image-14.png](attachment:image-14.png)"
   ]
  }
 ],
 "metadata": {
  "kernelspec": {
   "display_name": "Python 3 (ipykernel)",
   "language": "python",
   "name": "python3"
  },
  "language_info": {
   "codemirror_mode": {
    "name": "ipython",
    "version": 3
   },
   "file_extension": ".py",
   "mimetype": "text/x-python",
   "name": "python",
   "nbconvert_exporter": "python",
   "pygments_lexer": "ipython3",
   "version": "3.10.9"
  }
 },
 "nbformat": 4,
 "nbformat_minor": 5
}
