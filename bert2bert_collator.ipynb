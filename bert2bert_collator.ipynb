{
 "cells": [
  {
   "cell_type": "code",
   "execution_count": 1,
   "id": "c7a27d0a",
   "metadata": {},
   "outputs": [
    {
     "data": {
      "application/javascript": [
       "\n",
       "            setTimeout(function() {\n",
       "                var nbb_cell_id = 1;\n",
       "                var nbb_unformatted_code = \"%load_ext nb_black\";\n",
       "                var nbb_formatted_code = \"%load_ext nb_black\";\n",
       "                var nbb_cells = Jupyter.notebook.get_cells();\n",
       "                for (var i = 0; i < nbb_cells.length; ++i) {\n",
       "                    if (nbb_cells[i].input_prompt_number == nbb_cell_id) {\n",
       "                        if (nbb_cells[i].get_text() == nbb_unformatted_code) {\n",
       "                             nbb_cells[i].set_text(nbb_formatted_code);\n",
       "                        }\n",
       "                        break;\n",
       "                    }\n",
       "                }\n",
       "            }, 500);\n",
       "            "
      ],
      "text/plain": [
       "<IPython.core.display.Javascript object>"
      ]
     },
     "metadata": {},
     "output_type": "display_data"
    }
   ],
   "source": [
    "%load_ext nb_black"
   ]
  },
  {
   "cell_type": "code",
   "execution_count": 2,
   "id": "e507e35b",
   "metadata": {},
   "outputs": [
    {
     "name": "stderr",
     "output_type": "stream",
     "text": [
      "Found cached dataset generator (C:/tempjeka/cache/huggingface/generator/default-f628ff2f2d994b84/0.0.0)\n",
      "Loading cached split indices for dataset at C:\\tempjeka\\cache\\huggingface\\generator\\default-f628ff2f2d994b84\\0.0.0\\cache-a84cfc0a0e11ed54.arrow and C:\\tempjeka\\cache\\huggingface\\generator\\default-f628ff2f2d994b84\\0.0.0\\cache-665145fe0a5a6a51.arrow\n",
      "Loading cached split indices for dataset at C:\\tempjeka\\cache\\huggingface\\generator\\default-f628ff2f2d994b84\\0.0.0\\cache-e104a2bffe25c7fa.arrow and C:\\tempjeka\\cache\\huggingface\\generator\\default-f628ff2f2d994b84\\0.0.0\\cache-4096519e2393e19f.arrow\n"
     ]
    },
    {
     "data": {
      "application/javascript": [
       "\n",
       "            setTimeout(function() {\n",
       "                var nbb_cell_id = 2;\n",
       "                var nbb_unformatted_code = \"from src.env import *\\nfrom src.imports import *\\nfrom src.config import *\\nfrom src.dataset import *\\nfrom src.metric import *\";\n",
       "                var nbb_formatted_code = \"from src.env import *\\nfrom src.imports import *\\nfrom src.config import *\\nfrom src.dataset import *\\nfrom src.metric import *\";\n",
       "                var nbb_cells = Jupyter.notebook.get_cells();\n",
       "                for (var i = 0; i < nbb_cells.length; ++i) {\n",
       "                    if (nbb_cells[i].input_prompt_number == nbb_cell_id) {\n",
       "                        if (nbb_cells[i].get_text() == nbb_unformatted_code) {\n",
       "                             nbb_cells[i].set_text(nbb_formatted_code);\n",
       "                        }\n",
       "                        break;\n",
       "                    }\n",
       "                }\n",
       "            }, 500);\n",
       "            "
      ],
      "text/plain": [
       "<IPython.core.display.Javascript object>"
      ]
     },
     "metadata": {},
     "output_type": "display_data"
    }
   ],
   "source": [
    "from src.env import *\n",
    "from src.imports import *\n",
    "from src.config import *\n",
    "from src.dataset import *\n",
    "from src.metric import *"
   ]
  },
  {
   "cell_type": "code",
   "execution_count": 3,
   "id": "83d3db35",
   "metadata": {},
   "outputs": [
    {
     "data": {
      "application/javascript": [
       "\n",
       "            setTimeout(function() {\n",
       "                var nbb_cell_id = 3;\n",
       "                var nbb_unformatted_code = \"enc_name = \\\"microsoft/deberta-v3-base\\\"\\ndec_name = \\\"bert-base-multilingual-cased\\\"\\nmodel_name = \\\"bert2bert_collator\\\"\";\n",
       "                var nbb_formatted_code = \"enc_name = \\\"microsoft/deberta-v3-base\\\"\\ndec_name = \\\"bert-base-multilingual-cased\\\"\\nmodel_name = \\\"bert2bert_collator\\\"\";\n",
       "                var nbb_cells = Jupyter.notebook.get_cells();\n",
       "                for (var i = 0; i < nbb_cells.length; ++i) {\n",
       "                    if (nbb_cells[i].input_prompt_number == nbb_cell_id) {\n",
       "                        if (nbb_cells[i].get_text() == nbb_unformatted_code) {\n",
       "                             nbb_cells[i].set_text(nbb_formatted_code);\n",
       "                        }\n",
       "                        break;\n",
       "                    }\n",
       "                }\n",
       "            }, 500);\n",
       "            "
      ],
      "text/plain": [
       "<IPython.core.display.Javascript object>"
      ]
     },
     "metadata": {},
     "output_type": "display_data"
    }
   ],
   "source": [
    "enc_name = \"microsoft/deberta-v3-base\"\n",
    "dec_name = \"bert-base-multilingual-cased\"\n",
    "model_name = \"bert2bert_collator\""
   ]
  },
  {
   "cell_type": "code",
   "execution_count": 4,
   "id": "56ccf276",
   "metadata": {},
   "outputs": [
    {
     "name": "stderr",
     "output_type": "stream",
     "text": [
      "Special tokens have been added in the vocabulary, make sure the associated word embeddings are fine-tuned or trained.\n",
      "C:\\tempjeka\\anaconda3\\lib\\site-packages\\transformers\\convert_slow_tokenizer.py:454: UserWarning: The sentencepiece tokenizer that you are converting to a fast tokenizer uses the byte fallback option which is not implemented in the fast tokenizers. In practice this means that the fast version of the tokenizer can produce unknown tokens whereas the sentencepiece version would have converted these unknown tokens into a sequence of byte tokens matching the original piece of text.\n",
      "  warnings.warn(\n",
      "Special tokens have been added in the vocabulary, make sure the associated word embeddings are fine-tuned or trained.\n"
     ]
    },
    {
     "data": {
      "application/javascript": [
       "\n",
       "            setTimeout(function() {\n",
       "                var nbb_cell_id = 4;\n",
       "                var nbb_unformatted_code = \"enc_tokenizer = AutoTokenizer.from_pretrained(enc_name)\\nenc_tokenizer.bos_token = enc_tokenizer.cls_token\\nenc_tokenizer.eos_token = enc_tokenizer.sep_token\";\n",
       "                var nbb_formatted_code = \"enc_tokenizer = AutoTokenizer.from_pretrained(enc_name)\\nenc_tokenizer.bos_token = enc_tokenizer.cls_token\\nenc_tokenizer.eos_token = enc_tokenizer.sep_token\";\n",
       "                var nbb_cells = Jupyter.notebook.get_cells();\n",
       "                for (var i = 0; i < nbb_cells.length; ++i) {\n",
       "                    if (nbb_cells[i].input_prompt_number == nbb_cell_id) {\n",
       "                        if (nbb_cells[i].get_text() == nbb_unformatted_code) {\n",
       "                             nbb_cells[i].set_text(nbb_formatted_code);\n",
       "                        }\n",
       "                        break;\n",
       "                    }\n",
       "                }\n",
       "            }, 500);\n",
       "            "
      ],
      "text/plain": [
       "<IPython.core.display.Javascript object>"
      ]
     },
     "metadata": {},
     "output_type": "display_data"
    }
   ],
   "source": [
    "enc_tokenizer = AutoTokenizer.from_pretrained(enc_name)\n",
    "enc_tokenizer.bos_token = enc_tokenizer.cls_token\n",
    "enc_tokenizer.eos_token = enc_tokenizer.sep_token"
   ]
  },
  {
   "cell_type": "code",
   "execution_count": 5,
   "id": "a088a0ee",
   "metadata": {},
   "outputs": [
    {
     "data": {
      "application/javascript": [
       "\n",
       "            setTimeout(function() {\n",
       "                var nbb_cell_id = 5;\n",
       "                var nbb_unformatted_code = \"dec_tokenizer = AutoTokenizer.from_pretrained(dec_name)\\ndec_tokenizer.bos_token = enc_tokenizer.cls_token\\ndec_tokenizer.eos_token = enc_tokenizer.sep_token\";\n",
       "                var nbb_formatted_code = \"dec_tokenizer = AutoTokenizer.from_pretrained(dec_name)\\ndec_tokenizer.bos_token = enc_tokenizer.cls_token\\ndec_tokenizer.eos_token = enc_tokenizer.sep_token\";\n",
       "                var nbb_cells = Jupyter.notebook.get_cells();\n",
       "                for (var i = 0; i < nbb_cells.length; ++i) {\n",
       "                    if (nbb_cells[i].input_prompt_number == nbb_cell_id) {\n",
       "                        if (nbb_cells[i].get_text() == nbb_unformatted_code) {\n",
       "                             nbb_cells[i].set_text(nbb_formatted_code);\n",
       "                        }\n",
       "                        break;\n",
       "                    }\n",
       "                }\n",
       "            }, 500);\n",
       "            "
      ],
      "text/plain": [
       "<IPython.core.display.Javascript object>"
      ]
     },
     "metadata": {},
     "output_type": "display_data"
    }
   ],
   "source": [
    "dec_tokenizer = AutoTokenizer.from_pretrained(dec_name)\n",
    "dec_tokenizer.bos_token = enc_tokenizer.cls_token\n",
    "dec_tokenizer.eos_token = enc_tokenizer.sep_token"
   ]
  },
  {
   "cell_type": "code",
   "execution_count": 41,
   "id": "f27d3e62",
   "metadata": {},
   "outputs": [
    {
     "name": "stderr",
     "output_type": "stream",
     "text": [
      "WARNING:datasets.builder:Found cached dataset generator (C:/tempjeka/cache/huggingface/generator/default-767371da39831d3f/0.0.0)\n",
      "WARNING:datasets.arrow_dataset:Loading cached split indices for dataset at C:\\tempjeka\\cache\\huggingface\\generator\\default-767371da39831d3f\\0.0.0\\cache-2bc43e4e0bf51de8.arrow and C:\\tempjeka\\cache\\huggingface\\generator\\default-767371da39831d3f\\0.0.0\\cache-73046e8eaf8c1e7b.arrow\n",
      "WARNING:datasets.arrow_dataset:Loading cached split indices for dataset at C:\\tempjeka\\cache\\huggingface\\generator\\default-767371da39831d3f\\0.0.0\\cache-7efd07f77572c675.arrow and C:\\tempjeka\\cache\\huggingface\\generator\\default-767371da39831d3f\\0.0.0\\cache-4574daa2113cb700.arrow\n",
      "WARNING:datasets.arrow_dataset:Loading cached processed dataset at C:\\tempjeka\\cache\\huggingface\\generator\\default-767371da39831d3f\\0.0.0\\cache-045c9cd93f264e7b.arrow\n",
      "WARNING:datasets.arrow_dataset:Loading cached processed dataset at C:\\tempjeka\\cache\\huggingface\\generator\\default-767371da39831d3f\\0.0.0\\cache-984291f080b33726.arrow\n",
      "WARNING:datasets.arrow_dataset:Loading cached processed dataset at C:\\tempjeka\\cache\\huggingface\\generator\\default-767371da39831d3f\\0.0.0\\cache-0f41b7fde137e8d6.arrow\n"
     ]
    },
    {
     "data": {
      "application/javascript": [
       "\n",
       "            setTimeout(function() {\n",
       "                var nbb_cell_id = 41;\n",
       "                var nbb_unformatted_code = \"def dataset_convert_csv():\\n    with open(en_ru_data_path, encoding=\\\"utf8\\\") as f:\\n        lines = f.readlines()\\n    for line in lines:\\n        en, ru = line.split(\\\"\\\\t\\\")\\n        yield dict(translation=dict(en=en, ru=ru))\\n\\n\\ntest = Dataset.from_generator(\\n    dataset_convert_csv, cache_dir=os.environ[\\\"HF_DATASETS_CACHE\\\"]\\n).train_test_split(0.1, seed=0)\\nval = test[\\\"test\\\"].train_test_split(0.99, seed=0)\\n\\n\\ndef create_dataset(\\n    enc_tokenizer: AutoTokenizer, dec_tokenizer: AutoTokenizer | None = None\\n) -> Dataset:\\n    if dec_tokenizer is None:\\n        dec_tokenizer = enc_tokenizer\\n\\n    def preprocess_function(batch):\\n        inputs = enc_tokenizer(\\n            [(prefix + ex[source_lang]).strip() for ex in batch[\\\"translation\\\"]]\\n        )\\n        outputs = dec_tokenizer(\\n            [ex[target_lang].strip() for ex in batch[\\\"translation\\\"]]\\n        )\\n\\n        batch[\\\"input_ids\\\"] = inputs.input_ids\\n        batch[\\\"attention_mask\\\"] = inputs.attention_mask\\n        batch[\\\"labels\\\"] = outputs.input_ids.copy()\\n\\n        batch[\\\"input_ids_length\\\"] = [len(row) for row in batch[\\\"input_ids\\\"]]\\n        batch[\\\"labels_length\\\"] = [len(row) for row in batch[\\\"labels\\\"]]\\n\\n        return batch\\n\\n    dataset = DatasetDict(\\n        dict(train=test[\\\"train\\\"], val=val[\\\"train\\\"], test=val[\\\"test\\\"])\\n    ).map(preprocess_function, batched=True, batch_size=batch_size)\\n    dataset.set_format(\\n        type=\\\"torch\\\",\\n        columns=[\\\"input_ids\\\", \\\"attention_mask\\\", \\\"labels\\\"],\\n    )\\n    return dataset\\n\\n\\ndataset = create_dataset(enc_tokenizer, dec_tokenizer)#.sort(\\\"input_ids_length\\\")\\n# DataCollatorForSeq2Seq(enc_tokenizer)([dataset[\\\"train\\\"][i] for i in range(0, 4)])\";\n",
       "                var nbb_formatted_code = \"def dataset_convert_csv():\\n    with open(en_ru_data_path, encoding=\\\"utf8\\\") as f:\\n        lines = f.readlines()\\n    for line in lines:\\n        en, ru = line.split(\\\"\\\\t\\\")\\n        yield dict(translation=dict(en=en, ru=ru))\\n\\n\\ntest = Dataset.from_generator(\\n    dataset_convert_csv, cache_dir=os.environ[\\\"HF_DATASETS_CACHE\\\"]\\n).train_test_split(0.1, seed=0)\\nval = test[\\\"test\\\"].train_test_split(0.99, seed=0)\\n\\n\\ndef create_dataset(\\n    enc_tokenizer: AutoTokenizer, dec_tokenizer: AutoTokenizer | None = None\\n) -> Dataset:\\n    if dec_tokenizer is None:\\n        dec_tokenizer = enc_tokenizer\\n\\n    def preprocess_function(batch):\\n        inputs = enc_tokenizer(\\n            [(prefix + ex[source_lang]).strip() for ex in batch[\\\"translation\\\"]]\\n        )\\n        outputs = dec_tokenizer(\\n            [ex[target_lang].strip() for ex in batch[\\\"translation\\\"]]\\n        )\\n\\n        batch[\\\"input_ids\\\"] = inputs.input_ids\\n        batch[\\\"attention_mask\\\"] = inputs.attention_mask\\n        batch[\\\"labels\\\"] = outputs.input_ids.copy()\\n\\n        batch[\\\"input_ids_length\\\"] = [len(row) for row in batch[\\\"input_ids\\\"]]\\n        batch[\\\"labels_length\\\"] = [len(row) for row in batch[\\\"labels\\\"]]\\n\\n        return batch\\n\\n    dataset = DatasetDict(\\n        dict(train=test[\\\"train\\\"], val=val[\\\"train\\\"], test=val[\\\"test\\\"])\\n    ).map(preprocess_function, batched=True, batch_size=batch_size)\\n    dataset.set_format(\\n        type=\\\"torch\\\",\\n        columns=[\\\"input_ids\\\", \\\"attention_mask\\\", \\\"labels\\\"],\\n    )\\n    return dataset\\n\\n\\ndataset = create_dataset(enc_tokenizer, dec_tokenizer)  # .sort(\\\"input_ids_length\\\")\\n# DataCollatorForSeq2Seq(enc_tokenizer)([dataset[\\\"train\\\"][i] for i in range(0, 4)])\";\n",
       "                var nbb_cells = Jupyter.notebook.get_cells();\n",
       "                for (var i = 0; i < nbb_cells.length; ++i) {\n",
       "                    if (nbb_cells[i].input_prompt_number == nbb_cell_id) {\n",
       "                        if (nbb_cells[i].get_text() == nbb_unformatted_code) {\n",
       "                             nbb_cells[i].set_text(nbb_formatted_code);\n",
       "                        }\n",
       "                        break;\n",
       "                    }\n",
       "                }\n",
       "            }, 500);\n",
       "            "
      ],
      "text/plain": [
       "<IPython.core.display.Javascript object>"
      ]
     },
     "metadata": {},
     "output_type": "display_data"
    }
   ],
   "source": [
    "dataset = create_dataset(enc_tokenizer, dec_tokenizer).sort(\"input_ids_length\")\n",
    "# DataCollatorForSeq2Seq(enc_tokenizer)([dataset[\"train\"][i] for i in range(0, 4)])"
   ]
  },
  {
   "cell_type": "code",
   "execution_count": 7,
   "id": "c222954f",
   "metadata": {
    "scrolled": true
   },
   "outputs": [
    {
     "name": "stderr",
     "output_type": "stream",
     "text": [
      "Some weights of the model checkpoint at microsoft/deberta-v3-base were not used when initializing DebertaV2Model: ['lm_predictions.lm_head.dense.weight', 'mask_predictions.classifier.bias', 'lm_predictions.lm_head.bias', 'lm_predictions.lm_head.LayerNorm.bias', 'lm_predictions.lm_head.LayerNorm.weight', 'mask_predictions.dense.bias', 'mask_predictions.dense.weight', 'mask_predictions.LayerNorm.weight', 'mask_predictions.LayerNorm.bias', 'lm_predictions.lm_head.dense.bias', 'mask_predictions.classifier.weight']\n",
      "- This IS expected if you are initializing DebertaV2Model from the checkpoint of a model trained on another task or with another architecture (e.g. initializing a BertForSequenceClassification model from a BertForPreTraining model).\n",
      "- This IS NOT expected if you are initializing DebertaV2Model from the checkpoint of a model that you expect to be exactly identical (initializing a BertForSequenceClassification model from a BertForSequenceClassification model).\n",
      "Some weights of the model checkpoint at bert-base-multilingual-cased were not used when initializing BertLMHeadModel: ['cls.seq_relationship.bias', 'cls.seq_relationship.weight']\n",
      "- This IS expected if you are initializing BertLMHeadModel from the checkpoint of a model trained on another task or with another architecture (e.g. initializing a BertForSequenceClassification model from a BertForPreTraining model).\n",
      "- This IS NOT expected if you are initializing BertLMHeadModel from the checkpoint of a model that you expect to be exactly identical (initializing a BertForSequenceClassification model from a BertForSequenceClassification model).\n",
      "Some weights of BertLMHeadModel were not initialized from the model checkpoint at bert-base-multilingual-cased and are newly initialized: ['bert.encoder.layer.3.crossattention.self.query.weight', 'bert.encoder.layer.0.crossattention.self.query.weight', 'bert.encoder.layer.3.crossattention.output.dense.bias', 'bert.encoder.layer.1.crossattention.self.key.bias', 'bert.encoder.layer.2.crossattention.self.query.bias', 'bert.encoder.layer.3.crossattention.output.LayerNorm.weight', 'bert.encoder.layer.6.crossattention.self.value.bias', 'bert.encoder.layer.2.crossattention.output.LayerNorm.bias', 'bert.encoder.layer.5.crossattention.output.LayerNorm.weight', 'bert.encoder.layer.11.crossattention.output.LayerNorm.weight', 'bert.encoder.layer.10.crossattention.self.value.weight', 'bert.encoder.layer.1.crossattention.output.dense.weight', 'bert.encoder.layer.11.crossattention.output.dense.weight', 'bert.encoder.layer.0.crossattention.output.LayerNorm.bias', 'bert.encoder.layer.11.crossattention.self.key.weight', 'bert.encoder.layer.4.crossattention.output.LayerNorm.bias', 'bert.encoder.layer.1.crossattention.output.dense.bias', 'bert.encoder.layer.7.crossattention.output.LayerNorm.weight', 'bert.encoder.layer.3.crossattention.self.key.weight', 'bert.encoder.layer.10.crossattention.output.LayerNorm.weight', 'bert.encoder.layer.6.crossattention.self.value.weight', 'bert.encoder.layer.4.crossattention.self.query.weight', 'bert.encoder.layer.9.crossattention.output.dense.weight', 'bert.encoder.layer.5.crossattention.self.key.bias', 'bert.encoder.layer.9.crossattention.self.value.bias', 'bert.encoder.layer.5.crossattention.self.query.weight', 'bert.encoder.layer.9.crossattention.self.value.weight', 'bert.encoder.layer.1.crossattention.output.LayerNorm.bias', 'bert.encoder.layer.5.crossattention.output.dense.bias', 'bert.encoder.layer.4.crossattention.self.value.weight', 'bert.encoder.layer.8.crossattention.output.dense.bias', 'bert.encoder.layer.8.crossattention.output.LayerNorm.bias', 'bert.encoder.layer.1.crossattention.self.query.weight', 'bert.encoder.layer.3.crossattention.self.key.bias', 'bert.encoder.layer.6.crossattention.self.key.bias', 'bert.encoder.layer.7.crossattention.output.dense.bias', 'bert.encoder.layer.9.crossattention.self.query.bias', 'bert.encoder.layer.11.crossattention.self.value.weight', 'bert.encoder.layer.10.crossattention.self.key.weight', 'bert.encoder.layer.0.crossattention.self.value.weight', 'bert.encoder.layer.10.crossattention.output.LayerNorm.bias', 'bert.encoder.layer.2.crossattention.self.key.bias', 'bert.encoder.layer.3.crossattention.output.dense.weight', 'bert.encoder.layer.4.crossattention.output.LayerNorm.weight', 'bert.encoder.layer.0.crossattention.self.key.bias', 'bert.encoder.layer.6.crossattention.self.query.bias', 'bert.encoder.layer.5.crossattention.self.value.weight', 'bert.encoder.layer.5.crossattention.output.LayerNorm.bias', 'bert.encoder.layer.8.crossattention.self.key.weight', 'bert.encoder.layer.8.crossattention.self.value.bias', 'bert.encoder.layer.7.crossattention.output.dense.weight', 'bert.encoder.layer.2.crossattention.self.value.bias', 'bert.encoder.layer.4.crossattention.self.key.weight', 'bert.encoder.layer.10.crossattention.self.query.bias', 'bert.encoder.layer.3.crossattention.output.LayerNorm.bias', 'bert.encoder.layer.1.crossattention.self.value.bias', 'bert.encoder.layer.3.crossattention.self.value.bias', 'bert.encoder.layer.7.crossattention.self.value.weight', 'bert.encoder.layer.9.crossattention.output.dense.bias', 'bert.encoder.layer.6.crossattention.output.dense.bias', 'bert.encoder.layer.7.crossattention.self.key.weight', 'bert.encoder.layer.6.crossattention.output.LayerNorm.bias', 'bert.encoder.layer.9.crossattention.self.query.weight', 'bert.encoder.layer.5.crossattention.self.key.weight', 'bert.encoder.layer.2.crossattention.self.value.weight', 'bert.encoder.layer.5.crossattention.self.value.bias', 'bert.encoder.layer.7.crossattention.self.key.bias', 'bert.encoder.layer.11.crossattention.self.key.bias', 'bert.encoder.layer.3.crossattention.self.query.bias', 'bert.encoder.layer.0.crossattention.output.LayerNorm.weight', 'bert.encoder.layer.4.crossattention.self.key.bias', 'bert.encoder.layer.0.crossattention.output.dense.weight', 'bert.encoder.layer.10.crossattention.self.value.bias', 'bert.encoder.layer.7.crossattention.self.query.bias', 'bert.encoder.layer.0.crossattention.output.dense.bias', 'bert.encoder.layer.5.crossattention.output.dense.weight', 'bert.encoder.layer.8.crossattention.self.value.weight', 'bert.encoder.layer.2.crossattention.self.query.weight', 'bert.encoder.layer.2.crossattention.output.dense.bias', 'bert.encoder.layer.10.crossattention.self.key.bias', 'bert.encoder.layer.0.crossattention.self.query.bias', 'bert.encoder.layer.2.crossattention.output.dense.weight', 'bert.encoder.layer.5.crossattention.self.query.bias', 'bert.encoder.layer.2.crossattention.self.key.weight', 'bert.encoder.layer.4.crossattention.self.query.bias', 'bert.encoder.layer.6.crossattention.self.query.weight', 'bert.encoder.layer.1.crossattention.self.query.bias', 'bert.encoder.layer.9.crossattention.output.LayerNorm.weight', 'bert.encoder.layer.1.crossattention.self.value.weight', 'bert.encoder.layer.4.crossattention.output.dense.bias', 'bert.encoder.layer.7.crossattention.self.value.bias', 'bert.encoder.layer.11.crossattention.output.LayerNorm.bias', 'bert.encoder.layer.6.crossattention.output.LayerNorm.weight', 'bert.encoder.layer.3.crossattention.self.value.weight', 'bert.encoder.layer.7.crossattention.self.query.weight', 'bert.encoder.layer.10.crossattention.self.query.weight', 'bert.encoder.layer.1.crossattention.self.key.weight', 'bert.encoder.layer.1.crossattention.output.LayerNorm.weight', 'bert.encoder.layer.4.crossattention.output.dense.weight', 'bert.encoder.layer.9.crossattention.self.key.bias', 'bert.encoder.layer.4.crossattention.self.value.bias', 'bert.encoder.layer.0.crossattention.self.value.bias', 'bert.encoder.layer.9.crossattention.self.key.weight', 'bert.encoder.layer.9.crossattention.output.LayerNorm.bias', 'bert.encoder.layer.6.crossattention.output.dense.weight', 'bert.encoder.layer.8.crossattention.self.key.bias', 'bert.encoder.layer.8.crossattention.self.query.weight', 'bert.encoder.layer.2.crossattention.output.LayerNorm.weight', 'bert.encoder.layer.11.crossattention.self.query.weight', 'bert.encoder.layer.10.crossattention.output.dense.bias', 'bert.encoder.layer.8.crossattention.output.LayerNorm.weight', 'bert.encoder.layer.10.crossattention.output.dense.weight', 'bert.encoder.layer.8.crossattention.self.query.bias', 'bert.encoder.layer.6.crossattention.self.key.weight', 'bert.encoder.layer.0.crossattention.self.key.weight', 'bert.encoder.layer.11.crossattention.self.value.bias', 'bert.encoder.layer.11.crossattention.output.dense.bias', 'bert.encoder.layer.11.crossattention.self.query.bias', 'bert.encoder.layer.8.crossattention.output.dense.weight', 'bert.encoder.layer.7.crossattention.output.LayerNorm.bias']\n",
      "You should probably TRAIN this model on a down-stream task to be able to use it for predictions and inference.\n"
     ]
    },
    {
     "data": {
      "application/javascript": [
       "\n",
       "            setTimeout(function() {\n",
       "                var nbb_cell_id = 7;\n",
       "                var nbb_unformatted_code = \"class TranslationModel(EncoderDecoderModel):\\n    def forward(\\n        self,\\n        input_ids=None,\\n        attention_mask=None,\\n        decoder_input_ids=None,\\n        decoder_attention_mask=None,\\n        encoder_outputs=None,\\n        past_key_values=None,\\n        inputs_embeds=None,\\n        decoder_inputs_embeds=None,\\n        labels=None,\\n        use_cache=None,\\n        output_attentions=None,\\n        output_hidden_states=None,\\n        return_dict=None,\\n        **kwargs,\\n    ):\\n        with torch.no_grad():\\n            print(input_ids.size()[0] * input_ids.size()[1] - input_ids.count_nonzero())\\n        #             print(input_ids)\\n        return super().forward(\\n            input_ids,\\n            attention_mask,\\n            decoder_input_ids,\\n            decoder_attention_mask,\\n            encoder_outputs,\\n            past_key_values,\\n            inputs_embeds,\\n            decoder_inputs_embeds,\\n            labels,\\n            use_cache,\\n            output_attentions,\\n            output_hidden_states,\\n            return_dict,\\n            **kwargs,\\n        )\\n\\n\\nmodel = EncoderDecoderModel.from_encoder_decoder_pretrained(enc_name, dec_name)\";\n",
       "                var nbb_formatted_code = \"class TranslationModel(EncoderDecoderModel):\\n    def forward(\\n        self,\\n        input_ids=None,\\n        attention_mask=None,\\n        decoder_input_ids=None,\\n        decoder_attention_mask=None,\\n        encoder_outputs=None,\\n        past_key_values=None,\\n        inputs_embeds=None,\\n        decoder_inputs_embeds=None,\\n        labels=None,\\n        use_cache=None,\\n        output_attentions=None,\\n        output_hidden_states=None,\\n        return_dict=None,\\n        **kwargs,\\n    ):\\n        with torch.no_grad():\\n            print(input_ids.size()[0] * input_ids.size()[1] - input_ids.count_nonzero())\\n        #             print(input_ids)\\n        return super().forward(\\n            input_ids,\\n            attention_mask,\\n            decoder_input_ids,\\n            decoder_attention_mask,\\n            encoder_outputs,\\n            past_key_values,\\n            inputs_embeds,\\n            decoder_inputs_embeds,\\n            labels,\\n            use_cache,\\n            output_attentions,\\n            output_hidden_states,\\n            return_dict,\\n            **kwargs,\\n        )\\n\\n\\nmodel = EncoderDecoderModel.from_encoder_decoder_pretrained(enc_name, dec_name)\";\n",
       "                var nbb_cells = Jupyter.notebook.get_cells();\n",
       "                for (var i = 0; i < nbb_cells.length; ++i) {\n",
       "                    if (nbb_cells[i].input_prompt_number == nbb_cell_id) {\n",
       "                        if (nbb_cells[i].get_text() == nbb_unformatted_code) {\n",
       "                             nbb_cells[i].set_text(nbb_formatted_code);\n",
       "                        }\n",
       "                        break;\n",
       "                    }\n",
       "                }\n",
       "            }, 500);\n",
       "            "
      ],
      "text/plain": [
       "<IPython.core.display.Javascript object>"
      ]
     },
     "metadata": {},
     "output_type": "display_data"
    }
   ],
   "source": [
    "model = EncoderDecoderModel.from_encoder_decoder_pretrained(enc_name, dec_name)"
   ]
  },
  {
   "cell_type": "code",
   "execution_count": 8,
   "id": "478ee05e",
   "metadata": {},
   "outputs": [
    {
     "data": {
      "application/javascript": [
       "\n",
       "            setTimeout(function() {\n",
       "                var nbb_cell_id = 8;\n",
       "                var nbb_unformatted_code = \"model.config.decoder_start_token_id = dec_tokenizer.bos_token_id\\nmodel.config.pad_token_id = enc_tokenizer.pad_token_id\\n\\nmodel.config.eos_token_id = dec_tokenizer.eos_token_id\\nmodel.config.vocab_size = model.config.decoder.vocab_size\\nmodel.config.decoder.bos_token_id = dec_tokenizer.bos_token_id\\n\\nmodel.config.max_length = 512\\nmodel.config.min_length = 1\\nmodel.config.no_repeat_ngram_size = 3\\nmodel.config.early_stopping = True\\nmodel.config.num_beams = 10\";\n",
       "                var nbb_formatted_code = \"model.config.decoder_start_token_id = dec_tokenizer.bos_token_id\\nmodel.config.pad_token_id = enc_tokenizer.pad_token_id\\n\\nmodel.config.eos_token_id = dec_tokenizer.eos_token_id\\nmodel.config.vocab_size = model.config.decoder.vocab_size\\nmodel.config.decoder.bos_token_id = dec_tokenizer.bos_token_id\\n\\nmodel.config.max_length = 512\\nmodel.config.min_length = 1\\nmodel.config.no_repeat_ngram_size = 3\\nmodel.config.early_stopping = True\\nmodel.config.num_beams = 10\";\n",
       "                var nbb_cells = Jupyter.notebook.get_cells();\n",
       "                for (var i = 0; i < nbb_cells.length; ++i) {\n",
       "                    if (nbb_cells[i].input_prompt_number == nbb_cell_id) {\n",
       "                        if (nbb_cells[i].get_text() == nbb_unformatted_code) {\n",
       "                             nbb_cells[i].set_text(nbb_formatted_code);\n",
       "                        }\n",
       "                        break;\n",
       "                    }\n",
       "                }\n",
       "            }, 500);\n",
       "            "
      ],
      "text/plain": [
       "<IPython.core.display.Javascript object>"
      ]
     },
     "metadata": {},
     "output_type": "display_data"
    }
   ],
   "source": [
    "model.config.decoder_start_token_id = dec_tokenizer.bos_token_id\n",
    "model.config.pad_token_id = enc_tokenizer.pad_token_id\n",
    "\n",
    "model.config.eos_token_id = dec_tokenizer.eos_token_id\n",
    "model.config.vocab_size = model.config.decoder.vocab_size\n",
    "model.config.decoder.bos_token_id = dec_tokenizer.bos_token_id\n",
    "\n",
    "model.config.max_length = max_input_length\n",
    "model.config.min_length = 10\n",
    "model.config.no_repeat_ngram_size = 3\n",
    "model.config.early_stopping = True\n",
    "model.config.num_beams = 10"
   ]
  },
  {
   "cell_type": "code",
   "execution_count": 9,
   "id": "5ce6805a",
   "metadata": {},
   "outputs": [
    {
     "data": {
      "application/javascript": [
       "\n",
       "            setTimeout(function() {\n",
       "                var nbb_cell_id = 9;\n",
       "                var nbb_unformatted_code = \"version = 1\";\n",
       "                var nbb_formatted_code = \"version = 1\";\n",
       "                var nbb_cells = Jupyter.notebook.get_cells();\n",
       "                for (var i = 0; i < nbb_cells.length; ++i) {\n",
       "                    if (nbb_cells[i].input_prompt_number == nbb_cell_id) {\n",
       "                        if (nbb_cells[i].get_text() == nbb_unformatted_code) {\n",
       "                             nbb_cells[i].set_text(nbb_formatted_code);\n",
       "                        }\n",
       "                        break;\n",
       "                    }\n",
       "                }\n",
       "            }, 500);\n",
       "            "
      ],
      "text/plain": [
       "<IPython.core.display.Javascript object>"
      ]
     },
     "metadata": {},
     "output_type": "display_data"
    }
   ],
   "source": [
    "version = 1"
   ]
  },
  {
   "cell_type": "code",
   "execution_count": 10,
   "id": "6adb2d8a",
   "metadata": {},
   "outputs": [
    {
     "data": {
      "application/javascript": [
       "\n",
       "            setTimeout(function() {\n",
       "                var nbb_cell_id = 10;\n",
       "                var nbb_unformatted_code = \"version += 1\\nargs = Seq2SeqTrainingArguments(\\n    output_dir=Path(\\\"models\\\") / model_name,\\n    evaluation_strategy=\\\"steps\\\",\\n    learning_rate=5e-5,\\n#     lr_scheduler_type=\\\"constant_with_warmup\\\",\\n    per_device_train_batch_size=batch_size,\\n    per_device_eval_batch_size=batch_size,\\n    save_total_limit=1,\\n    num_train_epochs=4,\\n    predict_with_generate=True,\\n    warmup_steps=3000,\\n    fp16=True,\\n    logging_dir=f\\\"../made/logs/lightning_logs/{model_name}/{version}\\\",\\n    logging_first_step=False,\\n    eval_steps=1000,\\n    logging_steps=500,\\n    overwrite_output_dir=True,\\n    group_by_length=True,\\n)\";\n",
       "                var nbb_formatted_code = \"version += 1\\nargs = Seq2SeqTrainingArguments(\\n    output_dir=Path(\\\"models\\\") / model_name,\\n    evaluation_strategy=\\\"steps\\\",\\n    learning_rate=5e-5,\\n    #     lr_scheduler_type=\\\"constant_with_warmup\\\",\\n    per_device_train_batch_size=batch_size,\\n    per_device_eval_batch_size=batch_size,\\n    save_total_limit=1,\\n    num_train_epochs=4,\\n    predict_with_generate=True,\\n    warmup_steps=3000,\\n    fp16=True,\\n    logging_dir=f\\\"../made/logs/lightning_logs/{model_name}/{version}\\\",\\n    logging_first_step=False,\\n    eval_steps=1000,\\n    logging_steps=500,\\n    overwrite_output_dir=True,\\n    group_by_length=True,\\n)\";\n",
       "                var nbb_cells = Jupyter.notebook.get_cells();\n",
       "                for (var i = 0; i < nbb_cells.length; ++i) {\n",
       "                    if (nbb_cells[i].input_prompt_number == nbb_cell_id) {\n",
       "                        if (nbb_cells[i].get_text() == nbb_unformatted_code) {\n",
       "                             nbb_cells[i].set_text(nbb_formatted_code);\n",
       "                        }\n",
       "                        break;\n",
       "                    }\n",
       "                }\n",
       "            }, 500);\n",
       "            "
      ],
      "text/plain": [
       "<IPython.core.display.Javascript object>"
      ]
     },
     "metadata": {},
     "output_type": "display_data"
    }
   ],
   "source": [
    "version += 1\n",
    "args = Seq2SeqTrainingArguments(\n",
    "    output_dir=Path(\"models\") / model_name,\n",
    "    evaluation_strategy=\"steps\",\n",
    "    learning_rate=5e-5,\n",
    "    #     lr_scheduler_type=\"constant_with_warmup\",\n",
    "    per_device_train_batch_size=batch_size,\n",
    "    per_device_eval_batch_size=batch_size,\n",
    "    save_total_limit=1,\n",
    "    num_train_epochs=4,\n",
    "    predict_with_generate=True,\n",
    "    warmup_steps=3000,\n",
    "    fp16=True,\n",
    "    logging_dir=f\"../made/logs/lightning_logs/{model_name}/{version}\",\n",
    "    logging_first_step=False,\n",
    "    eval_steps=1000,\n",
    "    logging_steps=500,\n",
    "    overwrite_output_dir=True,\n",
    "    group_by_length=True,\n",
    ")"
   ]
  },
  {
   "cell_type": "code",
   "execution_count": 45,
   "id": "edc78e85",
   "metadata": {},
   "outputs": [
    {
     "data": {
      "application/javascript": [
       "\n",
       "            setTimeout(function() {\n",
       "                var nbb_cell_id = 45;\n",
       "                var nbb_unformatted_code = \"data_collator = DataCollatorForSeq2Seq(enc_tokenizer, model=model)\";\n",
       "                var nbb_formatted_code = \"data_collator = DataCollatorForSeq2Seq(enc_tokenizer, model=model)\";\n",
       "                var nbb_cells = Jupyter.notebook.get_cells();\n",
       "                for (var i = 0; i < nbb_cells.length; ++i) {\n",
       "                    if (nbb_cells[i].input_prompt_number == nbb_cell_id) {\n",
       "                        if (nbb_cells[i].get_text() == nbb_unformatted_code) {\n",
       "                             nbb_cells[i].set_text(nbb_formatted_code);\n",
       "                        }\n",
       "                        break;\n",
       "                    }\n",
       "                }\n",
       "            }, 500);\n",
       "            "
      ],
      "text/plain": [
       "<IPython.core.display.Javascript object>"
      ]
     },
     "metadata": {},
     "output_type": "display_data"
    }
   ],
   "source": [
    "data_collator = DataCollatorForSeq2Seq(enc_tokenizer, model=model)"
   ]
  },
  {
   "cell_type": "code",
   "execution_count": 11,
   "id": "48b8f65f",
   "metadata": {},
   "outputs": [
    {
     "data": {
      "application/javascript": [
       "\n",
       "            setTimeout(function() {\n",
       "                var nbb_cell_id = 11;\n",
       "                var nbb_unformatted_code = \"from transformers import DataCollatorWithPadding\\n\\ntrainer = Seq2SeqTrainer(\\n    model=model,\\n    args=args,\\n    compute_metrics=partial(compute_metrics, dec_tokenizer, metric),\\n    train_dataset=dataset[\\\"train\\\"],\\n    eval_dataset=dataset[\\\"val\\\"],\\n    data_collator=DataCollatorForSeq2Seq(enc_tokenizer, model=model),\\n)\";\n",
       "                var nbb_formatted_code = \"from transformers import DataCollatorWithPadding\\n\\ntrainer = Seq2SeqTrainer(\\n    model=model,\\n    args=args,\\n    compute_metrics=partial(compute_metrics, dec_tokenizer, metric),\\n    train_dataset=dataset[\\\"train\\\"],\\n    eval_dataset=dataset[\\\"val\\\"],\\n    data_collator=DataCollatorForSeq2Seq(enc_tokenizer, model=model),\\n)\";\n",
       "                var nbb_cells = Jupyter.notebook.get_cells();\n",
       "                for (var i = 0; i < nbb_cells.length; ++i) {\n",
       "                    if (nbb_cells[i].input_prompt_number == nbb_cell_id) {\n",
       "                        if (nbb_cells[i].get_text() == nbb_unformatted_code) {\n",
       "                             nbb_cells[i].set_text(nbb_formatted_code);\n",
       "                        }\n",
       "                        break;\n",
       "                    }\n",
       "                }\n",
       "            }, 500);\n",
       "            "
      ],
      "text/plain": [
       "<IPython.core.display.Javascript object>"
      ]
     },
     "metadata": {},
     "output_type": "display_data"
    }
   ],
   "source": [
    "from transformers import DataCollatorWithPadding\n",
    "\n",
    "trainer = Seq2SeqTrainer(\n",
    "    model=model,\n",
    "    args=args,\n",
    "    compute_metrics=partial(compute_metrics, dec_tokenizer, metric),\n",
    "    train_dataset=dataset[\"train\"],\n",
    "    eval_dataset=dataset[\"val\"],\n",
    "    data_collator=data_collator,\n",
    ")"
   ]
  },
  {
   "cell_type": "code",
   "execution_count": 12,
   "id": "520bc29c",
   "metadata": {},
   "outputs": [
    {
     "name": "stderr",
     "output_type": "stream",
     "text": [
      "C:\\tempjeka\\anaconda3\\lib\\site-packages\\transformers\\optimization.py:391: FutureWarning: This implementation of AdamW is deprecated and will be removed in a future version. Use the PyTorch implementation torch.optim.AdamW instead, or set `no_deprecation_warning=True` to disable this warning\n",
      "  warnings.warn(\n",
      "You're using a DebertaV2TokenizerFast tokenizer. Please note that with a fast tokenizer, using the `__call__` method is faster than using a method to encode the text followed by a call to the `pad` method to get a padded encoding.\n",
      "C:\\tempjeka\\anaconda3\\lib\\site-packages\\transformers\\models\\encoder_decoder\\modeling_encoder_decoder.py:634: FutureWarning: Version v4.12.0 introduces a better way to train encoder-decoder models by computing the loss inside the encoder-decoder framework rather than in the decoder itself. You may observe training discrepancies if fine-tuning a model trained with versions anterior to 4.12.0. The decoder_input_ids are now created based on the labels, no need to pass them yourself anymore.\n",
      "  warnings.warn(DEPRECATION_WARNING, FutureWarning)\n"
     ]
    },
    {
     "data": {
      "text/html": [
       "\n",
       "    <div>\n",
       "      \n",
       "      <progress value='40865' max='45000' style='width:300px; height:20px; vertical-align: middle;'></progress>\n",
       "      [40865/45000 6:11:38 < 37:36, 1.83 it/s, Epoch 3.63/4]\n",
       "    </div>\n",
       "    <table border=\"1\" class=\"dataframe\">\n",
       "  <thead>\n",
       " <tr style=\"text-align: left;\">\n",
       "      <th>Step</th>\n",
       "      <th>Training Loss</th>\n",
       "      <th>Validation Loss</th>\n",
       "      <th>Bleu</th>\n",
       "      <th>Gen Len</th>\n",
       "    </tr>\n",
       "  </thead>\n",
       "  <tbody>\n",
       "    <tr>\n",
       "      <td>1000</td>\n",
       "      <td>3.055300</td>\n",
       "      <td>2.471047</td>\n",
       "      <td>0.038477</td>\n",
       "      <td>41.480000</td>\n",
       "    </tr>\n",
       "    <tr>\n",
       "      <td>2000</td>\n",
       "      <td>2.179300</td>\n",
       "      <td>2.005065</td>\n",
       "      <td>0.068839</td>\n",
       "      <td>52.240000</td>\n",
       "    </tr>\n",
       "    <tr>\n",
       "      <td>3000</td>\n",
       "      <td>1.976500</td>\n",
       "      <td>1.777953</td>\n",
       "      <td>0.069164</td>\n",
       "      <td>48.860000</td>\n",
       "    </tr>\n",
       "    <tr>\n",
       "      <td>4000</td>\n",
       "      <td>1.822400</td>\n",
       "      <td>1.622635</td>\n",
       "      <td>0.077683</td>\n",
       "      <td>73.920000</td>\n",
       "    </tr>\n",
       "    <tr>\n",
       "      <td>5000</td>\n",
       "      <td>1.653900</td>\n",
       "      <td>1.581295</td>\n",
       "      <td>0.066980</td>\n",
       "      <td>59.260000</td>\n",
       "    </tr>\n",
       "    <tr>\n",
       "      <td>6000</td>\n",
       "      <td>1.631200</td>\n",
       "      <td>1.460770</td>\n",
       "      <td>0.140961</td>\n",
       "      <td>77.800000</td>\n",
       "    </tr>\n",
       "    <tr>\n",
       "      <td>7000</td>\n",
       "      <td>1.547300</td>\n",
       "      <td>1.362556</td>\n",
       "      <td>0.178532</td>\n",
       "      <td>75.080000</td>\n",
       "    </tr>\n",
       "    <tr>\n",
       "      <td>8000</td>\n",
       "      <td>1.453900</td>\n",
       "      <td>1.288854</td>\n",
       "      <td>0.171196</td>\n",
       "      <td>82.080000</td>\n",
       "    </tr>\n",
       "    <tr>\n",
       "      <td>9000</td>\n",
       "      <td>1.401200</td>\n",
       "      <td>1.265296</td>\n",
       "      <td>0.173051</td>\n",
       "      <td>82.980000</td>\n",
       "    </tr>\n",
       "    <tr>\n",
       "      <td>10000</td>\n",
       "      <td>1.366900</td>\n",
       "      <td>1.189806</td>\n",
       "      <td>0.210562</td>\n",
       "      <td>77.900000</td>\n",
       "    </tr>\n",
       "    <tr>\n",
       "      <td>11000</td>\n",
       "      <td>1.308500</td>\n",
       "      <td>1.160471</td>\n",
       "      <td>0.226222</td>\n",
       "      <td>77.480000</td>\n",
       "    </tr>\n",
       "    <tr>\n",
       "      <td>12000</td>\n",
       "      <td>1.135000</td>\n",
       "      <td>1.134013</td>\n",
       "      <td>0.222815</td>\n",
       "      <td>81.220000</td>\n",
       "    </tr>\n",
       "    <tr>\n",
       "      <td>13000</td>\n",
       "      <td>1.142200</td>\n",
       "      <td>1.125632</td>\n",
       "      <td>0.248833</td>\n",
       "      <td>80.800000</td>\n",
       "    </tr>\n",
       "    <tr>\n",
       "      <td>14000</td>\n",
       "      <td>1.143400</td>\n",
       "      <td>1.064013</td>\n",
       "      <td>0.244025</td>\n",
       "      <td>90.380000</td>\n",
       "    </tr>\n",
       "    <tr>\n",
       "      <td>15000</td>\n",
       "      <td>1.092900</td>\n",
       "      <td>1.063192</td>\n",
       "      <td>0.240106</td>\n",
       "      <td>84.800000</td>\n",
       "    </tr>\n",
       "    <tr>\n",
       "      <td>16000</td>\n",
       "      <td>1.090100</td>\n",
       "      <td>1.017730</td>\n",
       "      <td>0.267851</td>\n",
       "      <td>82.900000</td>\n",
       "    </tr>\n",
       "    <tr>\n",
       "      <td>17000</td>\n",
       "      <td>1.090600</td>\n",
       "      <td>1.008046</td>\n",
       "      <td>0.263645</td>\n",
       "      <td>85.820000</td>\n",
       "    </tr>\n",
       "    <tr>\n",
       "      <td>18000</td>\n",
       "      <td>1.014800</td>\n",
       "      <td>0.999428</td>\n",
       "      <td>0.284342</td>\n",
       "      <td>80.860000</td>\n",
       "    </tr>\n",
       "    <tr>\n",
       "      <td>19000</td>\n",
       "      <td>1.041000</td>\n",
       "      <td>0.999733</td>\n",
       "      <td>0.285847</td>\n",
       "      <td>83.720000</td>\n",
       "    </tr>\n",
       "    <tr>\n",
       "      <td>20000</td>\n",
       "      <td>1.022600</td>\n",
       "      <td>0.944197</td>\n",
       "      <td>0.296199</td>\n",
       "      <td>86.240000</td>\n",
       "    </tr>\n",
       "    <tr>\n",
       "      <td>21000</td>\n",
       "      <td>0.986700</td>\n",
       "      <td>0.894542</td>\n",
       "      <td>0.334764</td>\n",
       "      <td>85.560000</td>\n",
       "    </tr>\n",
       "    <tr>\n",
       "      <td>22000</td>\n",
       "      <td>0.977400</td>\n",
       "      <td>0.917477</td>\n",
       "      <td>0.290618</td>\n",
       "      <td>84.060000</td>\n",
       "    </tr>\n",
       "    <tr>\n",
       "      <td>23000</td>\n",
       "      <td>0.832200</td>\n",
       "      <td>0.878388</td>\n",
       "      <td>0.318409</td>\n",
       "      <td>85.340000</td>\n",
       "    </tr>\n",
       "    <tr>\n",
       "      <td>24000</td>\n",
       "      <td>0.803700</td>\n",
       "      <td>0.866947</td>\n",
       "      <td>0.303225</td>\n",
       "      <td>85.480000</td>\n",
       "    </tr>\n",
       "    <tr>\n",
       "      <td>25000</td>\n",
       "      <td>0.789300</td>\n",
       "      <td>0.868145</td>\n",
       "      <td>0.321185</td>\n",
       "      <td>84.060000</td>\n",
       "    </tr>\n",
       "    <tr>\n",
       "      <td>26000</td>\n",
       "      <td>0.782200</td>\n",
       "      <td>0.859918</td>\n",
       "      <td>0.316589</td>\n",
       "      <td>90.760000</td>\n",
       "    </tr>\n",
       "    <tr>\n",
       "      <td>27000</td>\n",
       "      <td>0.776100</td>\n",
       "      <td>0.848206</td>\n",
       "      <td>0.322527</td>\n",
       "      <td>88.020000</td>\n",
       "    </tr>\n",
       "    <tr>\n",
       "      <td>28000</td>\n",
       "      <td>0.748500</td>\n",
       "      <td>0.831019</td>\n",
       "      <td>0.317253</td>\n",
       "      <td>85.460000</td>\n",
       "    </tr>\n",
       "    <tr>\n",
       "      <td>29000</td>\n",
       "      <td>0.776300</td>\n",
       "      <td>0.836897</td>\n",
       "      <td>0.331724</td>\n",
       "      <td>89.020000</td>\n",
       "    </tr>\n",
       "    <tr>\n",
       "      <td>30000</td>\n",
       "      <td>0.772800</td>\n",
       "      <td>0.842524</td>\n",
       "      <td>0.307088</td>\n",
       "      <td>85.720000</td>\n",
       "    </tr>\n",
       "    <tr>\n",
       "      <td>31000</td>\n",
       "      <td>0.747400</td>\n",
       "      <td>0.823201</td>\n",
       "      <td>0.328930</td>\n",
       "      <td>87.260000</td>\n",
       "    </tr>\n",
       "    <tr>\n",
       "      <td>32000</td>\n",
       "      <td>0.728700</td>\n",
       "      <td>0.818955</td>\n",
       "      <td>0.325094</td>\n",
       "      <td>84.240000</td>\n",
       "    </tr>\n",
       "    <tr>\n",
       "      <td>33000</td>\n",
       "      <td>0.738600</td>\n",
       "      <td>0.800213</td>\n",
       "      <td>0.292875</td>\n",
       "      <td>84.220000</td>\n",
       "    </tr>\n",
       "    <tr>\n",
       "      <td>34000</td>\n",
       "      <td>0.678000</td>\n",
       "      <td>0.798050</td>\n",
       "      <td>0.330191</td>\n",
       "      <td>89.680000</td>\n",
       "    </tr>\n",
       "    <tr>\n",
       "      <td>35000</td>\n",
       "      <td>0.583600</td>\n",
       "      <td>0.798991</td>\n",
       "      <td>0.352086</td>\n",
       "      <td>86.760000</td>\n",
       "    </tr>\n",
       "    <tr>\n",
       "      <td>36000</td>\n",
       "      <td>0.589500</td>\n",
       "      <td>0.795674</td>\n",
       "      <td>0.382412</td>\n",
       "      <td>87.720000</td>\n",
       "    </tr>\n",
       "    <tr>\n",
       "      <td>37000</td>\n",
       "      <td>0.578600</td>\n",
       "      <td>0.778967</td>\n",
       "      <td>0.373536</td>\n",
       "      <td>87.660000</td>\n",
       "    </tr>\n",
       "    <tr>\n",
       "      <td>38000</td>\n",
       "      <td>0.576000</td>\n",
       "      <td>0.791450</td>\n",
       "      <td>0.402364</td>\n",
       "      <td>88.480000</td>\n",
       "    </tr>\n",
       "    <tr>\n",
       "      <td>39000</td>\n",
       "      <td>0.579400</td>\n",
       "      <td>0.780603</td>\n",
       "      <td>0.368601</td>\n",
       "      <td>87.020000</td>\n",
       "    </tr>\n",
       "    <tr>\n",
       "      <td>40000</td>\n",
       "      <td>0.569700</td>\n",
       "      <td>0.771527</td>\n",
       "      <td>0.360291</td>\n",
       "      <td>85.720000</td>\n",
       "    </tr>\n",
       "  </tbody>\n",
       "</table><p>"
      ],
      "text/plain": [
       "<IPython.core.display.HTML object>"
      ]
     },
     "metadata": {},
     "output_type": "display_data"
    },
    {
     "name": "stderr",
     "output_type": "stream",
     "text": [
      "C:\\tempjeka\\anaconda3\\lib\\site-packages\\transformers\\models\\encoder_decoder\\modeling_encoder_decoder.py:634: FutureWarning: Version v4.12.0 introduces a better way to train encoder-decoder models by computing the loss inside the encoder-decoder framework rather than in the decoder itself. You may observe training discrepancies if fine-tuning a model trained with versions anterior to 4.12.0. The decoder_input_ids are now created based on the labels, no need to pass them yourself anymore.\n",
      "  warnings.warn(DEPRECATION_WARNING, FutureWarning)\n",
      "C:\\tempjeka\\anaconda3\\lib\\site-packages\\transformers\\generation\\utils.py:1219: UserWarning: You have modified the pretrained model configuration to control generation. This is a deprecated strategy to control generation and will be removed soon, in a future version. Please use a generation configuration file (see https://huggingface.co/docs/transformers/main_classes/text_generation)\n",
      "  warnings.warn(\n",
      "C:\\tempjeka\\anaconda3\\lib\\site-packages\\transformers\\models\\encoder_decoder\\modeling_encoder_decoder.py:634: FutureWarning: Version v4.12.0 introduces a better way to train encoder-decoder models by computing the loss inside the encoder-decoder framework rather than in the decoder itself. You may observe training discrepancies if fine-tuning a model trained with versions anterior to 4.12.0. The decoder_input_ids are now created based on the labels, no need to pass them yourself anymore.\n",
      "  warnings.warn(DEPRECATION_WARNING, FutureWarning)\n",
      "C:\\tempjeka\\anaconda3\\lib\\site-packages\\transformers\\models\\encoder_decoder\\modeling_encoder_decoder.py:634: FutureWarning: Version v4.12.0 introduces a better way to train encoder-decoder models by computing the loss inside the encoder-decoder framework rather than in the decoder itself. You may observe training discrepancies if fine-tuning a model trained with versions anterior to 4.12.0. The decoder_input_ids are now created based on the labels, no need to pass them yourself anymore.\n",
      "  warnings.warn(DEPRECATION_WARNING, FutureWarning)\n",
      "C:\\tempjeka\\anaconda3\\lib\\site-packages\\transformers\\models\\encoder_decoder\\modeling_encoder_decoder.py:634: FutureWarning: Version v4.12.0 introduces a better way to train encoder-decoder models by computing the loss inside the encoder-decoder framework rather than in the decoder itself. You may observe training discrepancies if fine-tuning a model trained with versions anterior to 4.12.0. The decoder_input_ids are now created based on the labels, no need to pass them yourself anymore.\n",
      "  warnings.warn(DEPRECATION_WARNING, FutureWarning)\n",
      "C:\\tempjeka\\anaconda3\\lib\\site-packages\\transformers\\models\\encoder_decoder\\modeling_encoder_decoder.py:634: FutureWarning: Version v4.12.0 introduces a better way to train encoder-decoder models by computing the loss inside the encoder-decoder framework rather than in the decoder itself. You may observe training discrepancies if fine-tuning a model trained with versions anterior to 4.12.0. The decoder_input_ids are now created based on the labels, no need to pass them yourself anymore.\n",
      "  warnings.warn(DEPRECATION_WARNING, FutureWarning)\n",
      "C:\\tempjeka\\anaconda3\\lib\\site-packages\\transformers\\models\\encoder_decoder\\modeling_encoder_decoder.py:634: FutureWarning: Version v4.12.0 introduces a better way to train encoder-decoder models by computing the loss inside the encoder-decoder framework rather than in the decoder itself. You may observe training discrepancies if fine-tuning a model trained with versions anterior to 4.12.0. The decoder_input_ids are now created based on the labels, no need to pass them yourself anymore.\n",
      "  warnings.warn(DEPRECATION_WARNING, FutureWarning)\n",
      "C:\\tempjeka\\anaconda3\\lib\\site-packages\\transformers\\models\\encoder_decoder\\modeling_encoder_decoder.py:634: FutureWarning: Version v4.12.0 introduces a better way to train encoder-decoder models by computing the loss inside the encoder-decoder framework rather than in the decoder itself. You may observe training discrepancies if fine-tuning a model trained with versions anterior to 4.12.0. The decoder_input_ids are now created based on the labels, no need to pass them yourself anymore.\n",
      "  warnings.warn(DEPRECATION_WARNING, FutureWarning)\n",
      "C:\\tempjeka\\anaconda3\\lib\\site-packages\\transformers\\models\\encoder_decoder\\modeling_encoder_decoder.py:634: FutureWarning: Version v4.12.0 introduces a better way to train encoder-decoder models by computing the loss inside the encoder-decoder framework rather than in the decoder itself. You may observe training discrepancies if fine-tuning a model trained with versions anterior to 4.12.0. The decoder_input_ids are now created based on the labels, no need to pass them yourself anymore.\n",
      "  warnings.warn(DEPRECATION_WARNING, FutureWarning)\n",
      "IOPub message rate exceeded.\n",
      "The notebook server will temporarily stop sending output\n",
      "to the client in order to avoid crashing it.\n",
      "To change this limit, set the config variable\n",
      "`--NotebookApp.iopub_msg_rate_limit`.\n",
      "\n",
      "Current values:\n",
      "NotebookApp.iopub_msg_rate_limit=1000.0 (msgs/sec)\n",
      "NotebookApp.rate_limit_window=3.0 (secs)\n",
      "\n",
      "C:\\tempjeka\\anaconda3\\lib\\site-packages\\transformers\\models\\encoder_decoder\\modeling_encoder_decoder.py:634: FutureWarning: Version v4.12.0 introduces a better way to train encoder-decoder models by computing the loss inside the encoder-decoder framework rather than in the decoder itself. You may observe training discrepancies if fine-tuning a model trained with versions anterior to 4.12.0. The decoder_input_ids are now created based on the labels, no need to pass them yourself anymore.\n",
      "  warnings.warn(DEPRECATION_WARNING, FutureWarning)\n",
      "C:\\tempjeka\\anaconda3\\lib\\site-packages\\transformers\\models\\encoder_decoder\\modeling_encoder_decoder.py:634: FutureWarning: Version v4.12.0 introduces a better way to train encoder-decoder models by computing the loss inside the encoder-decoder framework rather than in the decoder itself. You may observe training discrepancies if fine-tuning a model trained with versions anterior to 4.12.0. The decoder_input_ids are now created based on the labels, no need to pass them yourself anymore.\n",
      "  warnings.warn(DEPRECATION_WARNING, FutureWarning)\n",
      "C:\\tempjeka\\anaconda3\\lib\\site-packages\\transformers\\models\\encoder_decoder\\modeling_encoder_decoder.py:634: FutureWarning: Version v4.12.0 introduces a better way to train encoder-decoder models by computing the loss inside the encoder-decoder framework rather than in the decoder itself. You may observe training discrepancies if fine-tuning a model trained with versions anterior to 4.12.0. The decoder_input_ids are now created based on the labels, no need to pass them yourself anymore.\n",
      "  warnings.warn(DEPRECATION_WARNING, FutureWarning)\n",
      "C:\\tempjeka\\anaconda3\\lib\\site-packages\\transformers\\models\\encoder_decoder\\modeling_encoder_decoder.py:634: FutureWarning: Version v4.12.0 introduces a better way to train encoder-decoder models by computing the loss inside the encoder-decoder framework rather than in the decoder itself. You may observe training discrepancies if fine-tuning a model trained with versions anterior to 4.12.0. The decoder_input_ids are now created based on the labels, no need to pass them yourself anymore.\n",
      "  warnings.warn(DEPRECATION_WARNING, FutureWarning)\n",
      "C:\\tempjeka\\anaconda3\\lib\\site-packages\\transformers\\models\\encoder_decoder\\modeling_encoder_decoder.py:634: FutureWarning: Version v4.12.0 introduces a better way to train encoder-decoder models by computing the loss inside the encoder-decoder framework rather than in the decoder itself. You may observe training discrepancies if fine-tuning a model trained with versions anterior to 4.12.0. The decoder_input_ids are now created based on the labels, no need to pass them yourself anymore.\n",
      "  warnings.warn(DEPRECATION_WARNING, FutureWarning)\n",
      "C:\\tempjeka\\anaconda3\\lib\\site-packages\\transformers\\models\\encoder_decoder\\modeling_encoder_decoder.py:634: FutureWarning: Version v4.12.0 introduces a better way to train encoder-decoder models by computing the loss inside the encoder-decoder framework rather than in the decoder itself. You may observe training discrepancies if fine-tuning a model trained with versions anterior to 4.12.0. The decoder_input_ids are now created based on the labels, no need to pass them yourself anymore.\n",
      "  warnings.warn(DEPRECATION_WARNING, FutureWarning)\n"
     ]
    },
    {
     "name": "stderr",
     "output_type": "stream",
     "text": [
      "IOPub message rate exceeded.\n",
      "The notebook server will temporarily stop sending output\n",
      "to the client in order to avoid crashing it.\n",
      "To change this limit, set the config variable\n",
      "`--NotebookApp.iopub_msg_rate_limit`.\n",
      "\n",
      "Current values:\n",
      "NotebookApp.iopub_msg_rate_limit=1000.0 (msgs/sec)\n",
      "NotebookApp.rate_limit_window=3.0 (secs)\n",
      "\n",
      "C:\\tempjeka\\anaconda3\\lib\\site-packages\\transformers\\models\\encoder_decoder\\modeling_encoder_decoder.py:634: FutureWarning: Version v4.12.0 introduces a better way to train encoder-decoder models by computing the loss inside the encoder-decoder framework rather than in the decoder itself. You may observe training discrepancies if fine-tuning a model trained with versions anterior to 4.12.0. The decoder_input_ids are now created based on the labels, no need to pass them yourself anymore.\n",
      "  warnings.warn(DEPRECATION_WARNING, FutureWarning)\n",
      "C:\\tempjeka\\anaconda3\\lib\\site-packages\\transformers\\models\\encoder_decoder\\modeling_encoder_decoder.py:634: FutureWarning: Version v4.12.0 introduces a better way to train encoder-decoder models by computing the loss inside the encoder-decoder framework rather than in the decoder itself. You may observe training discrepancies if fine-tuning a model trained with versions anterior to 4.12.0. The decoder_input_ids are now created based on the labels, no need to pass them yourself anymore.\n",
      "  warnings.warn(DEPRECATION_WARNING, FutureWarning)\n",
      "C:\\tempjeka\\anaconda3\\lib\\site-packages\\transformers\\models\\encoder_decoder\\modeling_encoder_decoder.py:634: FutureWarning: Version v4.12.0 introduces a better way to train encoder-decoder models by computing the loss inside the encoder-decoder framework rather than in the decoder itself. You may observe training discrepancies if fine-tuning a model trained with versions anterior to 4.12.0. The decoder_input_ids are now created based on the labels, no need to pass them yourself anymore.\n",
      "  warnings.warn(DEPRECATION_WARNING, FutureWarning)\n",
      "C:\\tempjeka\\anaconda3\\lib\\site-packages\\transformers\\models\\encoder_decoder\\modeling_encoder_decoder.py:634: FutureWarning: Version v4.12.0 introduces a better way to train encoder-decoder models by computing the loss inside the encoder-decoder framework rather than in the decoder itself. You may observe training discrepancies if fine-tuning a model trained with versions anterior to 4.12.0. The decoder_input_ids are now created based on the labels, no need to pass them yourself anymore.\n",
      "  warnings.warn(DEPRECATION_WARNING, FutureWarning)\n",
      "C:\\tempjeka\\anaconda3\\lib\\site-packages\\transformers\\models\\encoder_decoder\\modeling_encoder_decoder.py:634: FutureWarning: Version v4.12.0 introduces a better way to train encoder-decoder models by computing the loss inside the encoder-decoder framework rather than in the decoder itself. You may observe training discrepancies if fine-tuning a model trained with versions anterior to 4.12.0. The decoder_input_ids are now created based on the labels, no need to pass them yourself anymore.\n",
      "  warnings.warn(DEPRECATION_WARNING, FutureWarning)\n",
      "C:\\tempjeka\\anaconda3\\lib\\site-packages\\transformers\\models\\encoder_decoder\\modeling_encoder_decoder.py:634: FutureWarning: Version v4.12.0 introduces a better way to train encoder-decoder models by computing the loss inside the encoder-decoder framework rather than in the decoder itself. You may observe training discrepancies if fine-tuning a model trained with versions anterior to 4.12.0. The decoder_input_ids are now created based on the labels, no need to pass them yourself anymore.\n",
      "  warnings.warn(DEPRECATION_WARNING, FutureWarning)\n",
      "IOPub message rate exceeded.\n",
      "The notebook server will temporarily stop sending output\n",
      "to the client in order to avoid crashing it.\n",
      "To change this limit, set the config variable\n",
      "`--NotebookApp.iopub_msg_rate_limit`.\n",
      "\n",
      "Current values:\n",
      "NotebookApp.iopub_msg_rate_limit=1000.0 (msgs/sec)\n",
      "NotebookApp.rate_limit_window=3.0 (secs)\n",
      "\n",
      "C:\\tempjeka\\anaconda3\\lib\\site-packages\\transformers\\models\\encoder_decoder\\modeling_encoder_decoder.py:634: FutureWarning: Version v4.12.0 introduces a better way to train encoder-decoder models by computing the loss inside the encoder-decoder framework rather than in the decoder itself. You may observe training discrepancies if fine-tuning a model trained with versions anterior to 4.12.0. The decoder_input_ids are now created based on the labels, no need to pass them yourself anymore.\n",
      "  warnings.warn(DEPRECATION_WARNING, FutureWarning)\n",
      "C:\\tempjeka\\anaconda3\\lib\\site-packages\\transformers\\models\\encoder_decoder\\modeling_encoder_decoder.py:634: FutureWarning: Version v4.12.0 introduces a better way to train encoder-decoder models by computing the loss inside the encoder-decoder framework rather than in the decoder itself. You may observe training discrepancies if fine-tuning a model trained with versions anterior to 4.12.0. The decoder_input_ids are now created based on the labels, no need to pass them yourself anymore.\n",
      "  warnings.warn(DEPRECATION_WARNING, FutureWarning)\n",
      "C:\\tempjeka\\anaconda3\\lib\\site-packages\\transformers\\models\\encoder_decoder\\modeling_encoder_decoder.py:634: FutureWarning: Version v4.12.0 introduces a better way to train encoder-decoder models by computing the loss inside the encoder-decoder framework rather than in the decoder itself. You may observe training discrepancies if fine-tuning a model trained with versions anterior to 4.12.0. The decoder_input_ids are now created based on the labels, no need to pass them yourself anymore.\n",
      "  warnings.warn(DEPRECATION_WARNING, FutureWarning)\n",
      "C:\\tempjeka\\anaconda3\\lib\\site-packages\\transformers\\models\\encoder_decoder\\modeling_encoder_decoder.py:634: FutureWarning: Version v4.12.0 introduces a better way to train encoder-decoder models by computing the loss inside the encoder-decoder framework rather than in the decoder itself. You may observe training discrepancies if fine-tuning a model trained with versions anterior to 4.12.0. The decoder_input_ids are now created based on the labels, no need to pass them yourself anymore.\n",
      "  warnings.warn(DEPRECATION_WARNING, FutureWarning)\n",
      "C:\\tempjeka\\anaconda3\\lib\\site-packages\\transformers\\models\\encoder_decoder\\modeling_encoder_decoder.py:634: FutureWarning: Version v4.12.0 introduces a better way to train encoder-decoder models by computing the loss inside the encoder-decoder framework rather than in the decoder itself. You may observe training discrepancies if fine-tuning a model trained with versions anterior to 4.12.0. The decoder_input_ids are now created based on the labels, no need to pass them yourself anymore.\n",
      "  warnings.warn(DEPRECATION_WARNING, FutureWarning)\n",
      "C:\\tempjeka\\anaconda3\\lib\\site-packages\\transformers\\models\\encoder_decoder\\modeling_encoder_decoder.py:634: FutureWarning: Version v4.12.0 introduces a better way to train encoder-decoder models by computing the loss inside the encoder-decoder framework rather than in the decoder itself. You may observe training discrepancies if fine-tuning a model trained with versions anterior to 4.12.0. The decoder_input_ids are now created based on the labels, no need to pass them yourself anymore.\n",
      "  warnings.warn(DEPRECATION_WARNING, FutureWarning)\n",
      "IOPub message rate exceeded.\n",
      "The notebook server will temporarily stop sending output\n",
      "to the client in order to avoid crashing it.\n",
      "To change this limit, set the config variable\n",
      "`--NotebookApp.iopub_msg_rate_limit`.\n",
      "\n",
      "Current values:\n",
      "NotebookApp.iopub_msg_rate_limit=1000.0 (msgs/sec)\n",
      "NotebookApp.rate_limit_window=3.0 (secs)\n",
      "\n"
     ]
    }
   ],
   "source": [
    "trainer.train()"
   ]
  },
  {
   "cell_type": "code",
   "execution_count": 13,
   "id": "077a277c",
   "metadata": {},
   "outputs": [
    {
     "data": {
      "application/javascript": [
       "\n",
       "            setTimeout(function() {\n",
       "                var nbb_cell_id = 13;\n",
       "                var nbb_unformatted_code = \"model.save_pretrained(model_name)\";\n",
       "                var nbb_formatted_code = \"model.save_pretrained(model_name)\";\n",
       "                var nbb_cells = Jupyter.notebook.get_cells();\n",
       "                for (var i = 0; i < nbb_cells.length; ++i) {\n",
       "                    if (nbb_cells[i].input_prompt_number == nbb_cell_id) {\n",
       "                        if (nbb_cells[i].get_text() == nbb_unformatted_code) {\n",
       "                             nbb_cells[i].set_text(nbb_formatted_code);\n",
       "                        }\n",
       "                        break;\n",
       "                    }\n",
       "                }\n",
       "            }, 500);\n",
       "            "
      ],
      "text/plain": [
       "<IPython.core.display.Javascript object>"
      ]
     },
     "metadata": {},
     "output_type": "display_data"
    }
   ],
   "source": [
    "model.save_pretrained(model_name)"
   ]
  },
  {
   "cell_type": "code",
   "execution_count": 7,
   "id": "6bd470bf",
   "metadata": {},
   "outputs": [
    {
     "data": {
      "application/javascript": [
       "\n",
       "            setTimeout(function() {\n",
       "                var nbb_cell_id = 7;\n",
       "                var nbb_unformatted_code = \"model = EncoderDecoderModel.from_pretrained(model_name)\";\n",
       "                var nbb_formatted_code = \"model = EncoderDecoderModel.from_pretrained(model_name)\";\n",
       "                var nbb_cells = Jupyter.notebook.get_cells();\n",
       "                for (var i = 0; i < nbb_cells.length; ++i) {\n",
       "                    if (nbb_cells[i].input_prompt_number == nbb_cell_id) {\n",
       "                        if (nbb_cells[i].get_text() == nbb_unformatted_code) {\n",
       "                             nbb_cells[i].set_text(nbb_formatted_code);\n",
       "                        }\n",
       "                        break;\n",
       "                    }\n",
       "                }\n",
       "            }, 500);\n",
       "            "
      ],
      "text/plain": [
       "<IPython.core.display.Javascript object>"
      ]
     },
     "metadata": {},
     "output_type": "display_data"
    }
   ],
   "source": [
    "model = EncoderDecoderModel.from_pretrained(model_name)"
   ]
  },
  {
   "cell_type": "code",
   "execution_count": 72,
   "id": "7c9c1727",
   "metadata": {},
   "outputs": [
    {
     "data": {
      "application/vnd.jupyter.widget-view+json": {
       "model_id": "",
       "version_major": 2,
       "version_minor": 0
      },
      "text/plain": [
       "Map:   0%|          | 0/4950 [00:00<?, ? examples/s]"
      ]
     },
     "metadata": {},
     "output_type": "display_data"
    },
    {
     "data": {
      "application/javascript": [
       "\n",
       "            setTimeout(function() {\n",
       "                var nbb_cell_id = 72;\n",
       "                var nbb_unformatted_code = \"metric = evaluate.load(\\\"bleu\\\")\\nmodel.cuda()\\nmodel.eval()\\nwith torch.no_grad():\\n    dataset[\\\"test\\\"].map(\\n        partial(\\n            compute_metrics_test,\\n            model,\\n            DataCollatorWithPadding(enc_tokenizer),\\n            dec_tokenizer,\\n            metric,\\n            log=False,\\n        ),\\n        batched=True,\\n        batch_size=batch_size,\\n    )\";\n",
       "                var nbb_formatted_code = \"metric = evaluate.load(\\\"bleu\\\")\\nmodel.cuda()\\nmodel.eval()\\nwith torch.no_grad():\\n    dataset[\\\"test\\\"].map(\\n        partial(\\n            compute_metrics_test,\\n            model,\\n            DataCollatorWithPadding(enc_tokenizer),\\n            dec_tokenizer,\\n            metric,\\n            log=False,\\n        ),\\n        batched=True,\\n        batch_size=batch_size,\\n    )\";\n",
       "                var nbb_cells = Jupyter.notebook.get_cells();\n",
       "                for (var i = 0; i < nbb_cells.length; ++i) {\n",
       "                    if (nbb_cells[i].input_prompt_number == nbb_cell_id) {\n",
       "                        if (nbb_cells[i].get_text() == nbb_unformatted_code) {\n",
       "                             nbb_cells[i].set_text(nbb_formatted_code);\n",
       "                        }\n",
       "                        break;\n",
       "                    }\n",
       "                }\n",
       "            }, 500);\n",
       "            "
      ],
      "text/plain": [
       "<IPython.core.display.Javascript object>"
      ]
     },
     "metadata": {},
     "output_type": "display_data"
    }
   ],
   "source": [
    "metric = evaluate.load(\"bleu\")\n",
    "model.cuda()\n",
    "model.eval()\n",
    "with torch.no_grad():\n",
    "    dataset[\"test\"].map(\n",
    "        partial(\n",
    "            compute_metrics_test,\n",
    "            model,\n",
    "            DataCollatorWithPadding(enc_tokenizer),\n",
    "            dec_tokenizer,\n",
    "            metric,\n",
    "            log=False,\n",
    "        ),\n",
    "        batched=True,\n",
    "        batch_size=batch_size,\n",
    "    )"
   ]
  },
  {
   "cell_type": "code",
   "execution_count": 73,
   "id": "8974d8bc",
   "metadata": {},
   "outputs": [
    {
     "data": {
      "text/plain": [
       "{'bleu': 0.2914710978122671,\n",
       " 'precisions': [0.548553857722158,\n",
       "  0.3410333122375007,\n",
       "  0.24195496639514355,\n",
       "  0.1732859251308198],\n",
       " 'brevity_penalty': 0.9794156064933341,\n",
       " 'length_ratio': 0.9796245872959499,\n",
       " 'translation_length': 74474,\n",
       " 'reference_length': 76023}"
      ]
     },
     "execution_count": 73,
     "metadata": {},
     "output_type": "execute_result"
    },
    {
     "data": {
      "application/javascript": [
       "\n",
       "            setTimeout(function() {\n",
       "                var nbb_cell_id = 73;\n",
       "                var nbb_unformatted_code = \"metric.compute()\";\n",
       "                var nbb_formatted_code = \"metric.compute()\";\n",
       "                var nbb_cells = Jupyter.notebook.get_cells();\n",
       "                for (var i = 0; i < nbb_cells.length; ++i) {\n",
       "                    if (nbb_cells[i].input_prompt_number == nbb_cell_id) {\n",
       "                        if (nbb_cells[i].get_text() == nbb_unformatted_code) {\n",
       "                             nbb_cells[i].set_text(nbb_formatted_code);\n",
       "                        }\n",
       "                        break;\n",
       "                    }\n",
       "                }\n",
       "            }, 500);\n",
       "            "
      ],
      "text/plain": [
       "<IPython.core.display.Javascript object>"
      ]
     },
     "metadata": {},
     "output_type": "display_data"
    }
   ],
   "source": [
    "metric.compute()"
   ]
  },
  {
   "cell_type": "code",
   "execution_count": 43,
   "id": "ffe57ae7",
   "metadata": {},
   "outputs": [
    {
     "data": {
      "application/vnd.jupyter.widget-view+json": {
       "model_id": "",
       "version_major": 2,
       "version_minor": 0
      },
      "text/plain": [
       "Map:   0%|          | 0/10 [00:00<?, ? examples/s]"
      ]
     },
     "metadata": {},
     "output_type": "display_data"
    },
    {
     "data": {
      "text/plain": [
       "[{'input': 'It features free WiFi throughout.',\n",
       "  'target': ['Гостям предоставляется бесплатный Wi-Fi.'],\n",
       "  'preds': 'На всей территории предоставляется бесплатный Wi - Fi.'},\n",
       " {'input': 'The property offers free parking.',\n",
       "  'target': ['На прилегающей территории обустроена бесплатная парковка.'],\n",
       "  'preds': 'Предоставляется бесплатная парковка.'},\n",
       " {'input': 'Free WiFi is available throughout.',\n",
       "  'target': ['Бесплатный Wi-Fi предоставляется на всей территории.'],\n",
       "  'preds': 'На всей территории предоставляется бесплатный Wi - Fi.'},\n",
       " {'input': 'Free WiFi access is available.',\n",
       "  'target': ['Предоставляется бесплатный Wi-Fi.'],\n",
       "  'preds': 'Предоставляется бесплатный Wi - Fi.'}]"
      ]
     },
     "metadata": {},
     "output_type": "display_data"
    },
    {
     "data": {
      "text/plain": [
       "[{'input': 'Breakfast is served each morning.',\n",
       "  'target': ['Каждое утро для гостей сервируется завтрак.'],\n",
       "  'preds': 'По утрам для гостей сервируется завтрак.'},\n",
       " {'input': 'The property offers free parking.',\n",
       "  'target': ['На территории дома для отпуска обустроена бесплатная парковка.'],\n",
       "  'preds': 'Предоставляется бесплатная парковка.'},\n",
       " {'input': 'Some rooms include LCD TV.',\n",
       "  'target': ['В некоторых номерах есть ЖК-телевизор.'],\n",
       "  'preds': 'В некоторых номерах есть ЖК - телевизор.'},\n",
       " {'input': 'The bathrooms provide a hairdryer.',\n",
       "  'target': ['В распоряжении гостей балкон и ванная комната с феном.'],\n",
       "  'preds': 'В ванных комнатах предоставляется фен.'}]"
      ]
     },
     "metadata": {},
     "output_type": "display_data"
    },
    {
     "data": {
      "text/plain": [
       "[{'input': 'Free WiFi access is available.',\n",
       "  'target': ['Гостям предоставляется бесплатный Wi-Fi.'],\n",
       "  'preds': 'Предоставляется бесплатный Wi - Fi.'},\n",
       " {'input': 'A daily breakfast is included.',\n",
       "  'target': ['Ежедневный завтрак включен в стоимость.'],\n",
       "  'preds': 'Ежедневно сервируется завтрак.'}]"
      ]
     },
     "metadata": {},
     "output_type": "display_data"
    },
    {
     "data": {
      "text/plain": [
       "{'bleu': 0.2012768995288384,\n",
       " 'precisions': [0.5079365079365079,\n",
       "  0.2641509433962264,\n",
       "  0.16279069767441862,\n",
       "  0.09090909090909091],\n",
       " 'brevity_penalty': 0.9534969548334766,\n",
       " 'length_ratio': 0.9545454545454546,\n",
       " 'translation_length': 63,\n",
       " 'reference_length': 66}"
      ]
     },
     "execution_count": 43,
     "metadata": {},
     "output_type": "execute_result"
    },
    {
     "data": {
      "application/javascript": [
       "\n",
       "            setTimeout(function() {\n",
       "                var nbb_cell_id = 43;\n",
       "                var nbb_unformatted_code = \"def compute_metrics_test(model, tokenizer, metric, batch, log=False):\\n    preds = model.generate(\\n        batch[\\\"input_ids\\\"].cuda(),\\n        attention_mask=batch[\\\"attention_mask\\\"].cuda(),\\n    ).cpu()\\n    decoded_preds = tokenizer.batch_decode(preds, skip_special_tokens=True)\\n\\n    source = [s[source_lang] for s in batch[\\\"translation\\\"]]\\n    decoded_labels = [s[target_lang] for s in batch[\\\"translation\\\"]]\\n    decoded_preds, decoded_labels = postprocess_text(decoded_preds, decoded_labels)\\n\\n    metric.add_batch(references=decoded_labels, predictions=decoded_preds)\\n    if log:\\n        display(\\n            [\\n                dict(input=i, target=l, preds=p)\\n                for p, l, i in zip(decoded_preds, decoded_labels, source)\\n            ]\\n        )\\n\\n\\nmetric = evaluate.load(\\\"bleu\\\")\\nmodel.cuda()\\nmodel.eval()\\n_idx = 100\\nwith torch.no_grad():\\n    dataset[\\\"test\\\"].select(range(_idx, _idx + 10)).map(\\n        partial(compute_metrics_test, model, dec_tokenizer, metric, log=True),\\n        batched=True,\\n        batch_size=batch_size,\\n    )\\nmetric.compute()\";\n",
       "                var nbb_formatted_code = \"def compute_metrics_test(model, tokenizer, metric, batch, log=False):\\n    preds = model.generate(\\n        batch[\\\"input_ids\\\"].cuda(),\\n        attention_mask=batch[\\\"attention_mask\\\"].cuda(),\\n    ).cpu()\\n    decoded_preds = tokenizer.batch_decode(preds, skip_special_tokens=True)\\n\\n    source = [s[source_lang] for s in batch[\\\"translation\\\"]]\\n    decoded_labels = [s[target_lang] for s in batch[\\\"translation\\\"]]\\n    decoded_preds, decoded_labels = postprocess_text(decoded_preds, decoded_labels)\\n\\n    metric.add_batch(references=decoded_labels, predictions=decoded_preds)\\n    if log:\\n        display(\\n            [\\n                dict(input=i, target=l, preds=p)\\n                for p, l, i in zip(decoded_preds, decoded_labels, source)\\n            ]\\n        )\\n\\n\\nmetric = evaluate.load(\\\"bleu\\\")\\nmodel.cuda()\\nmodel.eval()\\n_idx = 100\\nwith torch.no_grad():\\n    dataset[\\\"test\\\"].select(range(_idx, _idx + 10)).map(\\n        partial(compute_metrics_test, model, dec_tokenizer, metric, log=True),\\n        batched=True,\\n        batch_size=batch_size,\\n    )\\nmetric.compute()\";\n",
       "                var nbb_cells = Jupyter.notebook.get_cells();\n",
       "                for (var i = 0; i < nbb_cells.length; ++i) {\n",
       "                    if (nbb_cells[i].input_prompt_number == nbb_cell_id) {\n",
       "                        if (nbb_cells[i].get_text() == nbb_unformatted_code) {\n",
       "                             nbb_cells[i].set_text(nbb_formatted_code);\n",
       "                        }\n",
       "                        break;\n",
       "                    }\n",
       "                }\n",
       "            }, 500);\n",
       "            "
      ],
      "text/plain": [
       "<IPython.core.display.Javascript object>"
      ]
     },
     "metadata": {},
     "output_type": "display_data"
    }
   ],
   "source": [
    "metric = evaluate.load(\"bleu\")\n",
    "model.cuda()\n",
    "model.eval()\n",
    "_idx = 100\n",
    "with torch.no_grad():\n",
    "    dataset[\"test\"].select(range(_idx, _idx + 10)).map(\n",
    "        partial(compute_metrics_test, model, dec_tokenizer, metric, log=True),\n",
    "        batched=True,\n",
    "        batch_size=batch_size,\n",
    "    )\n",
    "metric.compute()"
   ]
  },
  {
   "attachments": {
    "image-10.png": {
     "image/png": "[encoded data removed]"
    },
    "image-9.png": {
     "image/png": "[encoded data removed]"
    }
   },
   "cell_type": "markdown",
   "id": "676aa8e4",
   "metadata": {},
   "source": [
    "![image-10.png](attachment:image-10.png) ![image-9.png](attachment:image-9.png)"
   ]
  }
 ],
 "metadata": {
  "kernelspec": {
   "display_name": "Python 3 (ipykernel)",
   "language": "python",
   "name": "python3"
  },
  "language_info": {
   "codemirror_mode": {
    "name": "ipython",
    "version": 3
   },
   "file_extension": ".py",
   "mimetype": "text/x-python",
   "name": "python",
   "nbconvert_exporter": "python",
   "pygments_lexer": "ipython3",
   "version": "3.10.9"
  }
 },
 "nbformat": 4,
 "nbformat_minor": 5
}
