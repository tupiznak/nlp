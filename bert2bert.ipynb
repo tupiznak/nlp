{
 "cells": [
  {
   "cell_type": "markdown",
   "id": "ebdf523e",
   "metadata": {},
   "source": [
    "В библиотеке transformers примерно 2 года назад был PR, который сделал убрал обратную совместимость с предыдущими версиями (<4.12). Из-за чего перестали работать предобученные ранее модели. Чтобы это исправить, пришлось восстановить код модели EncoderDecoder и найти Trainer из предыдущих версий\n",
    "https://github.com/huggingface/transformers/pull/14139/files"
   ]
  },
  {
   "cell_type": "code",
   "execution_count": 1,
   "id": "c7a27d0a",
   "metadata": {},
   "outputs": [
    {
     "data": {
      "application/javascript": [
       "\n",
       "            setTimeout(function() {\n",
       "                var nbb_cell_id = 1;\n",
       "                var nbb_unformatted_code = \"%load_ext nb_black\";\n",
       "                var nbb_formatted_code = \"%load_ext nb_black\";\n",
       "                var nbb_cells = Jupyter.notebook.get_cells();\n",
       "                for (var i = 0; i < nbb_cells.length; ++i) {\n",
       "                    if (nbb_cells[i].input_prompt_number == nbb_cell_id) {\n",
       "                        if (nbb_cells[i].get_text() == nbb_unformatted_code) {\n",
       "                             nbb_cells[i].set_text(nbb_formatted_code);\n",
       "                        }\n",
       "                        break;\n",
       "                    }\n",
       "                }\n",
       "            }, 500);\n",
       "            "
      ],
      "text/plain": [
       "<IPython.core.display.Javascript object>"
      ]
     },
     "metadata": {},
     "output_type": "display_data"
    }
   ],
   "source": [
    "%load_ext nb_black"
   ]
  },
  {
   "cell_type": "code",
   "execution_count": 2,
   "id": "e507e35b",
   "metadata": {},
   "outputs": [
    {
     "data": {
      "application/javascript": [
       "\n",
       "            setTimeout(function() {\n",
       "                var nbb_cell_id = 2;\n",
       "                var nbb_unformatted_code = \"from pathlib import Path\\n\\ncache_path = Path(\\\"C:\\\\\\\\tempjeka\\\\\\\\cache\\\")\";\n",
       "                var nbb_formatted_code = \"from pathlib import Path\\n\\ncache_path = Path(\\\"C:\\\\\\\\tempjeka\\\\\\\\cache\\\")\";\n",
       "                var nbb_cells = Jupyter.notebook.get_cells();\n",
       "                for (var i = 0; i < nbb_cells.length; ++i) {\n",
       "                    if (nbb_cells[i].input_prompt_number == nbb_cell_id) {\n",
       "                        if (nbb_cells[i].get_text() == nbb_unformatted_code) {\n",
       "                             nbb_cells[i].set_text(nbb_formatted_code);\n",
       "                        }\n",
       "                        break;\n",
       "                    }\n",
       "                }\n",
       "            }, 500);\n",
       "            "
      ],
      "text/plain": [
       "<IPython.core.display.Javascript object>"
      ]
     },
     "metadata": {},
     "output_type": "display_data"
    }
   ],
   "source": [
    "from pathlib import Path\n",
    "\n",
    "cache_path = Path(\"C:\\\\tempjeka\\\\cache\")"
   ]
  },
  {
   "cell_type": "code",
   "execution_count": 3,
   "id": "e414295d",
   "metadata": {},
   "outputs": [
    {
     "data": {
      "application/javascript": [
       "\n",
       "            setTimeout(function() {\n",
       "                var nbb_cell_id = 3;\n",
       "                var nbb_unformatted_code = \"import os\\n\\nos.environ[\\\"TORCH_HOME\\\"] = str(cache_path / \\\"models\\\")\\nos.environ[\\\"HF_HOME\\\"] = str(cache_path / \\\"huggingface\\\")\\nos.environ[\\\"HUGGINGFACE_HUB_CACHE\\\"] = str(cache_path / \\\"huggingface\\\")\\nos.environ[\\\"TRANSFORMERS_CACHE\\\"] = str(cache_path / \\\"huggingface\\\")\\nos.environ[\\\"HF_DATASETS_CACHE\\\"] = str(cache_path / \\\"huggingface\\\")\";\n",
       "                var nbb_formatted_code = \"import os\\n\\nos.environ[\\\"TORCH_HOME\\\"] = str(cache_path / \\\"models\\\")\\nos.environ[\\\"HF_HOME\\\"] = str(cache_path / \\\"huggingface\\\")\\nos.environ[\\\"HUGGINGFACE_HUB_CACHE\\\"] = str(cache_path / \\\"huggingface\\\")\\nos.environ[\\\"TRANSFORMERS_CACHE\\\"] = str(cache_path / \\\"huggingface\\\")\\nos.environ[\\\"HF_DATASETS_CACHE\\\"] = str(cache_path / \\\"huggingface\\\")\";\n",
       "                var nbb_cells = Jupyter.notebook.get_cells();\n",
       "                for (var i = 0; i < nbb_cells.length; ++i) {\n",
       "                    if (nbb_cells[i].input_prompt_number == nbb_cell_id) {\n",
       "                        if (nbb_cells[i].get_text() == nbb_unformatted_code) {\n",
       "                             nbb_cells[i].set_text(nbb_formatted_code);\n",
       "                        }\n",
       "                        break;\n",
       "                    }\n",
       "                }\n",
       "            }, 500);\n",
       "            "
      ],
      "text/plain": [
       "<IPython.core.display.Javascript object>"
      ]
     },
     "metadata": {},
     "output_type": "display_data"
    }
   ],
   "source": [
    "import os\n",
    "\n",
    "os.environ[\"TORCH_HOME\"] = str(cache_path / \"models\")\n",
    "os.environ[\"HF_HOME\"] = str(cache_path / \"huggingface\")\n",
    "os.environ[\"HUGGINGFACE_HUB_CACHE\"] = str(cache_path / \"huggingface\")\n",
    "os.environ[\"TRANSFORMERS_CACHE\"] = str(cache_path / \"huggingface\")\n",
    "os.environ[\"HF_DATASETS_CACHE\"] = str(cache_path / \"huggingface\")"
   ]
  },
  {
   "cell_type": "code",
   "execution_count": 4,
   "id": "115c3dae",
   "metadata": {},
   "outputs": [
    {
     "data": {
      "application/javascript": [
       "\n",
       "            setTimeout(function() {\n",
       "                var nbb_cell_id = 4;\n",
       "                var nbb_unformatted_code = \"import pytorch_lightning as pl\\nimport wget\\nfrom datasets import Dataset, load_dataset, DatasetDict, load_metric\\nimport torch.utils.data as td\\nfrom transformers import (\\n    AutoTokenizer,\\n    DataCollatorForSeq2Seq,\\n    AutoModelForSeq2SeqLM,\\n    EncoderDecoderModel,\\n    BertTokenizerFast,\\n    Seq2SeqTrainingArguments,\\n    Seq2SeqTrainer,\\n)\\nimport torch\\nfrom torchinfo import summary\\nimport torch.nn as nn\\nfrom copy import deepcopy\\nimport evaluate\\nfrom tqdm import tqdm\\nimport numpy as np\\nimport torch.nn.functional as F\";\n",
       "                var nbb_formatted_code = \"import pytorch_lightning as pl\\nimport wget\\nfrom datasets import Dataset, load_dataset, DatasetDict, load_metric\\nimport torch.utils.data as td\\nfrom transformers import (\\n    AutoTokenizer,\\n    DataCollatorForSeq2Seq,\\n    AutoModelForSeq2SeqLM,\\n    EncoderDecoderModel,\\n    BertTokenizerFast,\\n    Seq2SeqTrainingArguments,\\n    Seq2SeqTrainer,\\n)\\nimport torch\\nfrom torchinfo import summary\\nimport torch.nn as nn\\nfrom copy import deepcopy\\nimport evaluate\\nfrom tqdm import tqdm\\nimport numpy as np\\nimport torch.nn.functional as F\";\n",
       "                var nbb_cells = Jupyter.notebook.get_cells();\n",
       "                for (var i = 0; i < nbb_cells.length; ++i) {\n",
       "                    if (nbb_cells[i].input_prompt_number == nbb_cell_id) {\n",
       "                        if (nbb_cells[i].get_text() == nbb_unformatted_code) {\n",
       "                             nbb_cells[i].set_text(nbb_formatted_code);\n",
       "                        }\n",
       "                        break;\n",
       "                    }\n",
       "                }\n",
       "            }, 500);\n",
       "            "
      ],
      "text/plain": [
       "<IPython.core.display.Javascript object>"
      ]
     },
     "metadata": {},
     "output_type": "display_data"
    }
   ],
   "source": [
    "import pytorch_lightning as pl\n",
    "import wget\n",
    "from datasets import Dataset, load_dataset, DatasetDict, load_metric\n",
    "import torch.utils.data as td\n",
    "from transformers import (\n",
    "    AutoTokenizer,\n",
    "    DataCollatorForSeq2Seq,\n",
    "    AutoModelForSeq2SeqLM,\n",
    "    EncoderDecoderModel,\n",
    "    BertTokenizerFast,\n",
    "    Seq2SeqTrainingArguments,\n",
    "    Seq2SeqTrainer,\n",
    ")\n",
    "import torch\n",
    "from torchinfo import summary\n",
    "import torch.nn as nn\n",
    "from copy import deepcopy\n",
    "import evaluate\n",
    "from tqdm import tqdm\n",
    "import numpy as np\n",
    "import torch.nn.functional as F"
   ]
  },
  {
   "cell_type": "code",
   "execution_count": 5,
   "id": "bee680d4",
   "metadata": {},
   "outputs": [
    {
     "data": {
      "application/javascript": [
       "\n",
       "            setTimeout(function() {\n",
       "                var nbb_cell_id = 5;\n",
       "                var nbb_unformatted_code = \"# wget.download(\\n#     \\\"https://raw.githubusercontent.com/huggingface/transformers/main/examples/legacy/seq2seq/seq2seq_trainer.py\\\"\\n# )\\n# wget.download(\\n#     \\\"https://raw.githubusercontent.com/huggingface/transformers/main/examples/legacy/seq2seq/seq2seq_training_args.py\\\"\\n# )\";\n",
       "                var nbb_formatted_code = \"# wget.download(\\n#     \\\"https://raw.githubusercontent.com/huggingface/transformers/main/examples/legacy/seq2seq/seq2seq_trainer.py\\\"\\n# )\\n# wget.download(\\n#     \\\"https://raw.githubusercontent.com/huggingface/transformers/main/examples/legacy/seq2seq/seq2seq_training_args.py\\\"\\n# )\";\n",
       "                var nbb_cells = Jupyter.notebook.get_cells();\n",
       "                for (var i = 0; i < nbb_cells.length; ++i) {\n",
       "                    if (nbb_cells[i].input_prompt_number == nbb_cell_id) {\n",
       "                        if (nbb_cells[i].get_text() == nbb_unformatted_code) {\n",
       "                             nbb_cells[i].set_text(nbb_formatted_code);\n",
       "                        }\n",
       "                        break;\n",
       "                    }\n",
       "                }\n",
       "            }, 500);\n",
       "            "
      ],
      "text/plain": [
       "<IPython.core.display.Javascript object>"
      ]
     },
     "metadata": {},
     "output_type": "display_data"
    }
   ],
   "source": [
    "# wget.download(\n",
    "#     \"https://raw.githubusercontent.com/huggingface/transformers/main/examples/legacy/seq2seq/seq2seq_trainer.py\"\n",
    "# )\n",
    "# wget.download(\n",
    "#     \"https://raw.githubusercontent.com/huggingface/transformers/main/examples/legacy/seq2seq/seq2seq_training_args.py\"\n",
    "# )"
   ]
  },
  {
   "cell_type": "code",
   "execution_count": 6,
   "id": "f70ebb55",
   "metadata": {},
   "outputs": [
    {
     "data": {
      "application/javascript": [
       "\n",
       "            setTimeout(function() {\n",
       "                var nbb_cell_id = 6;\n",
       "                var nbb_unformatted_code = \"batch_size = 4\\nsource_lang = \\\"en\\\"\\ntarget_lang = \\\"ru\\\"\\nmax_input_length = 128\\nmax_target_length = 128\\nprefix = \\\"\\\"\";\n",
       "                var nbb_formatted_code = \"batch_size = 4\\nsource_lang = \\\"en\\\"\\ntarget_lang = \\\"ru\\\"\\nmax_input_length = 128\\nmax_target_length = 128\\nprefix = \\\"\\\"\";\n",
       "                var nbb_cells = Jupyter.notebook.get_cells();\n",
       "                for (var i = 0; i < nbb_cells.length; ++i) {\n",
       "                    if (nbb_cells[i].input_prompt_number == nbb_cell_id) {\n",
       "                        if (nbb_cells[i].get_text() == nbb_unformatted_code) {\n",
       "                             nbb_cells[i].set_text(nbb_formatted_code);\n",
       "                        }\n",
       "                        break;\n",
       "                    }\n",
       "                }\n",
       "            }, 500);\n",
       "            "
      ],
      "text/plain": [
       "<IPython.core.display.Javascript object>"
      ]
     },
     "metadata": {},
     "output_type": "display_data"
    }
   ],
   "source": [
    "batch_size = 4\n",
    "source_lang = \"en\"\n",
    "target_lang = \"ru\"\n",
    "max_input_length = 128\n",
    "max_target_length = 128\n",
    "prefix = \"\""
   ]
  },
  {
   "cell_type": "code",
   "execution_count": 7,
   "id": "78cc1015",
   "metadata": {},
   "outputs": [
    {
     "data": {
      "application/javascript": [
       "\n",
       "            setTimeout(function() {\n",
       "                var nbb_cell_id = 7;\n",
       "                var nbb_unformatted_code = \"device = torch.device(\\\"cuda\\\" if torch.cuda.is_available() else \\\"cpu\\\")\\nassert device.type == \\\"cuda\\\"\";\n",
       "                var nbb_formatted_code = \"device = torch.device(\\\"cuda\\\" if torch.cuda.is_available() else \\\"cpu\\\")\\nassert device.type == \\\"cuda\\\"\";\n",
       "                var nbb_cells = Jupyter.notebook.get_cells();\n",
       "                for (var i = 0; i < nbb_cells.length; ++i) {\n",
       "                    if (nbb_cells[i].input_prompt_number == nbb_cell_id) {\n",
       "                        if (nbb_cells[i].get_text() == nbb_unformatted_code) {\n",
       "                             nbb_cells[i].set_text(nbb_formatted_code);\n",
       "                        }\n",
       "                        break;\n",
       "                    }\n",
       "                }\n",
       "            }, 500);\n",
       "            "
      ],
      "text/plain": [
       "<IPython.core.display.Javascript object>"
      ]
     },
     "metadata": {},
     "output_type": "display_data"
    }
   ],
   "source": [
    "device = torch.device(\"cuda\" if torch.cuda.is_available() else \"cpu\")\n",
    "assert device.type == \"cuda\""
   ]
  },
  {
   "cell_type": "code",
   "execution_count": 8,
   "id": "d342ad3f",
   "metadata": {},
   "outputs": [
    {
     "data": {
      "application/javascript": [
       "\n",
       "            setTimeout(function() {\n",
       "                var nbb_cell_id = 8;\n",
       "                var nbb_unformatted_code = \"data_folder = Path(\\\"data\\\")\\nen_ru_data_path = data_folder / \\\"en-ru.txt\\\"\\nif not en_ru_data_path.exists():\\n    data_folder.mkdir(exist_ok=True)\\n    wget.download(\\n        \\\"https://raw.githubusercontent.com/neychev/made_nlp_course/master/datasets/Machine_translation_EN_RU/data.txt\\\",\\n        out=str(en_ru_data_path),\\n    )\";\n",
       "                var nbb_formatted_code = \"data_folder = Path(\\\"data\\\")\\nen_ru_data_path = data_folder / \\\"en-ru.txt\\\"\\nif not en_ru_data_path.exists():\\n    data_folder.mkdir(exist_ok=True)\\n    wget.download(\\n        \\\"https://raw.githubusercontent.com/neychev/made_nlp_course/master/datasets/Machine_translation_EN_RU/data.txt\\\",\\n        out=str(en_ru_data_path),\\n    )\";\n",
       "                var nbb_cells = Jupyter.notebook.get_cells();\n",
       "                for (var i = 0; i < nbb_cells.length; ++i) {\n",
       "                    if (nbb_cells[i].input_prompt_number == nbb_cell_id) {\n",
       "                        if (nbb_cells[i].get_text() == nbb_unformatted_code) {\n",
       "                             nbb_cells[i].set_text(nbb_formatted_code);\n",
       "                        }\n",
       "                        break;\n",
       "                    }\n",
       "                }\n",
       "            }, 500);\n",
       "            "
      ],
      "text/plain": [
       "<IPython.core.display.Javascript object>"
      ]
     },
     "metadata": {},
     "output_type": "display_data"
    }
   ],
   "source": [
    "data_folder = Path(\"data\")\n",
    "en_ru_data_path = data_folder / \"en-ru.txt\"\n",
    "if not en_ru_data_path.exists():\n",
    "    data_folder.mkdir(exist_ok=True)\n",
    "    wget.download(\n",
    "        \"https://raw.githubusercontent.com/neychev/made_nlp_course/master/datasets/Machine_translation_EN_RU/data.txt\",\n",
    "        out=str(en_ru_data_path),\n",
    "    )"
   ]
  },
  {
   "cell_type": "code",
   "execution_count": 9,
   "id": "a9da98c7",
   "metadata": {},
   "outputs": [
    {
     "data": {
      "application/javascript": [
       "\n",
       "            setTimeout(function() {\n",
       "                var nbb_cell_id = 9;\n",
       "                var nbb_unformatted_code = \"def dataset_convert_csv():\\n    with open(en_ru_data_path, encoding=\\\"utf8\\\") as f:\\n        lines = f.readlines()\\n    for line in lines:\\n        en, ru = line.split(\\\"\\\\t\\\")\\n        yield dict(translation=dict(en=en, ru=ru))\";\n",
       "                var nbb_formatted_code = \"def dataset_convert_csv():\\n    with open(en_ru_data_path, encoding=\\\"utf8\\\") as f:\\n        lines = f.readlines()\\n    for line in lines:\\n        en, ru = line.split(\\\"\\\\t\\\")\\n        yield dict(translation=dict(en=en, ru=ru))\";\n",
       "                var nbb_cells = Jupyter.notebook.get_cells();\n",
       "                for (var i = 0; i < nbb_cells.length; ++i) {\n",
       "                    if (nbb_cells[i].input_prompt_number == nbb_cell_id) {\n",
       "                        if (nbb_cells[i].get_text() == nbb_unformatted_code) {\n",
       "                             nbb_cells[i].set_text(nbb_formatted_code);\n",
       "                        }\n",
       "                        break;\n",
       "                    }\n",
       "                }\n",
       "            }, 500);\n",
       "            "
      ],
      "text/plain": [
       "<IPython.core.display.Javascript object>"
      ]
     },
     "metadata": {},
     "output_type": "display_data"
    }
   ],
   "source": [
    "def dataset_convert_csv():\n",
    "    with open(en_ru_data_path, encoding=\"utf8\") as f:\n",
    "        lines = f.readlines()\n",
    "    for line in lines:\n",
    "        en, ru = line.split(\"\\t\")\n",
    "        yield dict(translation=dict(en=en, ru=ru))"
   ]
  },
  {
   "cell_type": "code",
   "execution_count": 10,
   "id": "56ccf276",
   "metadata": {},
   "outputs": [
    {
     "name": "stderr",
     "output_type": "stream",
     "text": [
      "Found cached dataset generator (C:/tempjeka/cache/huggingface/generator/default-0d1afdb327d32ae1/0.0.0)\n",
      "Loading cached split indices for dataset at C:\\tempjeka\\cache\\huggingface\\generator\\default-0d1afdb327d32ae1\\0.0.0\\cache-79b8f716cada2ec2.arrow and C:\\tempjeka\\cache\\huggingface\\generator\\default-0d1afdb327d32ae1\\0.0.0\\cache-41909bb8188e82c6.arrow\n",
      "Loading cached split indices for dataset at C:\\tempjeka\\cache\\huggingface\\generator\\default-0d1afdb327d32ae1\\0.0.0\\cache-3d33209f1b428dce.arrow and C:\\tempjeka\\cache\\huggingface\\generator\\default-0d1afdb327d32ae1\\0.0.0\\cache-a05f216f3463ced0.arrow\n"
     ]
    },
    {
     "data": {
      "application/javascript": [
       "\n",
       "            setTimeout(function() {\n",
       "                var nbb_cell_id = 10;\n",
       "                var nbb_unformatted_code = \"tokenizer = BertTokenizerFast.from_pretrained(\\\"bert-base-multilingual-cased\\\")\\ntokenizer.bos_token = tokenizer.cls_token\\ntokenizer.eos_token = tokenizer.sep_token\\n\\ntest = Dataset.from_generator(\\n    dataset_convert_csv, cache_dir=os.environ[\\\"HF_DATASETS_CACHE\\\"]\\n).train_test_split(0.1, seed=0)\\nval = test[\\\"test\\\"].train_test_split(0.99, seed=0)\";\n",
       "                var nbb_formatted_code = \"tokenizer = BertTokenizerFast.from_pretrained(\\\"bert-base-multilingual-cased\\\")\\ntokenizer.bos_token = tokenizer.cls_token\\ntokenizer.eos_token = tokenizer.sep_token\\n\\ntest = Dataset.from_generator(\\n    dataset_convert_csv, cache_dir=os.environ[\\\"HF_DATASETS_CACHE\\\"]\\n).train_test_split(0.1, seed=0)\\nval = test[\\\"test\\\"].train_test_split(0.99, seed=0)\";\n",
       "                var nbb_cells = Jupyter.notebook.get_cells();\n",
       "                for (var i = 0; i < nbb_cells.length; ++i) {\n",
       "                    if (nbb_cells[i].input_prompt_number == nbb_cell_id) {\n",
       "                        if (nbb_cells[i].get_text() == nbb_unformatted_code) {\n",
       "                             nbb_cells[i].set_text(nbb_formatted_code);\n",
       "                        }\n",
       "                        break;\n",
       "                    }\n",
       "                }\n",
       "            }, 500);\n",
       "            "
      ],
      "text/plain": [
       "<IPython.core.display.Javascript object>"
      ]
     },
     "metadata": {},
     "output_type": "display_data"
    }
   ],
   "source": [
    "tokenizer = BertTokenizerFast.from_pretrained(\"bert-base-multilingual-cased\")\n",
    "tokenizer.bos_token = tokenizer.cls_token\n",
    "tokenizer.eos_token = tokenizer.sep_token\n",
    "\n",
    "test = Dataset.from_generator(\n",
    "    dataset_convert_csv, cache_dir=os.environ[\"HF_DATASETS_CACHE\"]\n",
    ").train_test_split(0.1, seed=0)\n",
    "val = test[\"test\"].train_test_split(0.99, seed=0)"
   ]
  },
  {
   "cell_type": "code",
   "execution_count": 11,
   "id": "1bbc611e",
   "metadata": {},
   "outputs": [
    {
     "data": {
      "application/javascript": [
       "\n",
       "            setTimeout(function() {\n",
       "                var nbb_cell_id = 11;\n",
       "                var nbb_unformatted_code = \"def preprocess_function(batch):\\n    inputs = tokenizer(\\n        [prefix + ex[source_lang] for ex in batch[\\\"translation\\\"]],\\n        max_length=max_input_length,\\n        truncation=True,\\n        padding=\\\"max_length\\\",\\n    )\\n    outputs = tokenizer(\\n        [ex[target_lang] for ex in batch[\\\"translation\\\"]],\\n        max_length=max_target_length,\\n        truncation=True,\\n        padding=\\\"max_length\\\",\\n    )\\n\\n    batch[\\\"input_ids\\\"] = inputs.input_ids\\n    batch[\\\"attention_mask\\\"] = inputs.attention_mask\\n    batch[\\\"decoder_input_ids\\\"] = outputs.input_ids\\n    batch[\\\"decoder_attention_mask\\\"] = outputs.attention_mask\\n    batch[\\\"labels\\\"] = outputs.input_ids.copy()\\n\\n    batch[\\\"labels\\\"] = [\\n        [-100 if token == tokenizer.pad_token_id else token for token in labels]\\n        for labels in batch[\\\"labels\\\"]\\n    ]\\n\\n    return batch\";\n",
       "                var nbb_formatted_code = \"def preprocess_function(batch):\\n    inputs = tokenizer(\\n        [prefix + ex[source_lang] for ex in batch[\\\"translation\\\"]],\\n        max_length=max_input_length,\\n        truncation=True,\\n        padding=\\\"max_length\\\",\\n    )\\n    outputs = tokenizer(\\n        [ex[target_lang] for ex in batch[\\\"translation\\\"]],\\n        max_length=max_target_length,\\n        truncation=True,\\n        padding=\\\"max_length\\\",\\n    )\\n\\n    batch[\\\"input_ids\\\"] = inputs.input_ids\\n    batch[\\\"attention_mask\\\"] = inputs.attention_mask\\n    batch[\\\"decoder_input_ids\\\"] = outputs.input_ids\\n    batch[\\\"decoder_attention_mask\\\"] = outputs.attention_mask\\n    batch[\\\"labels\\\"] = outputs.input_ids.copy()\\n\\n    batch[\\\"labels\\\"] = [\\n        [-100 if token == tokenizer.pad_token_id else token for token in labels]\\n        for labels in batch[\\\"labels\\\"]\\n    ]\\n\\n    return batch\";\n",
       "                var nbb_cells = Jupyter.notebook.get_cells();\n",
       "                for (var i = 0; i < nbb_cells.length; ++i) {\n",
       "                    if (nbb_cells[i].input_prompt_number == nbb_cell_id) {\n",
       "                        if (nbb_cells[i].get_text() == nbb_unformatted_code) {\n",
       "                             nbb_cells[i].set_text(nbb_formatted_code);\n",
       "                        }\n",
       "                        break;\n",
       "                    }\n",
       "                }\n",
       "            }, 500);\n",
       "            "
      ],
      "text/plain": [
       "<IPython.core.display.Javascript object>"
      ]
     },
     "metadata": {},
     "output_type": "display_data"
    }
   ],
   "source": [
    "def preprocess_function(batch):\n",
    "    inputs = tokenizer(\n",
    "        [prefix + ex[source_lang] for ex in batch[\"translation\"]],\n",
    "        max_length=max_input_length,\n",
    "        truncation=True,\n",
    "        padding=\"max_length\",\n",
    "    )\n",
    "    outputs = tokenizer(\n",
    "        [ex[target_lang] for ex in batch[\"translation\"]],\n",
    "        max_length=max_target_length,\n",
    "        truncation=True,\n",
    "        padding=\"max_length\",\n",
    "    )\n",
    "\n",
    "    batch[\"input_ids\"] = inputs.input_ids\n",
    "    batch[\"attention_mask\"] = inputs.attention_mask\n",
    "    batch[\"decoder_input_ids\"] = outputs.input_ids\n",
    "    batch[\"decoder_attention_mask\"] = outputs.attention_mask\n",
    "    batch[\"labels\"] = outputs.input_ids.copy()\n",
    "\n",
    "    batch[\"labels\"] = [\n",
    "        [-100 if token == tokenizer.pad_token_id else token for token in labels]\n",
    "        for labels in batch[\"labels\"]\n",
    "    ]\n",
    "\n",
    "    return batch"
   ]
  },
  {
   "cell_type": "code",
   "execution_count": 12,
   "id": "6aecc0a9",
   "metadata": {},
   "outputs": [
    {
     "data": {
      "application/vnd.jupyter.widget-view+json": {
       "model_id": "",
       "version_major": 2,
       "version_minor": 0
      },
      "text/plain": [
       "Map:   0%|          | 0/45000 [00:00<?, ? examples/s]"
      ]
     },
     "metadata": {},
     "output_type": "display_data"
    },
    {
     "data": {
      "application/vnd.jupyter.widget-view+json": {
       "model_id": "",
       "version_major": 2,
       "version_minor": 0
      },
      "text/plain": [
       "Map:   0%|          | 0/50 [00:00<?, ? examples/s]"
      ]
     },
     "metadata": {},
     "output_type": "display_data"
    },
    {
     "data": {
      "application/vnd.jupyter.widget-view+json": {
       "model_id": "",
       "version_major": 2,
       "version_minor": 0
      },
      "text/plain": [
       "Map:   0%|          | 0/4950 [00:00<?, ? examples/s]"
      ]
     },
     "metadata": {},
     "output_type": "display_data"
    },
    {
     "data": {
      "application/javascript": [
       "\n",
       "            setTimeout(function() {\n",
       "                var nbb_cell_id = 12;\n",
       "                var nbb_unformatted_code = \"dataset = DatasetDict(\\n    dict(train=test[\\\"train\\\"], val=val[\\\"train\\\"], test=val[\\\"test\\\"])\\n).map(preprocess_function, batched=True, batch_size=batch_size)\\ndataset.set_format(\\n    type=\\\"torch\\\",\\n    columns=[\\n        \\\"input_ids\\\",\\n        \\\"attention_mask\\\",\\n        \\\"decoder_input_ids\\\",\\n        \\\"decoder_attention_mask\\\",\\n        \\\"labels\\\",\\n    ],\\n)\";\n",
       "                var nbb_formatted_code = \"dataset = DatasetDict(\\n    dict(train=test[\\\"train\\\"], val=val[\\\"train\\\"], test=val[\\\"test\\\"])\\n).map(preprocess_function, batched=True, batch_size=batch_size)\\ndataset.set_format(\\n    type=\\\"torch\\\",\\n    columns=[\\n        \\\"input_ids\\\",\\n        \\\"attention_mask\\\",\\n        \\\"decoder_input_ids\\\",\\n        \\\"decoder_attention_mask\\\",\\n        \\\"labels\\\",\\n    ],\\n)\";\n",
       "                var nbb_cells = Jupyter.notebook.get_cells();\n",
       "                for (var i = 0; i < nbb_cells.length; ++i) {\n",
       "                    if (nbb_cells[i].input_prompt_number == nbb_cell_id) {\n",
       "                        if (nbb_cells[i].get_text() == nbb_unformatted_code) {\n",
       "                             nbb_cells[i].set_text(nbb_formatted_code);\n",
       "                        }\n",
       "                        break;\n",
       "                    }\n",
       "                }\n",
       "            }, 500);\n",
       "            "
      ],
      "text/plain": [
       "<IPython.core.display.Javascript object>"
      ]
     },
     "metadata": {},
     "output_type": "display_data"
    }
   ],
   "source": [
    "dataset = DatasetDict(\n",
    "    dict(train=test[\"train\"], val=val[\"train\"], test=val[\"test\"])\n",
    ").map(preprocess_function, batched=True, batch_size=batch_size)\n",
    "dataset.set_format(\n",
    "    type=\"torch\",\n",
    "    columns=[\n",
    "        \"input_ids\",\n",
    "        \"attention_mask\",\n",
    "        \"decoder_input_ids\",\n",
    "        \"decoder_attention_mask\",\n",
    "        \"labels\",\n",
    "    ],\n",
    ")"
   ]
  },
  {
   "cell_type": "code",
   "execution_count": 13,
   "id": "5b2e9565",
   "metadata": {},
   "outputs": [
    {
     "data": {
      "text/plain": [
       "(DatasetDict({\n",
       "     train: Dataset({\n",
       "         features: ['translation', 'input_ids', 'attention_mask', 'decoder_input_ids', 'decoder_attention_mask', 'labels'],\n",
       "         num_rows: 45000\n",
       "     })\n",
       "     val: Dataset({\n",
       "         features: ['translation', 'input_ids', 'attention_mask', 'decoder_input_ids', 'decoder_attention_mask', 'labels'],\n",
       "         num_rows: 50\n",
       "     })\n",
       "     test: Dataset({\n",
       "         features: ['translation', 'input_ids', 'attention_mask', 'decoder_input_ids', 'decoder_attention_mask', 'labels'],\n",
       "         num_rows: 4950\n",
       "     })\n",
       " }),\n",
       " {'input_ids': tensor([  101, 23223, 10464, 10124, 12566, 24713, 10336, 10111, 10393,   169,\n",
       "          10813, 10169, 31227, 10111, 16868,   118, 10178,   118, 17904, 48101,\n",
       "            119,   102,     0,     0,     0,     0,     0,     0,     0,     0,\n",
       "              0,     0,     0,     0,     0,     0,     0,     0,     0,     0,\n",
       "              0,     0,     0,     0,     0,     0,     0,     0,     0,     0,\n",
       "              0,     0,     0,     0,     0,     0,     0,     0,     0,     0,\n",
       "              0,     0,     0,     0,     0,     0,     0,     0,     0,     0,\n",
       "              0,     0,     0,     0,     0,     0,     0,     0,     0,     0,\n",
       "              0,     0,     0,     0,     0,     0,     0,     0,     0,     0,\n",
       "              0,     0,     0,     0,     0,     0,     0,     0,     0,     0,\n",
       "              0,     0,     0,     0,     0,     0,     0,     0,     0,     0,\n",
       "              0,     0,     0,     0,     0,     0,     0,     0,     0,     0,\n",
       "              0,     0,     0,     0,     0,     0,     0,     0]),\n",
       "  'attention_mask': tensor([1, 1, 1, 1, 1, 1, 1, 1, 1, 1, 1, 1, 1, 1, 1, 1, 1, 1, 1, 1, 1, 1, 0, 0,\n",
       "          0, 0, 0, 0, 0, 0, 0, 0, 0, 0, 0, 0, 0, 0, 0, 0, 0, 0, 0, 0, 0, 0, 0, 0,\n",
       "          0, 0, 0, 0, 0, 0, 0, 0, 0, 0, 0, 0, 0, 0, 0, 0, 0, 0, 0, 0, 0, 0, 0, 0,\n",
       "          0, 0, 0, 0, 0, 0, 0, 0, 0, 0, 0, 0, 0, 0, 0, 0, 0, 0, 0, 0, 0, 0, 0, 0,\n",
       "          0, 0, 0, 0, 0, 0, 0, 0, 0, 0, 0, 0, 0, 0, 0, 0, 0, 0, 0, 0, 0, 0, 0, 0,\n",
       "          0, 0, 0, 0, 0, 0, 0, 0]),\n",
       "  'decoder_input_ids': tensor([   101,    511,  17858,    560,  17961,  12528,  19021,    100,  33023,\n",
       "           12753,  86228,  28588,    117,    541,  11448,  63721,  13791,  48645,\n",
       "             558,    556, 105763,  26143,    570,  10510,  61568,  10241,    549,\n",
       "             558,  35280,  43372,  42623,  10191,  60402,  10508,    558,  17257,\n",
       "           17780,  99878,  10384,  10234,  12709,  10513, 104722,  10519,    119,\n",
       "             102,      0,      0,      0,      0,      0,      0,      0,      0,\n",
       "               0,      0,      0,      0,      0,      0,      0,      0,      0,\n",
       "               0,      0,      0,      0,      0,      0,      0,      0,      0,\n",
       "               0,      0,      0,      0,      0,      0,      0,      0,      0,\n",
       "               0,      0,      0,      0,      0,      0,      0,      0,      0,\n",
       "               0,      0,      0,      0,      0,      0,      0,      0,      0,\n",
       "               0,      0,      0,      0,      0,      0,      0,      0,      0,\n",
       "               0,      0,      0,      0,      0,      0,      0,      0,      0,\n",
       "               0,      0,      0,      0,      0,      0,      0,      0,      0,\n",
       "               0,      0]),\n",
       "  'decoder_attention_mask': tensor([1, 1, 1, 1, 1, 1, 1, 1, 1, 1, 1, 1, 1, 1, 1, 1, 1, 1, 1, 1, 1, 1, 1, 1,\n",
       "          1, 1, 1, 1, 1, 1, 1, 1, 1, 1, 1, 1, 1, 1, 1, 1, 1, 1, 1, 1, 1, 1, 0, 0,\n",
       "          0, 0, 0, 0, 0, 0, 0, 0, 0, 0, 0, 0, 0, 0, 0, 0, 0, 0, 0, 0, 0, 0, 0, 0,\n",
       "          0, 0, 0, 0, 0, 0, 0, 0, 0, 0, 0, 0, 0, 0, 0, 0, 0, 0, 0, 0, 0, 0, 0, 0,\n",
       "          0, 0, 0, 0, 0, 0, 0, 0, 0, 0, 0, 0, 0, 0, 0, 0, 0, 0, 0, 0, 0, 0, 0, 0,\n",
       "          0, 0, 0, 0, 0, 0, 0, 0]),\n",
       "  'labels': tensor([   101,    511,  17858,    560,  17961,  12528,  19021,    100,  33023,\n",
       "           12753,  86228,  28588,    117,    541,  11448,  63721,  13791,  48645,\n",
       "             558,    556, 105763,  26143,    570,  10510,  61568,  10241,    549,\n",
       "             558,  35280,  43372,  42623,  10191,  60402,  10508,    558,  17257,\n",
       "           17780,  99878,  10384,  10234,  12709,  10513, 104722,  10519,    119,\n",
       "             102,   -100,   -100,   -100,   -100,   -100,   -100,   -100,   -100,\n",
       "            -100,   -100,   -100,   -100,   -100,   -100,   -100,   -100,   -100,\n",
       "            -100,   -100,   -100,   -100,   -100,   -100,   -100,   -100,   -100,\n",
       "            -100,   -100,   -100,   -100,   -100,   -100,   -100,   -100,   -100,\n",
       "            -100,   -100,   -100,   -100,   -100,   -100,   -100,   -100,   -100,\n",
       "            -100,   -100,   -100,   -100,   -100,   -100,   -100,   -100,   -100,\n",
       "            -100,   -100,   -100,   -100,   -100,   -100,   -100,   -100,   -100,\n",
       "            -100,   -100,   -100,   -100,   -100,   -100,   -100,   -100,   -100,\n",
       "            -100,   -100,   -100,   -100,   -100,   -100,   -100,   -100,   -100,\n",
       "            -100,   -100])})"
      ]
     },
     "execution_count": 13,
     "metadata": {},
     "output_type": "execute_result"
    },
    {
     "data": {
      "application/javascript": [
       "\n",
       "            setTimeout(function() {\n",
       "                var nbb_cell_id = 13;\n",
       "                var nbb_unformatted_code = \"dataset, dataset[\\\"train\\\"][0]\";\n",
       "                var nbb_formatted_code = \"dataset, dataset[\\\"train\\\"][0]\";\n",
       "                var nbb_cells = Jupyter.notebook.get_cells();\n",
       "                for (var i = 0; i < nbb_cells.length; ++i) {\n",
       "                    if (nbb_cells[i].input_prompt_number == nbb_cell_id) {\n",
       "                        if (nbb_cells[i].get_text() == nbb_unformatted_code) {\n",
       "                             nbb_cells[i].set_text(nbb_formatted_code);\n",
       "                        }\n",
       "                        break;\n",
       "                    }\n",
       "                }\n",
       "            }, 500);\n",
       "            "
      ],
      "text/plain": [
       "<IPython.core.display.Javascript object>"
      ]
     },
     "metadata": {},
     "output_type": "display_data"
    }
   ],
   "source": [
    "dataset, dataset[\"train\"][0]"
   ]
  },
  {
   "cell_type": "code",
   "execution_count": 14,
   "id": "1e111932",
   "metadata": {},
   "outputs": [
    {
     "name": "stderr",
     "output_type": "stream",
     "text": [
      "Some weights of the model checkpoint at bert-base-multilingual-cased were not used when initializing BertModel: ['cls.predictions.transform.LayerNorm.bias', 'cls.predictions.transform.dense.weight', 'cls.seq_relationship.weight', 'cls.predictions.transform.LayerNorm.weight', 'cls.predictions.decoder.weight', 'cls.predictions.transform.dense.bias', 'cls.predictions.bias', 'cls.seq_relationship.bias']\n",
      "- This IS expected if you are initializing BertModel from the checkpoint of a model trained on another task or with another architecture (e.g. initializing a BertForSequenceClassification model from a BertForPreTraining model).\n",
      "- This IS NOT expected if you are initializing BertModel from the checkpoint of a model that you expect to be exactly identical (initializing a BertForSequenceClassification model from a BertForSequenceClassification model).\n",
      "Some weights of the model checkpoint at bert-base-multilingual-cased were not used when initializing BertLMHeadModel: ['cls.seq_relationship.bias', 'cls.seq_relationship.weight']\n",
      "- This IS expected if you are initializing BertLMHeadModel from the checkpoint of a model trained on another task or with another architecture (e.g. initializing a BertForSequenceClassification model from a BertForPreTraining model).\n",
      "- This IS NOT expected if you are initializing BertLMHeadModel from the checkpoint of a model that you expect to be exactly identical (initializing a BertForSequenceClassification model from a BertForSequenceClassification model).\n",
      "Some weights of BertLMHeadModel were not initialized from the model checkpoint at bert-base-multilingual-cased and are newly initialized: ['bert.encoder.layer.8.crossattention.self.value.bias', 'bert.encoder.layer.1.crossattention.self.query.weight', 'bert.encoder.layer.10.crossattention.output.dense.bias', 'bert.encoder.layer.3.crossattention.self.value.bias', 'bert.encoder.layer.6.crossattention.output.LayerNorm.bias', 'bert.encoder.layer.11.crossattention.output.dense.weight', 'bert.encoder.layer.6.crossattention.self.key.bias', 'bert.encoder.layer.9.crossattention.output.LayerNorm.weight', 'bert.encoder.layer.2.crossattention.self.key.weight', 'bert.encoder.layer.8.crossattention.output.dense.weight', 'bert.encoder.layer.1.crossattention.self.key.weight', 'bert.encoder.layer.2.crossattention.output.dense.weight', 'bert.encoder.layer.7.crossattention.self.query.weight', 'bert.encoder.layer.9.crossattention.self.value.bias', 'bert.encoder.layer.1.crossattention.output.dense.bias', 'bert.encoder.layer.7.crossattention.self.key.bias', 'bert.encoder.layer.3.crossattention.self.key.bias', 'bert.encoder.layer.0.crossattention.self.query.weight', 'bert.encoder.layer.8.crossattention.self.key.bias', 'bert.encoder.layer.8.crossattention.output.LayerNorm.bias', 'bert.encoder.layer.0.crossattention.self.value.weight', 'bert.encoder.layer.4.crossattention.self.value.weight', 'bert.encoder.layer.7.crossattention.self.query.bias', 'bert.encoder.layer.10.crossattention.output.LayerNorm.bias', 'bert.encoder.layer.11.crossattention.self.key.bias', 'bert.encoder.layer.2.crossattention.output.LayerNorm.bias', 'bert.encoder.layer.1.crossattention.self.value.weight', 'bert.encoder.layer.0.crossattention.self.key.weight', 'bert.encoder.layer.7.crossattention.output.LayerNorm.bias', 'bert.encoder.layer.2.crossattention.self.query.bias', 'bert.encoder.layer.1.crossattention.self.value.bias', 'bert.encoder.layer.10.crossattention.self.query.bias', 'bert.encoder.layer.3.crossattention.output.dense.weight', 'bert.encoder.layer.7.crossattention.output.dense.bias', 'bert.encoder.layer.10.crossattention.self.key.bias', 'bert.encoder.layer.10.crossattention.output.dense.weight', 'bert.encoder.layer.5.crossattention.self.value.bias', 'bert.encoder.layer.8.crossattention.self.value.weight', 'bert.encoder.layer.5.crossattention.self.query.weight', 'bert.encoder.layer.5.crossattention.output.dense.bias', 'bert.encoder.layer.3.crossattention.self.value.weight', 'bert.encoder.layer.4.crossattention.self.value.bias', 'bert.encoder.layer.5.crossattention.self.value.weight', 'bert.encoder.layer.0.crossattention.self.query.bias', 'bert.encoder.layer.11.crossattention.output.dense.bias', 'bert.encoder.layer.1.crossattention.output.LayerNorm.weight', 'bert.encoder.layer.7.crossattention.output.dense.weight', 'bert.encoder.layer.5.crossattention.output.LayerNorm.weight', 'bert.encoder.layer.10.crossattention.self.key.weight', 'bert.encoder.layer.2.crossattention.self.key.bias', 'bert.encoder.layer.4.crossattention.output.dense.bias', 'bert.encoder.layer.4.crossattention.self.key.bias', 'bert.encoder.layer.0.crossattention.output.dense.weight', 'bert.encoder.layer.5.crossattention.self.key.weight', 'bert.encoder.layer.6.crossattention.self.value.weight', 'bert.encoder.layer.10.crossattention.self.query.weight', 'bert.encoder.layer.11.crossattention.self.value.weight', 'bert.encoder.layer.11.crossattention.output.LayerNorm.bias', 'bert.encoder.layer.2.crossattention.self.query.weight', 'bert.encoder.layer.0.crossattention.output.LayerNorm.bias', 'bert.encoder.layer.4.crossattention.self.query.weight', 'bert.encoder.layer.9.crossattention.self.query.bias', 'bert.encoder.layer.3.crossattention.self.query.weight', 'bert.encoder.layer.5.crossattention.self.query.bias', 'bert.encoder.layer.4.crossattention.output.LayerNorm.bias', 'bert.encoder.layer.1.crossattention.self.query.bias', 'bert.encoder.layer.0.crossattention.self.value.bias', 'bert.encoder.layer.6.crossattention.self.query.weight', 'bert.encoder.layer.9.crossattention.self.query.weight', 'bert.encoder.layer.10.crossattention.output.LayerNorm.weight', 'bert.encoder.layer.1.crossattention.self.key.bias', 'bert.encoder.layer.3.crossattention.self.key.weight', 'bert.encoder.layer.5.crossattention.output.LayerNorm.bias', 'bert.encoder.layer.6.crossattention.self.value.bias', 'bert.encoder.layer.4.crossattention.output.dense.weight', 'bert.encoder.layer.11.crossattention.self.key.weight', 'bert.encoder.layer.3.crossattention.self.query.bias', 'bert.encoder.layer.8.crossattention.self.query.weight', 'bert.encoder.layer.11.crossattention.self.query.weight', 'bert.encoder.layer.9.crossattention.self.key.bias', 'bert.encoder.layer.6.crossattention.self.key.weight', 'bert.encoder.layer.6.crossattention.output.dense.weight', 'bert.encoder.layer.2.crossattention.output.dense.bias', 'bert.encoder.layer.9.crossattention.self.value.weight', 'bert.encoder.layer.0.crossattention.output.dense.bias', 'bert.encoder.layer.3.crossattention.output.LayerNorm.weight', 'bert.encoder.layer.7.crossattention.self.value.weight', 'bert.encoder.layer.9.crossattention.output.dense.weight', 'bert.encoder.layer.6.crossattention.output.dense.bias', 'bert.encoder.layer.10.crossattention.self.value.bias', 'bert.encoder.layer.2.crossattention.output.LayerNorm.weight', 'bert.encoder.layer.0.crossattention.output.LayerNorm.weight', 'bert.encoder.layer.7.crossattention.self.key.weight', 'bert.encoder.layer.8.crossattention.self.key.weight', 'bert.encoder.layer.9.crossattention.output.dense.bias', 'bert.encoder.layer.4.crossattention.self.query.bias', 'bert.encoder.layer.2.crossattention.self.value.weight', 'bert.encoder.layer.7.crossattention.self.value.bias', 'bert.encoder.layer.8.crossattention.self.query.bias', 'bert.encoder.layer.6.crossattention.self.query.bias', 'bert.encoder.layer.11.crossattention.self.value.bias', 'bert.encoder.layer.5.crossattention.self.key.bias', 'bert.encoder.layer.0.crossattention.self.key.bias', 'bert.encoder.layer.6.crossattention.output.LayerNorm.weight', 'bert.encoder.layer.1.crossattention.output.LayerNorm.bias', 'bert.encoder.layer.3.crossattention.output.LayerNorm.bias', 'bert.encoder.layer.11.crossattention.self.query.bias', 'bert.encoder.layer.8.crossattention.output.LayerNorm.weight', 'bert.encoder.layer.8.crossattention.output.dense.bias', 'bert.encoder.layer.2.crossattention.self.value.bias', 'bert.encoder.layer.9.crossattention.self.key.weight', 'bert.encoder.layer.10.crossattention.self.value.weight', 'bert.encoder.layer.4.crossattention.output.LayerNorm.weight', 'bert.encoder.layer.7.crossattention.output.LayerNorm.weight', 'bert.encoder.layer.4.crossattention.self.key.weight', 'bert.encoder.layer.1.crossattention.output.dense.weight', 'bert.encoder.layer.3.crossattention.output.dense.bias', 'bert.encoder.layer.11.crossattention.output.LayerNorm.weight', 'bert.encoder.layer.9.crossattention.output.LayerNorm.bias', 'bert.encoder.layer.5.crossattention.output.dense.weight']\n",
      "You should probably TRAIN this model on a down-stream task to be able to use it for predictions and inference.\n"
     ]
    },
    {
     "data": {
      "application/javascript": [
       "\n",
       "            setTimeout(function() {\n",
       "                var nbb_cell_id = 14;\n",
       "                var nbb_unformatted_code = \"from transformers import EncoderDecoderModel\\nfrom transformers.modeling_outputs import Seq2SeqLMOutput\\n\\n\\nclass TranslationModel(EncoderDecoderModel):\\n    def forward(\\n        self,\\n        input_ids=None,\\n        attention_mask=None,\\n        decoder_input_ids=None,\\n        decoder_attention_mask=None,\\n        encoder_outputs=None,\\n        past_key_values=None,\\n        inputs_embeds=None,\\n        decoder_inputs_embeds=None,\\n        labels=None,\\n        use_cache=None,\\n        output_attentions=None,\\n        output_hidden_states=None,\\n        return_dict=None,\\n        **kwargs,\\n    ):\\n        return_dict = (\\n            return_dict if return_dict is not None else self.config.use_return_dict\\n        )\\n        kwargs_encoder = {\\n            argument: value\\n            for argument, value in kwargs.items()\\n            if not argument.startswith(\\\"decoder_\\\")\\n        }\\n        kwargs_decoder = {\\n            argument[len(\\\"decoder_\\\") :]: value\\n            for argument, value in kwargs.items()\\n            if argument.startswith(\\\"decoder_\\\")\\n        }\\n        if encoder_outputs is None:\\n            encoder_outputs = self.encoder(\\n                input_ids=input_ids,\\n                attention_mask=attention_mask,\\n                inputs_embeds=inputs_embeds,\\n                output_attentions=output_attentions,\\n                output_hidden_states=output_hidden_states,\\n                return_dict=return_dict,\\n                **kwargs_encoder,\\n            )\\n\\n        encoder_hidden_states = encoder_outputs[0]\\n        # Decode\\n        decoder_outputs = self.decoder(\\n            input_ids=decoder_input_ids,\\n            attention_mask=decoder_attention_mask,\\n            encoder_hidden_states=encoder_hidden_states,\\n            encoder_attention_mask=attention_mask,\\n            inputs_embeds=decoder_inputs_embeds,\\n            labels=labels,\\n            output_attentions=output_attentions,\\n            output_hidden_states=output_hidden_states,\\n            use_cache=use_cache,\\n            past_key_values=past_key_values,\\n            return_dict=return_dict,\\n            **kwargs_decoder,\\n        )\\n        if not return_dict:\\n            return decoder_outputs + encoder_outputs\\n\\n        return Seq2SeqLMOutput(\\n            loss=decoder_outputs.loss,\\n            logits=decoder_outputs.logits,\\n            past_key_values=decoder_outputs.past_key_values,\\n            decoder_hidden_states=decoder_outputs.hidden_states,\\n            decoder_attentions=decoder_outputs.attentions,\\n            cross_attentions=decoder_outputs.cross_attentions,\\n            encoder_last_hidden_state=encoder_outputs.last_hidden_state,\\n            encoder_hidden_states=encoder_outputs.hidden_states,\\n            encoder_attentions=encoder_outputs.attentions,\\n        )\\n\\n\\nbert2bert = TranslationModel.from_encoder_decoder_pretrained(\\n    \\\"bert-base-multilingual-cased\\\", \\\"bert-base-multilingual-cased\\\"\\n)\";\n",
       "                var nbb_formatted_code = \"from transformers import EncoderDecoderModel\\nfrom transformers.modeling_outputs import Seq2SeqLMOutput\\n\\n\\nclass TranslationModel(EncoderDecoderModel):\\n    def forward(\\n        self,\\n        input_ids=None,\\n        attention_mask=None,\\n        decoder_input_ids=None,\\n        decoder_attention_mask=None,\\n        encoder_outputs=None,\\n        past_key_values=None,\\n        inputs_embeds=None,\\n        decoder_inputs_embeds=None,\\n        labels=None,\\n        use_cache=None,\\n        output_attentions=None,\\n        output_hidden_states=None,\\n        return_dict=None,\\n        **kwargs,\\n    ):\\n        return_dict = (\\n            return_dict if return_dict is not None else self.config.use_return_dict\\n        )\\n        kwargs_encoder = {\\n            argument: value\\n            for argument, value in kwargs.items()\\n            if not argument.startswith(\\\"decoder_\\\")\\n        }\\n        kwargs_decoder = {\\n            argument[len(\\\"decoder_\\\") :]: value\\n            for argument, value in kwargs.items()\\n            if argument.startswith(\\\"decoder_\\\")\\n        }\\n        if encoder_outputs is None:\\n            encoder_outputs = self.encoder(\\n                input_ids=input_ids,\\n                attention_mask=attention_mask,\\n                inputs_embeds=inputs_embeds,\\n                output_attentions=output_attentions,\\n                output_hidden_states=output_hidden_states,\\n                return_dict=return_dict,\\n                **kwargs_encoder,\\n            )\\n\\n        encoder_hidden_states = encoder_outputs[0]\\n        # Decode\\n        decoder_outputs = self.decoder(\\n            input_ids=decoder_input_ids,\\n            attention_mask=decoder_attention_mask,\\n            encoder_hidden_states=encoder_hidden_states,\\n            encoder_attention_mask=attention_mask,\\n            inputs_embeds=decoder_inputs_embeds,\\n            labels=labels,\\n            output_attentions=output_attentions,\\n            output_hidden_states=output_hidden_states,\\n            use_cache=use_cache,\\n            past_key_values=past_key_values,\\n            return_dict=return_dict,\\n            **kwargs_decoder,\\n        )\\n        if not return_dict:\\n            return decoder_outputs + encoder_outputs\\n\\n        return Seq2SeqLMOutput(\\n            loss=decoder_outputs.loss,\\n            logits=decoder_outputs.logits,\\n            past_key_values=decoder_outputs.past_key_values,\\n            decoder_hidden_states=decoder_outputs.hidden_states,\\n            decoder_attentions=decoder_outputs.attentions,\\n            cross_attentions=decoder_outputs.cross_attentions,\\n            encoder_last_hidden_state=encoder_outputs.last_hidden_state,\\n            encoder_hidden_states=encoder_outputs.hidden_states,\\n            encoder_attentions=encoder_outputs.attentions,\\n        )\\n\\n\\nbert2bert = TranslationModel.from_encoder_decoder_pretrained(\\n    \\\"bert-base-multilingual-cased\\\", \\\"bert-base-multilingual-cased\\\"\\n)\";\n",
       "                var nbb_cells = Jupyter.notebook.get_cells();\n",
       "                for (var i = 0; i < nbb_cells.length; ++i) {\n",
       "                    if (nbb_cells[i].input_prompt_number == nbb_cell_id) {\n",
       "                        if (nbb_cells[i].get_text() == nbb_unformatted_code) {\n",
       "                             nbb_cells[i].set_text(nbb_formatted_code);\n",
       "                        }\n",
       "                        break;\n",
       "                    }\n",
       "                }\n",
       "            }, 500);\n",
       "            "
      ],
      "text/plain": [
       "<IPython.core.display.Javascript object>"
      ]
     },
     "metadata": {},
     "output_type": "display_data"
    }
   ],
   "source": [
    "from transformers import EncoderDecoderModel\n",
    "from transformers.modeling_outputs import Seq2SeqLMOutput\n",
    "\n",
    "\n",
    "class TranslationModel(EncoderDecoderModel):\n",
    "    def forward(\n",
    "        self,\n",
    "        input_ids=None,\n",
    "        attention_mask=None,\n",
    "        decoder_input_ids=None,\n",
    "        decoder_attention_mask=None,\n",
    "        encoder_outputs=None,\n",
    "        past_key_values=None,\n",
    "        inputs_embeds=None,\n",
    "        decoder_inputs_embeds=None,\n",
    "        labels=None,\n",
    "        use_cache=None,\n",
    "        output_attentions=None,\n",
    "        output_hidden_states=None,\n",
    "        return_dict=None,\n",
    "        **kwargs,\n",
    "    ):\n",
    "        return_dict = (\n",
    "            return_dict if return_dict is not None else self.config.use_return_dict\n",
    "        )\n",
    "        kwargs_encoder = {\n",
    "            argument: value\n",
    "            for argument, value in kwargs.items()\n",
    "            if not argument.startswith(\"decoder_\")\n",
    "        }\n",
    "        kwargs_decoder = {\n",
    "            argument[len(\"decoder_\") :]: value\n",
    "            for argument, value in kwargs.items()\n",
    "            if argument.startswith(\"decoder_\")\n",
    "        }\n",
    "        if encoder_outputs is None:\n",
    "            encoder_outputs = self.encoder(\n",
    "                input_ids=input_ids,\n",
    "                attention_mask=attention_mask,\n",
    "                inputs_embeds=inputs_embeds,\n",
    "                output_attentions=output_attentions,\n",
    "                output_hidden_states=output_hidden_states,\n",
    "                return_dict=return_dict,\n",
    "                **kwargs_encoder,\n",
    "            )\n",
    "\n",
    "        encoder_hidden_states = encoder_outputs[0]\n",
    "        # Decode\n",
    "        decoder_outputs = self.decoder(\n",
    "            input_ids=decoder_input_ids,\n",
    "            attention_mask=decoder_attention_mask,\n",
    "            encoder_hidden_states=encoder_hidden_states,\n",
    "            encoder_attention_mask=attention_mask,\n",
    "            inputs_embeds=decoder_inputs_embeds,\n",
    "            labels=labels,\n",
    "            output_attentions=output_attentions,\n",
    "            output_hidden_states=output_hidden_states,\n",
    "            use_cache=use_cache,\n",
    "            past_key_values=past_key_values,\n",
    "            return_dict=return_dict,\n",
    "            **kwargs_decoder,\n",
    "        )\n",
    "        if not return_dict:\n",
    "            return decoder_outputs + encoder_outputs\n",
    "\n",
    "        return Seq2SeqLMOutput(\n",
    "            loss=decoder_outputs.loss,\n",
    "            logits=decoder_outputs.logits,\n",
    "            past_key_values=decoder_outputs.past_key_values,\n",
    "            decoder_hidden_states=decoder_outputs.hidden_states,\n",
    "            decoder_attentions=decoder_outputs.attentions,\n",
    "            cross_attentions=decoder_outputs.cross_attentions,\n",
    "            encoder_last_hidden_state=encoder_outputs.last_hidden_state,\n",
    "            encoder_hidden_states=encoder_outputs.hidden_states,\n",
    "            encoder_attentions=encoder_outputs.attentions,\n",
    "        )\n",
    "\n",
    "\n",
    "bert2bert = TranslationModel.from_encoder_decoder_pretrained(\n",
    "    \"bert-base-multilingual-cased\", \"bert-base-multilingual-cased\"\n",
    ")"
   ]
  },
  {
   "cell_type": "code",
   "execution_count": 15,
   "id": "4f279a23",
   "metadata": {},
   "outputs": [
    {
     "data": {
      "text/plain": [
       "TranslationModel(\n",
       "  (encoder): BertModel(\n",
       "    (embeddings): BertEmbeddings(\n",
       "      (word_embeddings): Embedding(119547, 768, padding_idx=0)\n",
       "      (position_embeddings): Embedding(512, 768)\n",
       "      (token_type_embeddings): Embedding(2, 768)\n",
       "      (LayerNorm): LayerNorm((768,), eps=1e-12, elementwise_affine=True)\n",
       "      (dropout): Dropout(p=0.1, inplace=False)\n",
       "    )\n",
       "    (encoder): BertEncoder(\n",
       "      (layer): ModuleList(\n",
       "        (0-11): 12 x BertLayer(\n",
       "          (attention): BertAttention(\n",
       "            (self): BertSelfAttention(\n",
       "              (query): Linear(in_features=768, out_features=768, bias=True)\n",
       "              (key): Linear(in_features=768, out_features=768, bias=True)\n",
       "              (value): Linear(in_features=768, out_features=768, bias=True)\n",
       "              (dropout): Dropout(p=0.1, inplace=False)\n",
       "            )\n",
       "            (output): BertSelfOutput(\n",
       "              (dense): Linear(in_features=768, out_features=768, bias=True)\n",
       "              (LayerNorm): LayerNorm((768,), eps=1e-12, elementwise_affine=True)\n",
       "              (dropout): Dropout(p=0.1, inplace=False)\n",
       "            )\n",
       "          )\n",
       "          (intermediate): BertIntermediate(\n",
       "            (dense): Linear(in_features=768, out_features=3072, bias=True)\n",
       "            (intermediate_act_fn): GELUActivation()\n",
       "          )\n",
       "          (output): BertOutput(\n",
       "            (dense): Linear(in_features=3072, out_features=768, bias=True)\n",
       "            (LayerNorm): LayerNorm((768,), eps=1e-12, elementwise_affine=True)\n",
       "            (dropout): Dropout(p=0.1, inplace=False)\n",
       "          )\n",
       "        )\n",
       "      )\n",
       "    )\n",
       "    (pooler): BertPooler(\n",
       "      (dense): Linear(in_features=768, out_features=768, bias=True)\n",
       "      (activation): Tanh()\n",
       "    )\n",
       "  )\n",
       "  (decoder): BertLMHeadModel(\n",
       "    (bert): BertModel(\n",
       "      (embeddings): BertEmbeddings(\n",
       "        (word_embeddings): Embedding(119547, 768, padding_idx=0)\n",
       "        (position_embeddings): Embedding(512, 768)\n",
       "        (token_type_embeddings): Embedding(2, 768)\n",
       "        (LayerNorm): LayerNorm((768,), eps=1e-12, elementwise_affine=True)\n",
       "        (dropout): Dropout(p=0.1, inplace=False)\n",
       "      )\n",
       "      (encoder): BertEncoder(\n",
       "        (layer): ModuleList(\n",
       "          (0-11): 12 x BertLayer(\n",
       "            (attention): BertAttention(\n",
       "              (self): BertSelfAttention(\n",
       "                (query): Linear(in_features=768, out_features=768, bias=True)\n",
       "                (key): Linear(in_features=768, out_features=768, bias=True)\n",
       "                (value): Linear(in_features=768, out_features=768, bias=True)\n",
       "                (dropout): Dropout(p=0.1, inplace=False)\n",
       "              )\n",
       "              (output): BertSelfOutput(\n",
       "                (dense): Linear(in_features=768, out_features=768, bias=True)\n",
       "                (LayerNorm): LayerNorm((768,), eps=1e-12, elementwise_affine=True)\n",
       "                (dropout): Dropout(p=0.1, inplace=False)\n",
       "              )\n",
       "            )\n",
       "            (crossattention): BertAttention(\n",
       "              (self): BertSelfAttention(\n",
       "                (query): Linear(in_features=768, out_features=768, bias=True)\n",
       "                (key): Linear(in_features=768, out_features=768, bias=True)\n",
       "                (value): Linear(in_features=768, out_features=768, bias=True)\n",
       "                (dropout): Dropout(p=0.1, inplace=False)\n",
       "              )\n",
       "              (output): BertSelfOutput(\n",
       "                (dense): Linear(in_features=768, out_features=768, bias=True)\n",
       "                (LayerNorm): LayerNorm((768,), eps=1e-12, elementwise_affine=True)\n",
       "                (dropout): Dropout(p=0.1, inplace=False)\n",
       "              )\n",
       "            )\n",
       "            (intermediate): BertIntermediate(\n",
       "              (dense): Linear(in_features=768, out_features=3072, bias=True)\n",
       "              (intermediate_act_fn): GELUActivation()\n",
       "            )\n",
       "            (output): BertOutput(\n",
       "              (dense): Linear(in_features=3072, out_features=768, bias=True)\n",
       "              (LayerNorm): LayerNorm((768,), eps=1e-12, elementwise_affine=True)\n",
       "              (dropout): Dropout(p=0.1, inplace=False)\n",
       "            )\n",
       "          )\n",
       "        )\n",
       "      )\n",
       "    )\n",
       "    (cls): BertOnlyMLMHead(\n",
       "      (predictions): BertLMPredictionHead(\n",
       "        (transform): BertPredictionHeadTransform(\n",
       "          (dense): Linear(in_features=768, out_features=768, bias=True)\n",
       "          (transform_act_fn): GELUActivation()\n",
       "          (LayerNorm): LayerNorm((768,), eps=1e-12, elementwise_affine=True)\n",
       "        )\n",
       "        (decoder): Linear(in_features=768, out_features=119547, bias=True)\n",
       "      )\n",
       "    )\n",
       "  )\n",
       ")"
      ]
     },
     "execution_count": 15,
     "metadata": {},
     "output_type": "execute_result"
    },
    {
     "data": {
      "application/javascript": [
       "\n",
       "            setTimeout(function() {\n",
       "                var nbb_cell_id = 15;\n",
       "                var nbb_unformatted_code = \"bert2bert\";\n",
       "                var nbb_formatted_code = \"bert2bert\";\n",
       "                var nbb_cells = Jupyter.notebook.get_cells();\n",
       "                for (var i = 0; i < nbb_cells.length; ++i) {\n",
       "                    if (nbb_cells[i].input_prompt_number == nbb_cell_id) {\n",
       "                        if (nbb_cells[i].get_text() == nbb_unformatted_code) {\n",
       "                             nbb_cells[i].set_text(nbb_formatted_code);\n",
       "                        }\n",
       "                        break;\n",
       "                    }\n",
       "                }\n",
       "            }, 500);\n",
       "            "
      ],
      "text/plain": [
       "<IPython.core.display.Javascript object>"
      ]
     },
     "metadata": {},
     "output_type": "display_data"
    }
   ],
   "source": [
    "bert2bert"
   ]
  },
  {
   "cell_type": "code",
   "execution_count": 16,
   "id": "0e595376",
   "metadata": {},
   "outputs": [
    {
     "data": {
      "application/javascript": [
       "\n",
       "            setTimeout(function() {\n",
       "                var nbb_cell_id = 16;\n",
       "                var nbb_unformatted_code = \"# bert2bert = EncoderDecoderModel.from_pretrained(\\\"bert2bert\\\")\";\n",
       "                var nbb_formatted_code = \"# bert2bert = EncoderDecoderModel.from_pretrained(\\\"bert2bert\\\")\";\n",
       "                var nbb_cells = Jupyter.notebook.get_cells();\n",
       "                for (var i = 0; i < nbb_cells.length; ++i) {\n",
       "                    if (nbb_cells[i].input_prompt_number == nbb_cell_id) {\n",
       "                        if (nbb_cells[i].get_text() == nbb_unformatted_code) {\n",
       "                             nbb_cells[i].set_text(nbb_formatted_code);\n",
       "                        }\n",
       "                        break;\n",
       "                    }\n",
       "                }\n",
       "            }, 500);\n",
       "            "
      ],
      "text/plain": [
       "<IPython.core.display.Javascript object>"
      ]
     },
     "metadata": {},
     "output_type": "display_data"
    }
   ],
   "source": [
    "# bert2bert = EncoderDecoderModel.from_pretrained(\"bert2bert\")"
   ]
  },
  {
   "cell_type": "code",
   "execution_count": 17,
   "id": "a6e48a45",
   "metadata": {},
   "outputs": [
    {
     "data": {
      "text/plain": [
       "EncoderDecoderConfig {\n",
       "  \"_commit_hash\": null,\n",
       "  \"decoder\": {\n",
       "    \"_name_or_path\": \"bert-base-multilingual-cased\",\n",
       "    \"add_cross_attention\": true,\n",
       "    \"architectures\": [\n",
       "      \"BertForMaskedLM\"\n",
       "    ],\n",
       "    \"attention_probs_dropout_prob\": 0.1,\n",
       "    \"bad_words_ids\": null,\n",
       "    \"begin_suppress_tokens\": null,\n",
       "    \"bos_token_id\": null,\n",
       "    \"chunk_size_feed_forward\": 0,\n",
       "    \"classifier_dropout\": null,\n",
       "    \"cross_attention_hidden_size\": null,\n",
       "    \"decoder_start_token_id\": null,\n",
       "    \"directionality\": \"bidi\",\n",
       "    \"diversity_penalty\": 0.0,\n",
       "    \"do_sample\": false,\n",
       "    \"early_stopping\": false,\n",
       "    \"encoder_no_repeat_ngram_size\": 0,\n",
       "    \"eos_token_id\": null,\n",
       "    \"exponential_decay_length_penalty\": null,\n",
       "    \"finetuning_task\": null,\n",
       "    \"forced_bos_token_id\": null,\n",
       "    \"forced_eos_token_id\": null,\n",
       "    \"hidden_act\": \"gelu\",\n",
       "    \"hidden_dropout_prob\": 0.1,\n",
       "    \"hidden_size\": 768,\n",
       "    \"id2label\": {\n",
       "      \"0\": \"LABEL_0\",\n",
       "      \"1\": \"LABEL_1\"\n",
       "    },\n",
       "    \"initializer_range\": 0.02,\n",
       "    \"intermediate_size\": 3072,\n",
       "    \"is_decoder\": true,\n",
       "    \"is_encoder_decoder\": false,\n",
       "    \"label2id\": {\n",
       "      \"LABEL_0\": 0,\n",
       "      \"LABEL_1\": 1\n",
       "    },\n",
       "    \"layer_norm_eps\": 1e-12,\n",
       "    \"length_penalty\": 1.0,\n",
       "    \"max_length\": 20,\n",
       "    \"max_position_embeddings\": 512,\n",
       "    \"min_length\": 0,\n",
       "    \"model_type\": \"bert\",\n",
       "    \"no_repeat_ngram_size\": 0,\n",
       "    \"num_attention_heads\": 12,\n",
       "    \"num_beam_groups\": 1,\n",
       "    \"num_beams\": 1,\n",
       "    \"num_hidden_layers\": 12,\n",
       "    \"num_return_sequences\": 1,\n",
       "    \"output_attentions\": false,\n",
       "    \"output_hidden_states\": false,\n",
       "    \"output_scores\": false,\n",
       "    \"pad_token_id\": 0,\n",
       "    \"pooler_fc_size\": 768,\n",
       "    \"pooler_num_attention_heads\": 12,\n",
       "    \"pooler_num_fc_layers\": 3,\n",
       "    \"pooler_size_per_head\": 128,\n",
       "    \"pooler_type\": \"first_token_transform\",\n",
       "    \"position_embedding_type\": \"absolute\",\n",
       "    \"prefix\": null,\n",
       "    \"problem_type\": null,\n",
       "    \"pruned_heads\": {},\n",
       "    \"remove_invalid_values\": false,\n",
       "    \"repetition_penalty\": 1.0,\n",
       "    \"return_dict\": true,\n",
       "    \"return_dict_in_generate\": false,\n",
       "    \"sep_token_id\": null,\n",
       "    \"suppress_tokens\": null,\n",
       "    \"task_specific_params\": null,\n",
       "    \"temperature\": 1.0,\n",
       "    \"tf_legacy_loss\": false,\n",
       "    \"tie_encoder_decoder\": false,\n",
       "    \"tie_word_embeddings\": true,\n",
       "    \"tokenizer_class\": null,\n",
       "    \"top_k\": 50,\n",
       "    \"top_p\": 1.0,\n",
       "    \"torch_dtype\": null,\n",
       "    \"torchscript\": false,\n",
       "    \"transformers_version\": \"4.28.1\",\n",
       "    \"type_vocab_size\": 2,\n",
       "    \"typical_p\": 1.0,\n",
       "    \"use_bfloat16\": false,\n",
       "    \"use_cache\": true,\n",
       "    \"vocab_size\": 119547\n",
       "  },\n",
       "  \"decoder_start_token_id\": 101,\n",
       "  \"early_stopping\": true,\n",
       "  \"encoder\": {\n",
       "    \"_name_or_path\": \"bert-base-multilingual-cased\",\n",
       "    \"add_cross_attention\": false,\n",
       "    \"architectures\": [\n",
       "      \"BertForMaskedLM\"\n",
       "    ],\n",
       "    \"attention_probs_dropout_prob\": 0.1,\n",
       "    \"bad_words_ids\": null,\n",
       "    \"begin_suppress_tokens\": null,\n",
       "    \"bos_token_id\": null,\n",
       "    \"chunk_size_feed_forward\": 0,\n",
       "    \"classifier_dropout\": null,\n",
       "    \"cross_attention_hidden_size\": null,\n",
       "    \"decoder_start_token_id\": null,\n",
       "    \"directionality\": \"bidi\",\n",
       "    \"diversity_penalty\": 0.0,\n",
       "    \"do_sample\": false,\n",
       "    \"early_stopping\": false,\n",
       "    \"encoder_no_repeat_ngram_size\": 0,\n",
       "    \"eos_token_id\": null,\n",
       "    \"exponential_decay_length_penalty\": null,\n",
       "    \"finetuning_task\": null,\n",
       "    \"forced_bos_token_id\": null,\n",
       "    \"forced_eos_token_id\": null,\n",
       "    \"hidden_act\": \"gelu\",\n",
       "    \"hidden_dropout_prob\": 0.1,\n",
       "    \"hidden_size\": 768,\n",
       "    \"id2label\": {\n",
       "      \"0\": \"LABEL_0\",\n",
       "      \"1\": \"LABEL_1\"\n",
       "    },\n",
       "    \"initializer_range\": 0.02,\n",
       "    \"intermediate_size\": 3072,\n",
       "    \"is_decoder\": false,\n",
       "    \"is_encoder_decoder\": false,\n",
       "    \"label2id\": {\n",
       "      \"LABEL_0\": 0,\n",
       "      \"LABEL_1\": 1\n",
       "    },\n",
       "    \"layer_norm_eps\": 1e-12,\n",
       "    \"length_penalty\": 1.0,\n",
       "    \"max_length\": 20,\n",
       "    \"max_position_embeddings\": 512,\n",
       "    \"min_length\": 0,\n",
       "    \"model_type\": \"bert\",\n",
       "    \"no_repeat_ngram_size\": 0,\n",
       "    \"num_attention_heads\": 12,\n",
       "    \"num_beam_groups\": 1,\n",
       "    \"num_beams\": 1,\n",
       "    \"num_hidden_layers\": 12,\n",
       "    \"num_return_sequences\": 1,\n",
       "    \"output_attentions\": false,\n",
       "    \"output_hidden_states\": false,\n",
       "    \"output_scores\": false,\n",
       "    \"pad_token_id\": 0,\n",
       "    \"pooler_fc_size\": 768,\n",
       "    \"pooler_num_attention_heads\": 12,\n",
       "    \"pooler_num_fc_layers\": 3,\n",
       "    \"pooler_size_per_head\": 128,\n",
       "    \"pooler_type\": \"first_token_transform\",\n",
       "    \"position_embedding_type\": \"absolute\",\n",
       "    \"prefix\": null,\n",
       "    \"problem_type\": null,\n",
       "    \"pruned_heads\": {},\n",
       "    \"remove_invalid_values\": false,\n",
       "    \"repetition_penalty\": 1.0,\n",
       "    \"return_dict\": true,\n",
       "    \"return_dict_in_generate\": false,\n",
       "    \"sep_token_id\": null,\n",
       "    \"suppress_tokens\": null,\n",
       "    \"task_specific_params\": null,\n",
       "    \"temperature\": 1.0,\n",
       "    \"tf_legacy_loss\": false,\n",
       "    \"tie_encoder_decoder\": false,\n",
       "    \"tie_word_embeddings\": true,\n",
       "    \"tokenizer_class\": null,\n",
       "    \"top_k\": 50,\n",
       "    \"top_p\": 1.0,\n",
       "    \"torch_dtype\": null,\n",
       "    \"torchscript\": false,\n",
       "    \"transformers_version\": \"4.28.1\",\n",
       "    \"type_vocab_size\": 2,\n",
       "    \"typical_p\": 1.0,\n",
       "    \"use_bfloat16\": false,\n",
       "    \"use_cache\": true,\n",
       "    \"vocab_size\": 119547\n",
       "  },\n",
       "  \"eos_token_id\": 102,\n",
       "  \"is_encoder_decoder\": true,\n",
       "  \"length_penalty\": 2.0,\n",
       "  \"max_length\": 142,\n",
       "  \"min_length\": 10,\n",
       "  \"model_type\": \"encoder-decoder\",\n",
       "  \"no_repeat_ngram_size\": 3,\n",
       "  \"num_beams\": 4,\n",
       "  \"pad_token_id\": 0,\n",
       "  \"transformers_version\": null,\n",
       "  \"vocab_size\": 119547\n",
       "}"
      ]
     },
     "execution_count": 17,
     "metadata": {},
     "output_type": "execute_result"
    },
    {
     "data": {
      "application/javascript": [
       "\n",
       "            setTimeout(function() {\n",
       "                var nbb_cell_id = 17;\n",
       "                var nbb_unformatted_code = \"bert2bert.config.decoder_start_token_id = tokenizer.bos_token_id\\nbert2bert.config.eos_token_id = tokenizer.eos_token_id\\nbert2bert.config.pad_token_id = tokenizer.pad_token_id\\nbert2bert.config.vocab_size = bert2bert.config.decoder.vocab_size\\n\\nbert2bert.config.max_length = 142\\nbert2bert.config.min_length = 10\\nbert2bert.config.no_repeat_ngram_size = 3\\nbert2bert.config.early_stopping = True\\nbert2bert.config.length_penalty = 2.0\\nbert2bert.config.num_beams = 4\\nbert2bert.config\";\n",
       "                var nbb_formatted_code = \"bert2bert.config.decoder_start_token_id = tokenizer.bos_token_id\\nbert2bert.config.eos_token_id = tokenizer.eos_token_id\\nbert2bert.config.pad_token_id = tokenizer.pad_token_id\\nbert2bert.config.vocab_size = bert2bert.config.decoder.vocab_size\\n\\nbert2bert.config.max_length = 142\\nbert2bert.config.min_length = 10\\nbert2bert.config.no_repeat_ngram_size = 3\\nbert2bert.config.early_stopping = True\\nbert2bert.config.length_penalty = 2.0\\nbert2bert.config.num_beams = 4\\nbert2bert.config\";\n",
       "                var nbb_cells = Jupyter.notebook.get_cells();\n",
       "                for (var i = 0; i < nbb_cells.length; ++i) {\n",
       "                    if (nbb_cells[i].input_prompt_number == nbb_cell_id) {\n",
       "                        if (nbb_cells[i].get_text() == nbb_unformatted_code) {\n",
       "                             nbb_cells[i].set_text(nbb_formatted_code);\n",
       "                        }\n",
       "                        break;\n",
       "                    }\n",
       "                }\n",
       "            }, 500);\n",
       "            "
      ],
      "text/plain": [
       "<IPython.core.display.Javascript object>"
      ]
     },
     "metadata": {},
     "output_type": "display_data"
    }
   ],
   "source": [
    "bert2bert.config.decoder_start_token_id = tokenizer.bos_token_id\n",
    "bert2bert.config.eos_token_id = tokenizer.eos_token_id\n",
    "bert2bert.config.pad_token_id = tokenizer.pad_token_id\n",
    "bert2bert.config.vocab_size = bert2bert.config.decoder.vocab_size\n",
    "\n",
    "bert2bert.config.max_length = 142\n",
    "bert2bert.config.min_length = 10\n",
    "bert2bert.config.no_repeat_ngram_size = 3\n",
    "bert2bert.config.early_stopping = True\n",
    "bert2bert.config.length_penalty = 2.0\n",
    "bert2bert.config.num_beams = 4\n",
    "bert2bert.config"
   ]
  },
  {
   "cell_type": "code",
   "execution_count": 18,
   "id": "5ce6805a",
   "metadata": {},
   "outputs": [
    {
     "data": {
      "application/javascript": [
       "\n",
       "            setTimeout(function() {\n",
       "                var nbb_cell_id = 18;\n",
       "                var nbb_unformatted_code = \"version = 11\";\n",
       "                var nbb_formatted_code = \"version = 11\";\n",
       "                var nbb_cells = Jupyter.notebook.get_cells();\n",
       "                for (var i = 0; i < nbb_cells.length; ++i) {\n",
       "                    if (nbb_cells[i].input_prompt_number == nbb_cell_id) {\n",
       "                        if (nbb_cells[i].get_text() == nbb_unformatted_code) {\n",
       "                             nbb_cells[i].set_text(nbb_formatted_code);\n",
       "                        }\n",
       "                        break;\n",
       "                    }\n",
       "                }\n",
       "            }, 500);\n",
       "            "
      ],
      "text/plain": [
       "<IPython.core.display.Javascript object>"
      ]
     },
     "metadata": {},
     "output_type": "display_data"
    }
   ],
   "source": [
    "version = 11"
   ]
  },
  {
   "cell_type": "code",
   "execution_count": 19,
   "id": "09f082f1",
   "metadata": {},
   "outputs": [
    {
     "data": {
      "application/javascript": [
       "\n",
       "            setTimeout(function() {\n",
       "                var nbb_cell_id = 19;\n",
       "                var nbb_unformatted_code = \"from seq2seq_trainer import Seq2SeqTrainer\\nfrom seq2seq_training_args import Seq2SeqTrainingArguments\";\n",
       "                var nbb_formatted_code = \"from seq2seq_trainer import Seq2SeqTrainer\\nfrom seq2seq_training_args import Seq2SeqTrainingArguments\";\n",
       "                var nbb_cells = Jupyter.notebook.get_cells();\n",
       "                for (var i = 0; i < nbb_cells.length; ++i) {\n",
       "                    if (nbb_cells[i].input_prompt_number == nbb_cell_id) {\n",
       "                        if (nbb_cells[i].get_text() == nbb_unformatted_code) {\n",
       "                             nbb_cells[i].set_text(nbb_formatted_code);\n",
       "                        }\n",
       "                        break;\n",
       "                    }\n",
       "                }\n",
       "            }, 500);\n",
       "            "
      ],
      "text/plain": [
       "<IPython.core.display.Javascript object>"
      ]
     },
     "metadata": {},
     "output_type": "display_data"
    }
   ],
   "source": [
    "from seq2seq_trainer import Seq2SeqTrainer\n",
    "from seq2seq_training_args import Seq2SeqTrainingArguments"
   ]
  },
  {
   "cell_type": "code",
   "execution_count": 20,
   "id": "6adb2d8a",
   "metadata": {},
   "outputs": [
    {
     "data": {
      "application/javascript": [
       "\n",
       "            setTimeout(function() {\n",
       "                var nbb_cell_id = 20;\n",
       "                var nbb_unformatted_code = \"version += 1\\nargs = Seq2SeqTrainingArguments(\\n    output_dir=f\\\"bert\\\",\\n    evaluation_strategy=\\\"steps\\\",\\n    learning_rate=5e-5,\\n    lr_scheduler_type=\\\"cosine_with_restarts\\\",\\n    per_device_train_batch_size=batch_size,\\n    per_device_eval_batch_size=batch_size,\\n    save_total_limit=1,\\n    num_train_epochs=2,\\n    predict_with_generate=True,\\n    warmup_steps=1000,\\n    fp16=True,\\n    logging_dir=f\\\"../made/logs/lightning_logs/bert/{version}\\\",\\n    logging_first_step=True,\\n    eval_steps=1000,\\n    overwrite_output_dir=True,\\n)\";\n",
       "                var nbb_formatted_code = \"version += 1\\nargs = Seq2SeqTrainingArguments(\\n    output_dir=f\\\"bert\\\",\\n    evaluation_strategy=\\\"steps\\\",\\n    learning_rate=5e-5,\\n    lr_scheduler_type=\\\"cosine_with_restarts\\\",\\n    per_device_train_batch_size=batch_size,\\n    per_device_eval_batch_size=batch_size,\\n    save_total_limit=1,\\n    num_train_epochs=2,\\n    predict_with_generate=True,\\n    warmup_steps=1000,\\n    fp16=True,\\n    logging_dir=f\\\"../made/logs/lightning_logs/bert/{version}\\\",\\n    logging_first_step=True,\\n    eval_steps=1000,\\n    overwrite_output_dir=True,\\n)\";\n",
       "                var nbb_cells = Jupyter.notebook.get_cells();\n",
       "                for (var i = 0; i < nbb_cells.length; ++i) {\n",
       "                    if (nbb_cells[i].input_prompt_number == nbb_cell_id) {\n",
       "                        if (nbb_cells[i].get_text() == nbb_unformatted_code) {\n",
       "                             nbb_cells[i].set_text(nbb_formatted_code);\n",
       "                        }\n",
       "                        break;\n",
       "                    }\n",
       "                }\n",
       "            }, 500);\n",
       "            "
      ],
      "text/plain": [
       "<IPython.core.display.Javascript object>"
      ]
     },
     "metadata": {},
     "output_type": "display_data"
    }
   ],
   "source": [
    "version += 1\n",
    "args = Seq2SeqTrainingArguments(\n",
    "    output_dir=f\"bert\",\n",
    "    evaluation_strategy=\"steps\",\n",
    "    learning_rate=5e-5,\n",
    "    lr_scheduler_type=\"cosine_with_restarts\",\n",
    "    per_device_train_batch_size=batch_size,\n",
    "    per_device_eval_batch_size=batch_size,\n",
    "    save_total_limit=1,\n",
    "    num_train_epochs=2,\n",
    "    predict_with_generate=True,\n",
    "    warmup_steps=1000,\n",
    "    fp16=True,\n",
    "    logging_dir=f\"../made/logs/lightning_logs/bert/{version}\",\n",
    "    logging_first_step=False,\n",
    "    eval_steps=1000,\n",
    "    overwrite_output_dir=True,\n",
    ")"
   ]
  },
  {
   "cell_type": "code",
   "execution_count": 21,
   "id": "e552571e",
   "metadata": {},
   "outputs": [
    {
     "data": {
      "application/javascript": [
       "\n",
       "            setTimeout(function() {\n",
       "                var nbb_cell_id = 21;\n",
       "                var nbb_unformatted_code = \"import numpy as np\\n\\nmetric = evaluate.load(\\\"bleu\\\")\\n\\n\\ndef postprocess_text(preds, labels):\\n    preds = [pred.strip() for pred in preds]\\n    labels = [[label.strip()] for label in labels]\\n\\n    return preds, labels\\n\\n\\ndef compute_metrics(eval_preds):\\n    preds, labels = eval_preds\\n    decoded_preds = tokenizer.batch_decode(preds, skip_special_tokens=True)\\n\\n    labels = np.where(labels != -100, labels, tokenizer.pad_token_id)\\n    decoded_labels = tokenizer.batch_decode(labels, skip_special_tokens=True)\\n\\n    decoded_preds, decoded_labels = postprocess_text(decoded_preds, decoded_labels)\\n\\n    result = metric.compute(predictions=decoded_preds, references=decoded_labels)\\n    result = {\\\"bleu\\\": result[\\\"bleu\\\"]}\\n    return result\";\n",
       "                var nbb_formatted_code = \"import numpy as np\\n\\nmetric = evaluate.load(\\\"bleu\\\")\\n\\n\\ndef postprocess_text(preds, labels):\\n    preds = [pred.strip() for pred in preds]\\n    labels = [[label.strip()] for label in labels]\\n\\n    return preds, labels\\n\\n\\ndef compute_metrics(eval_preds):\\n    preds, labels = eval_preds\\n    decoded_preds = tokenizer.batch_decode(preds, skip_special_tokens=True)\\n\\n    labels = np.where(labels != -100, labels, tokenizer.pad_token_id)\\n    decoded_labels = tokenizer.batch_decode(labels, skip_special_tokens=True)\\n\\n    decoded_preds, decoded_labels = postprocess_text(decoded_preds, decoded_labels)\\n\\n    result = metric.compute(predictions=decoded_preds, references=decoded_labels)\\n    result = {\\\"bleu\\\": result[\\\"bleu\\\"]}\\n    return result\";\n",
       "                var nbb_cells = Jupyter.notebook.get_cells();\n",
       "                for (var i = 0; i < nbb_cells.length; ++i) {\n",
       "                    if (nbb_cells[i].input_prompt_number == nbb_cell_id) {\n",
       "                        if (nbb_cells[i].get_text() == nbb_unformatted_code) {\n",
       "                             nbb_cells[i].set_text(nbb_formatted_code);\n",
       "                        }\n",
       "                        break;\n",
       "                    }\n",
       "                }\n",
       "            }, 500);\n",
       "            "
      ],
      "text/plain": [
       "<IPython.core.display.Javascript object>"
      ]
     },
     "metadata": {},
     "output_type": "display_data"
    }
   ],
   "source": [
    "import numpy as np\n",
    "\n",
    "metric = evaluate.load(\"bleu\")\n",
    "\n",
    "\n",
    "def postprocess_text(preds, labels):\n",
    "    preds = [pred.strip() for pred in preds]\n",
    "    labels = [[label.strip()] for label in labels]\n",
    "\n",
    "    return preds, labels\n",
    "\n",
    "\n",
    "def compute_metrics(eval_preds):\n",
    "    preds, labels = eval_preds\n",
    "    decoded_preds = tokenizer.batch_decode(preds, skip_special_tokens=True)\n",
    "\n",
    "    labels = np.where(labels != -100, labels, tokenizer.pad_token_id)\n",
    "    decoded_labels = tokenizer.batch_decode(labels, skip_special_tokens=True)\n",
    "\n",
    "    decoded_preds, decoded_labels = postprocess_text(decoded_preds, decoded_labels)\n",
    "\n",
    "    result = metric.compute(predictions=decoded_preds, references=decoded_labels)\n",
    "    result = {\"bleu\": result[\"bleu\"]}\n",
    "    return result"
   ]
  },
  {
   "cell_type": "code",
   "execution_count": 22,
   "id": "0e21ee29",
   "metadata": {},
   "outputs": [
    {
     "data": {
      "application/javascript": [
       "\n",
       "            setTimeout(function() {\n",
       "                var nbb_cell_id = 22;\n",
       "                var nbb_unformatted_code = \"trainer = Seq2SeqTrainer(\\n    model=bert2bert,\\n    tokenizer=tokenizer,\\n    args=args,\\n    compute_metrics=compute_metrics,\\n    train_dataset=dataset[\\\"train\\\"],\\n    eval_dataset=dataset[\\\"val\\\"],\\n)\";\n",
       "                var nbb_formatted_code = \"trainer = Seq2SeqTrainer(\\n    model=bert2bert,\\n    tokenizer=tokenizer,\\n    args=args,\\n    compute_metrics=compute_metrics,\\n    train_dataset=dataset[\\\"train\\\"],\\n    eval_dataset=dataset[\\\"val\\\"],\\n)\";\n",
       "                var nbb_cells = Jupyter.notebook.get_cells();\n",
       "                for (var i = 0; i < nbb_cells.length; ++i) {\n",
       "                    if (nbb_cells[i].input_prompt_number == nbb_cell_id) {\n",
       "                        if (nbb_cells[i].get_text() == nbb_unformatted_code) {\n",
       "                             nbb_cells[i].set_text(nbb_formatted_code);\n",
       "                        }\n",
       "                        break;\n",
       "                    }\n",
       "                }\n",
       "            }, 500);\n",
       "            "
      ],
      "text/plain": [
       "<IPython.core.display.Javascript object>"
      ]
     },
     "metadata": {},
     "output_type": "display_data"
    }
   ],
   "source": [
    "trainer = Seq2SeqTrainer(\n",
    "    model=bert2bert,\n",
    "    tokenizer=tokenizer,\n",
    "    args=args,\n",
    "    compute_metrics=compute_metrics,\n",
    "    train_dataset=dataset[\"train\"],\n",
    "    eval_dataset=dataset[\"val\"],\n",
    ")"
   ]
  },
  {
   "cell_type": "code",
   "execution_count": 23,
   "id": "520bc29c",
   "metadata": {},
   "outputs": [
    {
     "name": "stderr",
     "output_type": "stream",
     "text": [
      "C:\\tempjeka\\anaconda3\\lib\\site-packages\\transformers\\optimization.py:391: FutureWarning: This implementation of AdamW is deprecated and will be removed in a future version. Use the PyTorch implementation torch.optim.AdamW instead, or set `no_deprecation_warning=True` to disable this warning\n",
      "  warnings.warn(\n",
      "You're using a BertTokenizerFast tokenizer. Please note that with a fast tokenizer, using the `__call__` method is faster than using a method to encode the text followed by a call to the `pad` method to get a padded encoding.\n"
     ]
    },
    {
     "data": {
      "text/html": [
       "\n",
       "    <div>\n",
       "      \n",
       "      <progress value='17964' max='22500' style='width:300px; height:20px; vertical-align: middle;'></progress>\n",
       "      [17964/22500 1:32:13 < 23:17, 3.25 it/s, Epoch 1.60/2]\n",
       "    </div>\n",
       "    <table border=\"1\" class=\"dataframe\">\n",
       "  <thead>\n",
       " <tr style=\"text-align: left;\">\n",
       "      <th>Step</th>\n",
       "      <th>Training Loss</th>\n",
       "      <th>Validation Loss</th>\n",
       "      <th>Bleu</th>\n",
       "    </tr>\n",
       "  </thead>\n",
       "  <tbody>\n",
       "    <tr>\n",
       "      <td>1000</td>\n",
       "      <td>2.705300</td>\n",
       "      <td>2.236222</td>\n",
       "      <td>0.054865</td>\n",
       "    </tr>\n",
       "    <tr>\n",
       "      <td>2000</td>\n",
       "      <td>2.148100</td>\n",
       "      <td>1.815855</td>\n",
       "      <td>0.104811</td>\n",
       "    </tr>\n",
       "    <tr>\n",
       "      <td>3000</td>\n",
       "      <td>1.925000</td>\n",
       "      <td>1.672873</td>\n",
       "      <td>0.140287</td>\n",
       "    </tr>\n",
       "    <tr>\n",
       "      <td>4000</td>\n",
       "      <td>1.773800</td>\n",
       "      <td>1.508566</td>\n",
       "      <td>0.173803</td>\n",
       "    </tr>\n",
       "    <tr>\n",
       "      <td>5000</td>\n",
       "      <td>1.638100</td>\n",
       "      <td>1.411600</td>\n",
       "      <td>0.194761</td>\n",
       "    </tr>\n",
       "    <tr>\n",
       "      <td>6000</td>\n",
       "      <td>1.545700</td>\n",
       "      <td>1.247658</td>\n",
       "      <td>0.212856</td>\n",
       "    </tr>\n",
       "    <tr>\n",
       "      <td>7000</td>\n",
       "      <td>1.412900</td>\n",
       "      <td>1.193926</td>\n",
       "      <td>0.219990</td>\n",
       "    </tr>\n",
       "    <tr>\n",
       "      <td>8000</td>\n",
       "      <td>1.374200</td>\n",
       "      <td>1.089549</td>\n",
       "      <td>0.264489</td>\n",
       "    </tr>\n",
       "    <tr>\n",
       "      <td>9000</td>\n",
       "      <td>1.275300</td>\n",
       "      <td>0.991497</td>\n",
       "      <td>0.273491</td>\n",
       "    </tr>\n",
       "    <tr>\n",
       "      <td>10000</td>\n",
       "      <td>1.203900</td>\n",
       "      <td>0.910925</td>\n",
       "      <td>0.269279</td>\n",
       "    </tr>\n",
       "    <tr>\n",
       "      <td>11000</td>\n",
       "      <td>1.134700</td>\n",
       "      <td>0.887567</td>\n",
       "      <td>0.263087</td>\n",
       "    </tr>\n",
       "    <tr>\n",
       "      <td>12000</td>\n",
       "      <td>0.954200</td>\n",
       "      <td>0.851303</td>\n",
       "      <td>0.312987</td>\n",
       "    </tr>\n",
       "    <tr>\n",
       "      <td>13000</td>\n",
       "      <td>0.915500</td>\n",
       "      <td>0.809089</td>\n",
       "      <td>0.306330</td>\n",
       "    </tr>\n",
       "    <tr>\n",
       "      <td>14000</td>\n",
       "      <td>0.919300</td>\n",
       "      <td>0.797175</td>\n",
       "      <td>0.320775</td>\n",
       "    </tr>\n",
       "    <tr>\n",
       "      <td>15000</td>\n",
       "      <td>0.863300</td>\n",
       "      <td>0.750128</td>\n",
       "      <td>0.296792</td>\n",
       "    </tr>\n",
       "    <tr>\n",
       "      <td>16000</td>\n",
       "      <td>0.844200</td>\n",
       "      <td>0.744083</td>\n",
       "      <td>0.370521</td>\n",
       "    </tr>\n",
       "    <tr>\n",
       "      <td>17000</td>\n",
       "      <td>0.827200</td>\n",
       "      <td>0.713162</td>\n",
       "      <td>0.331694</td>\n",
       "    </tr>\n",
       "  </tbody>\n",
       "</table><p>"
      ],
      "text/plain": [
       "<IPython.core.display.HTML object>"
      ]
     },
     "metadata": {},
     "output_type": "display_data"
    },
    {
     "name": "stderr",
     "output_type": "stream",
     "text": [
      "C:\\tempjeka\\anaconda3\\lib\\site-packages\\transformers\\generation\\utils.py:1219: UserWarning: You have modified the pretrained model configuration to control generation. This is a deprecated strategy to control generation and will be removed soon, in a future version. Please use a generation configuration file (see https://huggingface.co/docs/transformers/main_classes/text_generation)\n",
      "  warnings.warn(\n",
      "IOPub message rate exceeded.\n",
      "The notebook server will temporarily stop sending output\n",
      "to the client in order to avoid crashing it.\n",
      "To change this limit, set the config variable\n",
      "`--NotebookApp.iopub_msg_rate_limit`.\n",
      "\n",
      "Current values:\n",
      "NotebookApp.iopub_msg_rate_limit=1000.0 (msgs/sec)\n",
      "NotebookApp.rate_limit_window=3.0 (secs)\n",
      "\n"
     ]
    }
   ],
   "source": [
    "trainer.train()"
   ]
  },
  {
   "cell_type": "code",
   "execution_count": 24,
   "id": "077a277c",
   "metadata": {},
   "outputs": [
    {
     "data": {
      "application/javascript": [
       "\n",
       "            setTimeout(function() {\n",
       "                var nbb_cell_id = 24;\n",
       "                var nbb_unformatted_code = \"bert2bert.save_pretrained(\\\"bert2bert\\\")\";\n",
       "                var nbb_formatted_code = \"bert2bert.save_pretrained(\\\"bert2bert\\\")\";\n",
       "                var nbb_cells = Jupyter.notebook.get_cells();\n",
       "                for (var i = 0; i < nbb_cells.length; ++i) {\n",
       "                    if (nbb_cells[i].input_prompt_number == nbb_cell_id) {\n",
       "                        if (nbb_cells[i].get_text() == nbb_unformatted_code) {\n",
       "                             nbb_cells[i].set_text(nbb_formatted_code);\n",
       "                        }\n",
       "                        break;\n",
       "                    }\n",
       "                }\n",
       "            }, 500);\n",
       "            "
      ],
      "text/plain": [
       "<IPython.core.display.Javascript object>"
      ]
     },
     "metadata": {},
     "output_type": "display_data"
    }
   ],
   "source": [
    "bert2bert.save_pretrained(\"bert2bert\")"
   ]
  },
  {
   "cell_type": "code",
   "execution_count": 25,
   "id": "0848a28a",
   "metadata": {},
   "outputs": [
    {
     "data": {
      "application/javascript": [
       "\n",
       "            setTimeout(function() {\n",
       "                var nbb_cell_id = 25;\n",
       "                var nbb_unformatted_code = \"model = bert2bert\";\n",
       "                var nbb_formatted_code = \"model = bert2bert\";\n",
       "                var nbb_cells = Jupyter.notebook.get_cells();\n",
       "                for (var i = 0; i < nbb_cells.length; ++i) {\n",
       "                    if (nbb_cells[i].input_prompt_number == nbb_cell_id) {\n",
       "                        if (nbb_cells[i].get_text() == nbb_unformatted_code) {\n",
       "                             nbb_cells[i].set_text(nbb_formatted_code);\n",
       "                        }\n",
       "                        break;\n",
       "                    }\n",
       "                }\n",
       "            }, 500);\n",
       "            "
      ],
      "text/plain": [
       "<IPython.core.display.Javascript object>"
      ]
     },
     "metadata": {},
     "output_type": "display_data"
    }
   ],
   "source": [
    "model = bert2bert"
   ]
  },
  {
   "cell_type": "code",
   "execution_count": 26,
   "id": "7c9c1727",
   "metadata": {},
   "outputs": [
    {
     "data": {
      "application/vnd.jupyter.widget-view+json": {
       "model_id": "",
       "version_major": 2,
       "version_minor": 0
      },
      "text/plain": [
       "Map:   0%|          | 0/4950 [00:00<?, ? examples/s]"
      ]
     },
     "metadata": {},
     "output_type": "display_data"
    },
    {
     "name": "stderr",
     "output_type": "stream",
     "text": [
      "C:\\tempjeka\\anaconda3\\lib\\site-packages\\transformers\\generation\\utils.py:1313: UserWarning: Using `max_length`'s default (142) to control the generation length. This behaviour is deprecated and will be removed from the config in v5 of Transformers -- we recommend using `max_new_tokens` to control the maximum length of the generation.\n",
      "  warnings.warn(\n"
     ]
    },
    {
     "data": {
      "application/javascript": [
       "\n",
       "            setTimeout(function() {\n",
       "                var nbb_cell_id = 26;\n",
       "                var nbb_unformatted_code = \"metric = evaluate.load(\\\"bleu\\\")\\n\\n\\ndef compute_metrics(batch):\\n    preds = model.generate(\\n        batch[\\\"input_ids\\\"].to(device),\\n        attention_mask=batch[\\\"attention_mask\\\"].to(device),\\n    ).cpu()\\n    decoded_preds = tokenizer.batch_decode(preds, skip_special_tokens=True)\\n\\n    labels = np.where(batch[\\\"labels\\\"] != -100, batch[\\\"labels\\\"], tokenizer.pad_token_id)\\n    decoded_labels = tokenizer.batch_decode(labels, skip_special_tokens=True)\\n\\n    # Some simple post-processing\\n    decoded_preds, decoded_labels = postprocess_text(decoded_preds, decoded_labels)\\n\\n    metric.add_batch(references=decoded_labels, predictions=decoded_preds)\\n\\n\\nmodel.eval()\\nwith torch.no_grad():\\n    dataset[\\\"test\\\"].map(\\n        compute_metrics, batched=True, batch_size=batch_size\\n    )\";\n",
       "                var nbb_formatted_code = \"metric = evaluate.load(\\\"bleu\\\")\\n\\n\\ndef compute_metrics(batch):\\n    preds = model.generate(\\n        batch[\\\"input_ids\\\"].to(device),\\n        attention_mask=batch[\\\"attention_mask\\\"].to(device),\\n    ).cpu()\\n    decoded_preds = tokenizer.batch_decode(preds, skip_special_tokens=True)\\n\\n    labels = np.where(batch[\\\"labels\\\"] != -100, batch[\\\"labels\\\"], tokenizer.pad_token_id)\\n    decoded_labels = tokenizer.batch_decode(labels, skip_special_tokens=True)\\n\\n    # Some simple post-processing\\n    decoded_preds, decoded_labels = postprocess_text(decoded_preds, decoded_labels)\\n\\n    metric.add_batch(references=decoded_labels, predictions=decoded_preds)\\n\\n\\nmodel.eval()\\nwith torch.no_grad():\\n    dataset[\\\"test\\\"].map(compute_metrics, batched=True, batch_size=batch_size)\";\n",
       "                var nbb_cells = Jupyter.notebook.get_cells();\n",
       "                for (var i = 0; i < nbb_cells.length; ++i) {\n",
       "                    if (nbb_cells[i].input_prompt_number == nbb_cell_id) {\n",
       "                        if (nbb_cells[i].get_text() == nbb_unformatted_code) {\n",
       "                             nbb_cells[i].set_text(nbb_formatted_code);\n",
       "                        }\n",
       "                        break;\n",
       "                    }\n",
       "                }\n",
       "            }, 500);\n",
       "            "
      ],
      "text/plain": [
       "<IPython.core.display.Javascript object>"
      ]
     },
     "metadata": {},
     "output_type": "display_data"
    }
   ],
   "source": [
    "metric = evaluate.load(\"bleu\")\n",
    "\n",
    "\n",
    "def compute_metrics(batch):\n",
    "    preds = model.generate(\n",
    "        batch[\"input_ids\"].to(device),\n",
    "        attention_mask=batch[\"attention_mask\"].to(device),\n",
    "    ).cpu()\n",
    "    decoded_preds = tokenizer.batch_decode(preds, skip_special_tokens=True)\n",
    "\n",
    "    labels = np.where(batch[\"labels\"] != -100, batch[\"labels\"], tokenizer.pad_token_id)\n",
    "    decoded_labels = tokenizer.batch_decode(labels, skip_special_tokens=True)\n",
    "\n",
    "    # Some simple post-processing\n",
    "    decoded_preds, decoded_labels = postprocess_text(decoded_preds, decoded_labels)\n",
    "\n",
    "    metric.add_batch(references=decoded_labels, predictions=decoded_preds)\n",
    "\n",
    "\n",
    "model.eval()\n",
    "with torch.no_grad():\n",
    "    dataset[\"test\"].map(compute_metrics, batched=True, batch_size=batch_size)"
   ]
  },
  {
   "cell_type": "code",
   "execution_count": 27,
   "id": "ffec668a",
   "metadata": {},
   "outputs": [
    {
     "data": {
      "text/plain": [
       "{'bleu': 0.3311506096736599,\n",
       " 'precisions': [0.6028060376354811,\n",
       "  0.3983628728023347,\n",
       "  0.2951527682058351,\n",
       "  0.22073079791200598],\n",
       " 'brevity_penalty': 0.9363409088336769,\n",
       " 'length_ratio': 0.9382837748468325,\n",
       " 'translation_length': 75195,\n",
       " 'reference_length': 80141}"
      ]
     },
     "execution_count": 27,
     "metadata": {},
     "output_type": "execute_result"
    },
    {
     "data": {
      "application/javascript": [
       "\n",
       "            setTimeout(function() {\n",
       "                var nbb_cell_id = 27;\n",
       "                var nbb_unformatted_code = \"metric.compute()\";\n",
       "                var nbb_formatted_code = \"metric.compute()\";\n",
       "                var nbb_cells = Jupyter.notebook.get_cells();\n",
       "                for (var i = 0; i < nbb_cells.length; ++i) {\n",
       "                    if (nbb_cells[i].input_prompt_number == nbb_cell_id) {\n",
       "                        if (nbb_cells[i].get_text() == nbb_unformatted_code) {\n",
       "                             nbb_cells[i].set_text(nbb_formatted_code);\n",
       "                        }\n",
       "                        break;\n",
       "                    }\n",
       "                }\n",
       "            }, 500);\n",
       "            "
      ],
      "text/plain": [
       "<IPython.core.display.Javascript object>"
      ]
     },
     "metadata": {},
     "output_type": "display_data"
    }
   ],
   "source": [
    "metric.compute()"
   ]
  },
  {
   "cell_type": "code",
   "execution_count": 28,
   "id": "434c1e59",
   "metadata": {},
   "outputs": [
    {
     "data": {
      "text/plain": [
       "[('В ресторане отеля подают разнообразные блюда интернациональной кухни, а в баре на берегу моря можно отведать панорамный вид на море.',\n",
       "  ['В ресторане отеля подают разнообразные блюда интернациональной кухни в формате \" шведский стол \". Блюда можно отведать у бассейна с панорамным видом на море.']),\n",
       " ('К услугам гостей бесплатный Wi - Fi и парковка.',\n",
       "  ['WiFi и парковка предоставляются бесплатно.']),\n",
       " ('К услугам гостей бесплатный Wi - Fi во всех зонах, а на территории отеля обустроена частная парковка.',\n",
       "  ['К услугам гостей бесплатный Wi - Fi во всех зонах и бесплатная частная парковка на территории.']),\n",
       " ('В собственной ванной комнате с душем предоставляются бесплатные туалетно - косметические принадлежности.',\n",
       "  ['В собственной ванной комнате с душем предоставляются бесплатные туалетно - косметические принадлежности.'])]"
      ]
     },
     "execution_count": 28,
     "metadata": {},
     "output_type": "execute_result"
    },
    {
     "data": {
      "application/javascript": [
       "\n",
       "            setTimeout(function() {\n",
       "                var nbb_cell_id = 28;\n",
       "                var nbb_unformatted_code = \"batch = dataset[\\\"test\\\"][:batch_size]\\nmodel.eval()\\nwith torch.no_grad():\\n    preds = model.generate(\\n        batch[\\\"input_ids\\\"].to(device),\\n        attention_mask=batch[\\\"attention_mask\\\"].to(device),\\n    ).cpu()\\n    decoded_preds = tokenizer.batch_decode(preds, skip_special_tokens=True)\\n\\n    labels = np.where(batch[\\\"labels\\\"] != -100, batch[\\\"labels\\\"], tokenizer.pad_token_id)\\n    decoded_labels = tokenizer.batch_decode(labels, skip_special_tokens=True)\\n\\n    # Some simple post-processing\\n    decoded_preds, decoded_labels = postprocess_text(decoded_preds, decoded_labels)\\n\\nlist(zip(decoded_preds, decoded_labels))\";\n",
       "                var nbb_formatted_code = \"batch = dataset[\\\"test\\\"][:batch_size]\\nmodel.eval()\\nwith torch.no_grad():\\n    preds = model.generate(\\n        batch[\\\"input_ids\\\"].to(device),\\n        attention_mask=batch[\\\"attention_mask\\\"].to(device),\\n    ).cpu()\\n    decoded_preds = tokenizer.batch_decode(preds, skip_special_tokens=True)\\n\\n    labels = np.where(batch[\\\"labels\\\"] != -100, batch[\\\"labels\\\"], tokenizer.pad_token_id)\\n    decoded_labels = tokenizer.batch_decode(labels, skip_special_tokens=True)\\n\\n    # Some simple post-processing\\n    decoded_preds, decoded_labels = postprocess_text(decoded_preds, decoded_labels)\\n\\nlist(zip(decoded_preds, decoded_labels))\";\n",
       "                var nbb_cells = Jupyter.notebook.get_cells();\n",
       "                for (var i = 0; i < nbb_cells.length; ++i) {\n",
       "                    if (nbb_cells[i].input_prompt_number == nbb_cell_id) {\n",
       "                        if (nbb_cells[i].get_text() == nbb_unformatted_code) {\n",
       "                             nbb_cells[i].set_text(nbb_formatted_code);\n",
       "                        }\n",
       "                        break;\n",
       "                    }\n",
       "                }\n",
       "            }, 500);\n",
       "            "
      ],
      "text/plain": [
       "<IPython.core.display.Javascript object>"
      ]
     },
     "metadata": {},
     "output_type": "display_data"
    }
   ],
   "source": [
    "batch = dataset[\"test\"][:batch_size]\n",
    "model.eval()\n",
    "with torch.no_grad():\n",
    "    preds = model.generate(\n",
    "        batch[\"input_ids\"].to(device),\n",
    "        attention_mask=batch[\"attention_mask\"].to(device),\n",
    "    ).cpu()\n",
    "    decoded_preds = tokenizer.batch_decode(preds, skip_special_tokens=True)\n",
    "\n",
    "    labels = np.where(batch[\"labels\"] != -100, batch[\"labels\"], tokenizer.pad_token_id)\n",
    "    decoded_labels = tokenizer.batch_decode(labels, skip_special_tokens=True)\n",
    "\n",
    "    # Some simple post-processing\n",
    "    decoded_preds, decoded_labels = postprocess_text(decoded_preds, decoded_labels)\n",
    "\n",
    "list(zip(decoded_preds, decoded_labels))"
   ]
  },
  {
   "attachments": {
    "image-2.png": {
     "image/png": "[encoded data removed]"
    },
    "image-3.png": {
     "image/png": "[encoded data removed]"
    },
    "image.png": {
     "image/png": "[encoded data removed]"
    }
   },
   "cell_type": "markdown",
   "id": "676aa8e4",
   "metadata": {},
   "source": [
    "![image.png](attachment:image.png) ![image-2.png](attachment:image-2.png) ![image-3.png](attachment:image-3.png)"
   ]
  }
 ],
 "metadata": {
  "kernelspec": {
   "display_name": "Python 3 (ipykernel)",
   "language": "python",
   "name": "python3"
  },
  "language_info": {
   "codemirror_mode": {
    "name": "ipython",
    "version": 3
   },
   "file_extension": ".py",
   "mimetype": "text/x-python",
   "name": "python",
   "nbconvert_exporter": "python",
   "pygments_lexer": "ipython3",
   "version": "3.10.9"
  }
 },
 "nbformat": 4,
 "nbformat_minor": 5
}
