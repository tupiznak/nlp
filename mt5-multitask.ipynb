{
 "cells": [
  {
   "cell_type": "code",
   "execution_count": 1,
   "id": "c7a27d0a",
   "metadata": {},
   "outputs": [
    {
     "data": {
      "application/javascript": [
       "\n",
       "            setTimeout(function() {\n",
       "                var nbb_cell_id = 1;\n",
       "                var nbb_unformatted_code = \"%load_ext nb_black\";\n",
       "                var nbb_formatted_code = \"%load_ext nb_black\";\n",
       "                var nbb_cells = Jupyter.notebook.get_cells();\n",
       "                for (var i = 0; i < nbb_cells.length; ++i) {\n",
       "                    if (nbb_cells[i].input_prompt_number == nbb_cell_id) {\n",
       "                        if (nbb_cells[i].get_text() == nbb_unformatted_code) {\n",
       "                             nbb_cells[i].set_text(nbb_formatted_code);\n",
       "                        }\n",
       "                        break;\n",
       "                    }\n",
       "                }\n",
       "            }, 500);\n",
       "            "
      ],
      "text/plain": [
       "<IPython.core.display.Javascript object>"
      ]
     },
     "metadata": {},
     "output_type": "display_data"
    }
   ],
   "source": [
    "%load_ext nb_black"
   ]
  },
  {
   "cell_type": "code",
   "execution_count": 2,
   "id": "e507e35b",
   "metadata": {},
   "outputs": [
    {
     "name": "stderr",
     "output_type": "stream",
     "text": [
      "Found cached dataset generator (C:/tempjeka/cache/huggingface/generator/default-f628ff2f2d994b84/0.0.0)\n",
      "Loading cached split indices for dataset at C:\\tempjeka\\cache\\huggingface\\generator\\default-f628ff2f2d994b84\\0.0.0\\cache-a84cfc0a0e11ed54.arrow and C:\\tempjeka\\cache\\huggingface\\generator\\default-f628ff2f2d994b84\\0.0.0\\cache-665145fe0a5a6a51.arrow\n",
      "Loading cached split indices for dataset at C:\\tempjeka\\cache\\huggingface\\generator\\default-f628ff2f2d994b84\\0.0.0\\cache-e104a2bffe25c7fa.arrow and C:\\tempjeka\\cache\\huggingface\\generator\\default-f628ff2f2d994b84\\0.0.0\\cache-4096519e2393e19f.arrow\n"
     ]
    },
    {
     "data": {
      "application/javascript": [
       "\n",
       "            setTimeout(function() {\n",
       "                var nbb_cell_id = 2;\n",
       "                var nbb_unformatted_code = \"from src.env import *\\nfrom src.imports import *\\nfrom src.config import *\\nfrom src.dataset import *\\nfrom src.metric import *\";\n",
       "                var nbb_formatted_code = \"from src.env import *\\nfrom src.imports import *\\nfrom src.config import *\\nfrom src.dataset import *\\nfrom src.metric import *\";\n",
       "                var nbb_cells = Jupyter.notebook.get_cells();\n",
       "                for (var i = 0; i < nbb_cells.length; ++i) {\n",
       "                    if (nbb_cells[i].input_prompt_number == nbb_cell_id) {\n",
       "                        if (nbb_cells[i].get_text() == nbb_unformatted_code) {\n",
       "                             nbb_cells[i].set_text(nbb_formatted_code);\n",
       "                        }\n",
       "                        break;\n",
       "                    }\n",
       "                }\n",
       "            }, 500);\n",
       "            "
      ],
      "text/plain": [
       "<IPython.core.display.Javascript object>"
      ]
     },
     "metadata": {},
     "output_type": "display_data"
    }
   ],
   "source": [
    "from src.env import *\n",
    "from src.imports import *\n",
    "from src.config import *\n",
    "from src.dataset import *\n",
    "from src.metric import *"
   ]
  },
  {
   "cell_type": "code",
   "execution_count": 3,
   "id": "83d3db35",
   "metadata": {},
   "outputs": [
    {
     "data": {
      "application/javascript": [
       "\n",
       "            setTimeout(function() {\n",
       "                var nbb_cell_id = 3;\n",
       "                var nbb_unformatted_code = \"enc_name = \\\"google/mt5-small\\\"\\nmodel_name = \\\"mt5_small_multitask\\\"\";\n",
       "                var nbb_formatted_code = \"enc_name = \\\"google/mt5-small\\\"\\nmodel_name = \\\"mt5_small_multitask\\\"\";\n",
       "                var nbb_cells = Jupyter.notebook.get_cells();\n",
       "                for (var i = 0; i < nbb_cells.length; ++i) {\n",
       "                    if (nbb_cells[i].input_prompt_number == nbb_cell_id) {\n",
       "                        if (nbb_cells[i].get_text() == nbb_unformatted_code) {\n",
       "                             nbb_cells[i].set_text(nbb_formatted_code);\n",
       "                        }\n",
       "                        break;\n",
       "                    }\n",
       "                }\n",
       "            }, 500);\n",
       "            "
      ],
      "text/plain": [
       "<IPython.core.display.Javascript object>"
      ]
     },
     "metadata": {},
     "output_type": "display_data"
    }
   ],
   "source": [
    "enc_name = \"google/mt5-small\"\n",
    "model_name = \"mt5_small_multitask\""
   ]
  },
  {
   "cell_type": "code",
   "execution_count": 4,
   "id": "56ccf276",
   "metadata": {},
   "outputs": [
    {
     "name": "stderr",
     "output_type": "stream",
     "text": [
      "C:\\tempjeka\\anaconda3\\lib\\site-packages\\transformers\\convert_slow_tokenizer.py:454: UserWarning: The sentencepiece tokenizer that you are converting to a fast tokenizer uses the byte fallback option which is not implemented in the fast tokenizers. In practice this means that the fast version of the tokenizer can produce unknown tokens whereas the sentencepiece version would have converted these unknown tokens into a sequence of byte tokens matching the original piece of text.\n",
      "  warnings.warn(\n"
     ]
    },
    {
     "data": {
      "application/javascript": [
       "\n",
       "            setTimeout(function() {\n",
       "                var nbb_cell_id = 4;\n",
       "                var nbb_unformatted_code = \"tokenizer = AutoTokenizer.from_pretrained(enc_name)\";\n",
       "                var nbb_formatted_code = \"tokenizer = AutoTokenizer.from_pretrained(enc_name)\";\n",
       "                var nbb_cells = Jupyter.notebook.get_cells();\n",
       "                for (var i = 0; i < nbb_cells.length; ++i) {\n",
       "                    if (nbb_cells[i].input_prompt_number == nbb_cell_id) {\n",
       "                        if (nbb_cells[i].get_text() == nbb_unformatted_code) {\n",
       "                             nbb_cells[i].set_text(nbb_formatted_code);\n",
       "                        }\n",
       "                        break;\n",
       "                    }\n",
       "                }\n",
       "            }, 500);\n",
       "            "
      ],
      "text/plain": [
       "<IPython.core.display.Javascript object>"
      ]
     },
     "metadata": {},
     "output_type": "display_data"
    }
   ],
   "source": [
    "tokenizer = AutoTokenizer.from_pretrained(enc_name)"
   ]
  },
  {
   "cell_type": "code",
   "execution_count": 5,
   "id": "a959a054",
   "metadata": {},
   "outputs": [
    {
     "name": "stderr",
     "output_type": "stream",
     "text": [
      "Found cached dataset generator (C:/tempjeka/cache/huggingface/generator/default-530bff6ddf69a109/0.0.0)\n",
      "Loading cached processed dataset at C:\\tempjeka\\cache\\huggingface\\generator\\default-530bff6ddf69a109\\0.0.0\\cache-0f4032964aba6282.arrow\n",
      "Found cached dataset generator (C:/tempjeka/cache/huggingface/generator/default-530bff6ddf69a109/0.0.0)\n",
      "Loading cached processed dataset at C:\\tempjeka\\cache\\huggingface\\generator\\default-530bff6ddf69a109\\0.0.0\\cache-6491f911007844af.arrow\n",
      "Loading cached split indices for dataset at C:\\tempjeka\\cache\\huggingface\\generator\\default-530bff6ddf69a109\\0.0.0\\cache-a7417e9e17b8e652.arrow and C:\\tempjeka\\cache\\huggingface\\generator\\default-530bff6ddf69a109\\0.0.0\\cache-014b2f4fff081585.arrow\n",
      "Loading cached split indices for dataset at C:\\tempjeka\\cache\\huggingface\\generator\\default-530bff6ddf69a109\\0.0.0\\cache-820f511a42ec3fd3.arrow and C:\\tempjeka\\cache\\huggingface\\generator\\default-530bff6ddf69a109\\0.0.0\\cache-85fb8fed2649d81d.arrow\n",
      "Loading cached split indices for dataset at C:\\tempjeka\\cache\\huggingface\\generator\\default-530bff6ddf69a109\\0.0.0\\cache-7a9de4d679a60bfa.arrow and C:\\tempjeka\\cache\\huggingface\\generator\\default-530bff6ddf69a109\\0.0.0\\cache-2c06d25b353fc577.arrow\n",
      "Loading cached split indices for dataset at C:\\tempjeka\\cache\\huggingface\\generator\\default-530bff6ddf69a109\\0.0.0\\cache-83d020952ccf876c.arrow and C:\\tempjeka\\cache\\huggingface\\generator\\default-530bff6ddf69a109\\0.0.0\\cache-22ed0748245b3322.arrow\n"
     ]
    },
    {
     "data": {
      "application/javascript": [
       "\n",
       "            setTimeout(function() {\n",
       "                var nbb_cell_id = 5;\n",
       "                var nbb_unformatted_code = \"from datasets import concatenate_datasets\\n\\n\\ndef set_target_eng(batch):\\n    for row in batch[\\\"translation\\\"]:\\n        row[\\\"target_lang\\\"] = \\\"English\\\"\\n        row[\\\"source_lang\\\"] = \\\"Russian\\\"\\n        row[\\\"English\\\"] = row.pop(\\\"en\\\")\\n        row[\\\"Russian\\\"] = row.pop(\\\"ru\\\")\\n    return batch\\n\\n\\ndef set_target_ru(batch):\\n    for row in batch[\\\"translation\\\"]:\\n        row[\\\"target_lang\\\"] = \\\"Russian\\\"\\n        row[\\\"source_lang\\\"] = \\\"English\\\"\\n        row[\\\"English\\\"] = row.pop(\\\"en\\\")\\n        row[\\\"Russian\\\"] = row.pop(\\\"ru\\\")\\n    return batch\\n\\n\\npart1_dataset = Dataset.from_generator(\\n    dataset_convert_csv, cache_dir=os.environ[\\\"HF_DATASETS_CACHE\\\"]\\n)\\npart1_dataset = part1_dataset.map(set_target_eng, batched=True, batch_size=batch_size)\\npart2_dataset = Dataset.from_generator(\\n    dataset_convert_csv, cache_dir=os.environ[\\\"HF_DATASETS_CACHE\\\"]\\n)\\npart2_dataset = part2_dataset.map(set_target_ru, batched=True, batch_size=batch_size)\\n\\n# part1_test = part1_dataset.train_test_split(0.1, seed=0)\\n# part2_test = part2_dataset.train_test_split(0.1, seed=0)\\n# test = concatenate_datasets((part1_test[\\\"train\\\"], part2_test[\\\"train\\\"]))\\n\\n# part1_val = part1_test[\\\"test\\\"].train_test_split(0.99, seed=0)\\n# part2_val = part2_test[\\\"test\\\"].train_test_split(0.99, seed=0)\\n# val = concatenate_datasets((part1_val[\\\"train\\\"], part2_val[\\\"train\\\"]))\\n\\n\\ndef split_dataset(dataset):\\n    test = dataset.train_test_split(0.1, seed=0)\\n    val = test[\\\"test\\\"].train_test_split(0.99, seed=0)\\n    return dict(train=test[\\\"train\\\"], val=val[\\\"train\\\"], test=val[\\\"test\\\"])\\n\\n\\npart1 = split_dataset(part1_dataset)\\npart2 = split_dataset(part2_dataset)\\nconcatenated_dataset = dict(\\n    train=concatenate_datasets((part1[\\\"train\\\"], part2[\\\"train\\\"])),\\n    val=concatenate_datasets((part1[\\\"val\\\"], part2[\\\"val\\\"])),\\n    test=concatenate_datasets((part1[\\\"test\\\"], part2[\\\"test\\\"])),\\n)\\n\\n\\ndef create_dataset(tokenizer: AutoTokenizer | None = None) -> Dataset:\\n    def preprocess_function(batch):\\n        inputs = tokenizer(\\n            [\\n                (\\n                    f\\\"translate {ex['source_lang']} to {ex['target_lang']}: \\\"\\n                    + ex[ex[\\\"source_lang\\\"]]\\n                ).strip()\\n                for ex in batch[\\\"translation\\\"]\\n            ]\\n        )\\n        outputs = tokenizer(\\n            [ex[ex[\\\"target_lang\\\"]].strip() for ex in batch[\\\"translation\\\"]]\\n        )\\n\\n        batch[\\\"input_ids\\\"] = inputs.input_ids\\n        batch[\\\"attention_mask\\\"] = inputs.attention_mask\\n        batch[\\\"labels\\\"] = outputs.input_ids.copy()\\n\\n        batch[\\\"input_ids_length\\\"] = [len(row) for row in batch[\\\"input_ids\\\"]]\\n        batch[\\\"labels_length\\\"] = [len(row) for row in batch[\\\"labels\\\"]]\\n\\n        return batch\\n\\n    dataset = DatasetDict(concatenated_dataset).map(\\n        preprocess_function, batched=True, batch_size=batch_size\\n    )\\n    dataset.set_format(\\n        type=\\\"torch\\\",\\n        columns=[\\\"input_ids\\\", \\\"attention_mask\\\", \\\"labels\\\"],\\n    )\\n    return dataset\";\n",
       "                var nbb_formatted_code = \"from datasets import concatenate_datasets\\n\\n\\ndef set_target_eng(batch):\\n    for row in batch[\\\"translation\\\"]:\\n        row[\\\"target_lang\\\"] = \\\"English\\\"\\n        row[\\\"source_lang\\\"] = \\\"Russian\\\"\\n        row[\\\"English\\\"] = row.pop(\\\"en\\\")\\n        row[\\\"Russian\\\"] = row.pop(\\\"ru\\\")\\n    return batch\\n\\n\\ndef set_target_ru(batch):\\n    for row in batch[\\\"translation\\\"]:\\n        row[\\\"target_lang\\\"] = \\\"Russian\\\"\\n        row[\\\"source_lang\\\"] = \\\"English\\\"\\n        row[\\\"English\\\"] = row.pop(\\\"en\\\")\\n        row[\\\"Russian\\\"] = row.pop(\\\"ru\\\")\\n    return batch\\n\\n\\npart1_dataset = Dataset.from_generator(\\n    dataset_convert_csv, cache_dir=os.environ[\\\"HF_DATASETS_CACHE\\\"]\\n)\\npart1_dataset = part1_dataset.map(set_target_eng, batched=True, batch_size=batch_size)\\npart2_dataset = Dataset.from_generator(\\n    dataset_convert_csv, cache_dir=os.environ[\\\"HF_DATASETS_CACHE\\\"]\\n)\\npart2_dataset = part2_dataset.map(set_target_ru, batched=True, batch_size=batch_size)\\n\\n# part1_test = part1_dataset.train_test_split(0.1, seed=0)\\n# part2_test = part2_dataset.train_test_split(0.1, seed=0)\\n# test = concatenate_datasets((part1_test[\\\"train\\\"], part2_test[\\\"train\\\"]))\\n\\n# part1_val = part1_test[\\\"test\\\"].train_test_split(0.99, seed=0)\\n# part2_val = part2_test[\\\"test\\\"].train_test_split(0.99, seed=0)\\n# val = concatenate_datasets((part1_val[\\\"train\\\"], part2_val[\\\"train\\\"]))\\n\\n\\ndef split_dataset(dataset):\\n    test = dataset.train_test_split(0.1, seed=0)\\n    val = test[\\\"test\\\"].train_test_split(0.99, seed=0)\\n    return dict(train=test[\\\"train\\\"], val=val[\\\"train\\\"], test=val[\\\"test\\\"])\\n\\n\\npart1 = split_dataset(part1_dataset)\\npart2 = split_dataset(part2_dataset)\\nconcatenated_dataset = dict(\\n    train=concatenate_datasets((part1[\\\"train\\\"], part2[\\\"train\\\"])),\\n    val=concatenate_datasets((part1[\\\"val\\\"], part2[\\\"val\\\"])),\\n    test=concatenate_datasets((part1[\\\"test\\\"], part2[\\\"test\\\"])),\\n)\\n\\n\\ndef create_dataset(tokenizer: AutoTokenizer | None = None) -> Dataset:\\n    def preprocess_function(batch):\\n        inputs = tokenizer(\\n            [\\n                (\\n                    f\\\"translate {ex['source_lang']} to {ex['target_lang']}: \\\"\\n                    + ex[ex[\\\"source_lang\\\"]]\\n                ).strip()\\n                for ex in batch[\\\"translation\\\"]\\n            ]\\n        )\\n        outputs = tokenizer(\\n            [ex[ex[\\\"target_lang\\\"]].strip() for ex in batch[\\\"translation\\\"]]\\n        )\\n\\n        batch[\\\"input_ids\\\"] = inputs.input_ids\\n        batch[\\\"attention_mask\\\"] = inputs.attention_mask\\n        batch[\\\"labels\\\"] = outputs.input_ids.copy()\\n\\n        batch[\\\"input_ids_length\\\"] = [len(row) for row in batch[\\\"input_ids\\\"]]\\n        batch[\\\"labels_length\\\"] = [len(row) for row in batch[\\\"labels\\\"]]\\n\\n        return batch\\n\\n    dataset = DatasetDict(concatenated_dataset).map(\\n        preprocess_function, batched=True, batch_size=batch_size\\n    )\\n    dataset.set_format(\\n        type=\\\"torch\\\",\\n        columns=[\\\"input_ids\\\", \\\"attention_mask\\\", \\\"labels\\\"],\\n    )\\n    return dataset\";\n",
       "                var nbb_cells = Jupyter.notebook.get_cells();\n",
       "                for (var i = 0; i < nbb_cells.length; ++i) {\n",
       "                    if (nbb_cells[i].input_prompt_number == nbb_cell_id) {\n",
       "                        if (nbb_cells[i].get_text() == nbb_unformatted_code) {\n",
       "                             nbb_cells[i].set_text(nbb_formatted_code);\n",
       "                        }\n",
       "                        break;\n",
       "                    }\n",
       "                }\n",
       "            }, 500);\n",
       "            "
      ],
      "text/plain": [
       "<IPython.core.display.Javascript object>"
      ]
     },
     "metadata": {},
     "output_type": "display_data"
    }
   ],
   "source": [
    "from datasets import concatenate_datasets\n",
    "\n",
    "\n",
    "def set_target_eng(batch):\n",
    "    for row in batch[\"translation\"]:\n",
    "        row[\"target_lang\"] = \"English\"\n",
    "        row[\"source_lang\"] = \"Russian\"\n",
    "        row[\"English\"] = row.pop(\"en\")\n",
    "        row[\"Russian\"] = row.pop(\"ru\")\n",
    "    return batch\n",
    "\n",
    "\n",
    "def set_target_ru(batch):\n",
    "    for row in batch[\"translation\"]:\n",
    "        row[\"target_lang\"] = \"Russian\"\n",
    "        row[\"source_lang\"] = \"English\"\n",
    "        row[\"English\"] = row.pop(\"en\")\n",
    "        row[\"Russian\"] = row.pop(\"ru\")\n",
    "    return batch\n",
    "\n",
    "\n",
    "part1_dataset = Dataset.from_generator(\n",
    "    dataset_convert_csv, cache_dir=os.environ[\"HF_DATASETS_CACHE\"]\n",
    ")\n",
    "part1_dataset = part1_dataset.map(set_target_eng, batched=True, batch_size=batch_size)\n",
    "part2_dataset = Dataset.from_generator(\n",
    "    dataset_convert_csv, cache_dir=os.environ[\"HF_DATASETS_CACHE\"]\n",
    ")\n",
    "part2_dataset = part2_dataset.map(set_target_ru, batched=True, batch_size=batch_size)\n",
    "\n",
    "def split_dataset(dataset):\n",
    "    test = dataset.train_test_split(0.1, seed=0)\n",
    "    val = test[\"test\"].train_test_split(0.99, seed=0)\n",
    "    return dict(train=test[\"train\"], val=val[\"train\"], test=val[\"test\"])\n",
    "\n",
    "\n",
    "part1 = split_dataset(part1_dataset)\n",
    "part2 = split_dataset(part2_dataset)\n",
    "concatenated_dataset = dict(\n",
    "    train=concatenate_datasets((part1[\"train\"], part2[\"train\"])),\n",
    "    val=concatenate_datasets((part1[\"val\"], part2[\"val\"])),\n",
    "    test=concatenate_datasets((part1[\"test\"], part2[\"test\"])),\n",
    ")\n",
    "\n",
    "\n",
    "def create_dataset(tokenizer: AutoTokenizer | None = None) -> Dataset:\n",
    "    def preprocess_function(batch):\n",
    "        inputs = tokenizer(\n",
    "            [\n",
    "                (\n",
    "                    f\"translate {ex['source_lang']} to {ex['target_lang']}: \"\n",
    "                    + ex[ex[\"source_lang\"]]\n",
    "                ).strip()\n",
    "                for ex in batch[\"translation\"]\n",
    "            ]\n",
    "        )\n",
    "        outputs = tokenizer(\n",
    "            [ex[ex[\"target_lang\"]].strip() for ex in batch[\"translation\"]]\n",
    "        )\n",
    "\n",
    "        batch[\"input_ids\"] = inputs.input_ids\n",
    "        batch[\"attention_mask\"] = inputs.attention_mask\n",
    "        batch[\"labels\"] = outputs.input_ids.copy()\n",
    "\n",
    "        batch[\"input_ids_length\"] = [len(row) for row in batch[\"input_ids\"]]\n",
    "        batch[\"labels_length\"] = [len(row) for row in batch[\"labels\"]]\n",
    "\n",
    "        return batch\n",
    "\n",
    "    dataset = DatasetDict(concatenated_dataset).map(\n",
    "        preprocess_function, batched=True, batch_size=batch_size\n",
    "    )\n",
    "    dataset.set_format(\n",
    "        type=\"torch\",\n",
    "        columns=[\"input_ids\", \"attention_mask\", \"labels\"],\n",
    "    )\n",
    "    return dataset"
   ]
  },
  {
   "cell_type": "code",
   "execution_count": 6,
   "id": "532b58e3",
   "metadata": {},
   "outputs": [
    {
     "data": {
      "application/vnd.jupyter.widget-view+json": {
       "model_id": "",
       "version_major": 2,
       "version_minor": 0
      },
      "text/plain": [
       "Map:   0%|          | 0/90000 [00:00<?, ? examples/s]"
      ]
     },
     "metadata": {},
     "output_type": "display_data"
    },
    {
     "data": {
      "application/vnd.jupyter.widget-view+json": {
       "model_id": "",
       "version_major": 2,
       "version_minor": 0
      },
      "text/plain": [
       "Map:   0%|          | 0/100 [00:00<?, ? examples/s]"
      ]
     },
     "metadata": {},
     "output_type": "display_data"
    },
    {
     "data": {
      "application/vnd.jupyter.widget-view+json": {
       "model_id": "",
       "version_major": 2,
       "version_minor": 0
      },
      "text/plain": [
       "Map:   0%|          | 0/9900 [00:00<?, ? examples/s]"
      ]
     },
     "metadata": {},
     "output_type": "display_data"
    },
    {
     "data": {
      "application/javascript": [
       "\n",
       "            setTimeout(function() {\n",
       "                var nbb_cell_id = 6;\n",
       "                var nbb_unformatted_code = \"dataset = create_dataset(tokenizer).sort(\\\"input_ids_length\\\")\";\n",
       "                var nbb_formatted_code = \"dataset = create_dataset(tokenizer).sort(\\\"input_ids_length\\\")\";\n",
       "                var nbb_cells = Jupyter.notebook.get_cells();\n",
       "                for (var i = 0; i < nbb_cells.length; ++i) {\n",
       "                    if (nbb_cells[i].input_prompt_number == nbb_cell_id) {\n",
       "                        if (nbb_cells[i].get_text() == nbb_unformatted_code) {\n",
       "                             nbb_cells[i].set_text(nbb_formatted_code);\n",
       "                        }\n",
       "                        break;\n",
       "                    }\n",
       "                }\n",
       "            }, 500);\n",
       "            "
      ],
      "text/plain": [
       "<IPython.core.display.Javascript object>"
      ]
     },
     "metadata": {},
     "output_type": "display_data"
    }
   ],
   "source": [
    "dataset = create_dataset(tokenizer).sort(\"input_ids_length\")"
   ]
  },
  {
   "cell_type": "code",
   "execution_count": 7,
   "id": "b616deea",
   "metadata": {},
   "outputs": [
    {
     "data": {
      "text/plain": [
       "['В ресторане этого апарт-отеля ежедневно сервируют завтрак, а поблизости от него находятся разнообразные рестораны.</s>',\n",
       " 'Центр города Райт находится в 5 минутах ходьбы от гостевого дома, который находится непосредственно на лыжном склоне.</s>',\n",
       " 'В числе удобств изысканно оформленных номеров кабельное телевидение, принадлежности для чая/кофе и мини-холодильник.</s>',\n",
       " 'К услугам гостей современного отеля типа «постель и завтрак», расположенного в загородной местности, открытый плавательный бассейн и хорошо оборудованная кухня.</s>',\n",
       " 'Каждый день с 10:00 до 20:00 работает оздоровительный спа-центр с сауной и турецкой баней.</s>',\n",
       " 'В числе удобств гостевого дома Romaguera общая кухня.</s>',\n",
       " 'Guests can have a relaxing barbecue by the pool, or lounge on the terrace overlooking the garden.</s>',\n",
       " 'Billiards and darts are available for guest entertainment, and business facilities are provided.</s>',\n",
       " 'All accommodation features a well-equipped kitchen or kitchenette.</s>',\n",
       " 'During summer they also offer beach towels and parasols to be used at the beach.</s>']"
      ]
     },
     "execution_count": 7,
     "metadata": {},
     "output_type": "execute_result"
    },
    {
     "data": {
      "application/javascript": [
       "\n",
       "            setTimeout(function() {\n",
       "                var nbb_cell_id = 7;\n",
       "                var nbb_unformatted_code = \"tokenizer.batch_decode(dataset[\\\"train\\\"][51330:51340][\\\"labels\\\"])\";\n",
       "                var nbb_formatted_code = \"tokenizer.batch_decode(dataset[\\\"train\\\"][51330:51340][\\\"labels\\\"])\";\n",
       "                var nbb_cells = Jupyter.notebook.get_cells();\n",
       "                for (var i = 0; i < nbb_cells.length; ++i) {\n",
       "                    if (nbb_cells[i].input_prompt_number == nbb_cell_id) {\n",
       "                        if (nbb_cells[i].get_text() == nbb_unformatted_code) {\n",
       "                             nbb_cells[i].set_text(nbb_formatted_code);\n",
       "                        }\n",
       "                        break;\n",
       "                    }\n",
       "                }\n",
       "            }, 500);\n",
       "            "
      ],
      "text/plain": [
       "<IPython.core.display.Javascript object>"
      ]
     },
     "metadata": {},
     "output_type": "display_data"
    }
   ],
   "source": [
    "tokenizer.batch_decode(dataset[\"train\"][51330:51340][\"labels\"])"
   ]
  },
  {
   "cell_type": "code",
   "execution_count": 9,
   "id": "9f341374",
   "metadata": {},
   "outputs": [
    {
     "data": {
      "text/plain": [
       "({'translation': {'English': 'Free WiFi is featured throughout the property.',\n",
       "   'Russian': 'На всей территории подключен бесплатный Wi-Fi.\\n',\n",
       "   'source_lang': 'Russian',\n",
       "   'target_lang': 'English'}},\n",
       " {'translation': {'English': 'Free WiFi is featured throughout the property.',\n",
       "   'Russian': 'На всей территории подключен бесплатный Wi-Fi.\\n',\n",
       "   'source_lang': 'English',\n",
       "   'target_lang': 'Russian'}})"
      ]
     },
     "execution_count": 9,
     "metadata": {},
     "output_type": "execute_result"
    },
    {
     "data": {
      "application/javascript": [
       "\n",
       "            setTimeout(function() {\n",
       "                var nbb_cell_id = 9;\n",
       "                var nbb_unformatted_code = \"part1[\\\"val\\\"][0], part2[\\\"val\\\"][0]\";\n",
       "                var nbb_formatted_code = \"part1[\\\"val\\\"][0], part2[\\\"val\\\"][0]\";\n",
       "                var nbb_cells = Jupyter.notebook.get_cells();\n",
       "                for (var i = 0; i < nbb_cells.length; ++i) {\n",
       "                    if (nbb_cells[i].input_prompt_number == nbb_cell_id) {\n",
       "                        if (nbb_cells[i].get_text() == nbb_unformatted_code) {\n",
       "                             nbb_cells[i].set_text(nbb_formatted_code);\n",
       "                        }\n",
       "                        break;\n",
       "                    }\n",
       "                }\n",
       "            }, 500);\n",
       "            "
      ],
      "text/plain": [
       "<IPython.core.display.Javascript object>"
      ]
     },
     "metadata": {},
     "output_type": "display_data"
    }
   ],
   "source": [
    "part1[\"val\"][0], part2[\"val\"][0]"
   ]
  },
  {
   "cell_type": "code",
   "execution_count": 10,
   "id": "c222954f",
   "metadata": {
    "scrolled": true
   },
   "outputs": [
    {
     "data": {
      "application/javascript": [
       "\n",
       "            setTimeout(function() {\n",
       "                var nbb_cell_id = 10;\n",
       "                var nbb_unformatted_code = \"model = AutoModelForSeq2SeqLM.from_pretrained(enc_name)\";\n",
       "                var nbb_formatted_code = \"model = AutoModelForSeq2SeqLM.from_pretrained(enc_name)\";\n",
       "                var nbb_cells = Jupyter.notebook.get_cells();\n",
       "                for (var i = 0; i < nbb_cells.length; ++i) {\n",
       "                    if (nbb_cells[i].input_prompt_number == nbb_cell_id) {\n",
       "                        if (nbb_cells[i].get_text() == nbb_unformatted_code) {\n",
       "                             nbb_cells[i].set_text(nbb_formatted_code);\n",
       "                        }\n",
       "                        break;\n",
       "                    }\n",
       "                }\n",
       "            }, 500);\n",
       "            "
      ],
      "text/plain": [
       "<IPython.core.display.Javascript object>"
      ]
     },
     "metadata": {},
     "output_type": "display_data"
    }
   ],
   "source": [
    "model = AutoModelForSeq2SeqLM.from_pretrained(enc_name)"
   ]
  },
  {
   "cell_type": "code",
   "execution_count": 11,
   "id": "478ee05e",
   "metadata": {},
   "outputs": [
    {
     "data": {
      "application/javascript": [
       "\n",
       "            setTimeout(function() {\n",
       "                var nbb_cell_id = 11;\n",
       "                var nbb_unformatted_code = \"model.config.max_length = max_input_length\\nmodel.config.min_length = 10\\nmodel.config.no_repeat_ngram_size = 3\\nmodel.config.early_stopping = True\\nmodel.config.num_beams = 10\";\n",
       "                var nbb_formatted_code = \"model.config.max_length = max_input_length\\nmodel.config.min_length = 10\\nmodel.config.no_repeat_ngram_size = 3\\nmodel.config.early_stopping = True\\nmodel.config.num_beams = 10\";\n",
       "                var nbb_cells = Jupyter.notebook.get_cells();\n",
       "                for (var i = 0; i < nbb_cells.length; ++i) {\n",
       "                    if (nbb_cells[i].input_prompt_number == nbb_cell_id) {\n",
       "                        if (nbb_cells[i].get_text() == nbb_unformatted_code) {\n",
       "                             nbb_cells[i].set_text(nbb_formatted_code);\n",
       "                        }\n",
       "                        break;\n",
       "                    }\n",
       "                }\n",
       "            }, 500);\n",
       "            "
      ],
      "text/plain": [
       "<IPython.core.display.Javascript object>"
      ]
     },
     "metadata": {},
     "output_type": "display_data"
    }
   ],
   "source": [
    "model.config.max_length = max_input_length\n",
    "model.config.min_length = 10\n",
    "model.config.no_repeat_ngram_size = 3\n",
    "model.config.early_stopping = True\n",
    "model.config.num_beams = 10"
   ]
  },
  {
   "cell_type": "code",
   "execution_count": 12,
   "id": "5ce6805a",
   "metadata": {},
   "outputs": [
    {
     "data": {
      "application/javascript": [
       "\n",
       "            setTimeout(function() {\n",
       "                var nbb_cell_id = 12;\n",
       "                var nbb_unformatted_code = \"version = 2\";\n",
       "                var nbb_formatted_code = \"version = 2\";\n",
       "                var nbb_cells = Jupyter.notebook.get_cells();\n",
       "                for (var i = 0; i < nbb_cells.length; ++i) {\n",
       "                    if (nbb_cells[i].input_prompt_number == nbb_cell_id) {\n",
       "                        if (nbb_cells[i].get_text() == nbb_unformatted_code) {\n",
       "                             nbb_cells[i].set_text(nbb_formatted_code);\n",
       "                        }\n",
       "                        break;\n",
       "                    }\n",
       "                }\n",
       "            }, 500);\n",
       "            "
      ],
      "text/plain": [
       "<IPython.core.display.Javascript object>"
      ]
     },
     "metadata": {},
     "output_type": "display_data"
    }
   ],
   "source": [
    "version = 2"
   ]
  },
  {
   "cell_type": "code",
   "execution_count": 13,
   "id": "6adb2d8a",
   "metadata": {},
   "outputs": [
    {
     "data": {
      "application/javascript": [
       "\n",
       "            setTimeout(function() {\n",
       "                var nbb_cell_id = 13;\n",
       "                var nbb_unformatted_code = \"version += 1\\nargs = Seq2SeqTrainingArguments(\\n    output_dir=Path(\\\"models\\\") / model_name,\\n    evaluation_strategy=\\\"steps\\\",\\n    learning_rate=5e-5,\\n    #     lr_scheduler_type=\\\"constant_with_warmup\\\",\\n    per_device_train_batch_size=batch_size,\\n    per_device_eval_batch_size=batch_size,\\n    save_total_limit=1,\\n    num_train_epochs=4,\\n    predict_with_generate=True,\\n    warmup_steps=3000,\\n    fp16=False,\\n    logging_dir=f\\\"../made/logs/lightning_logs/{model_name}/{version}\\\",\\n    logging_first_step=False,\\n    eval_steps=1000,\\n    logging_steps=500,\\n    overwrite_output_dir=True,\\n    group_by_length=True,\\n)\";\n",
       "                var nbb_formatted_code = \"version += 1\\nargs = Seq2SeqTrainingArguments(\\n    output_dir=Path(\\\"models\\\") / model_name,\\n    evaluation_strategy=\\\"steps\\\",\\n    learning_rate=5e-5,\\n    #     lr_scheduler_type=\\\"constant_with_warmup\\\",\\n    per_device_train_batch_size=batch_size,\\n    per_device_eval_batch_size=batch_size,\\n    save_total_limit=1,\\n    num_train_epochs=4,\\n    predict_with_generate=True,\\n    warmup_steps=3000,\\n    fp16=False,\\n    logging_dir=f\\\"../made/logs/lightning_logs/{model_name}/{version}\\\",\\n    logging_first_step=False,\\n    eval_steps=1000,\\n    logging_steps=500,\\n    overwrite_output_dir=True,\\n    group_by_length=True,\\n)\";\n",
       "                var nbb_cells = Jupyter.notebook.get_cells();\n",
       "                for (var i = 0; i < nbb_cells.length; ++i) {\n",
       "                    if (nbb_cells[i].input_prompt_number == nbb_cell_id) {\n",
       "                        if (nbb_cells[i].get_text() == nbb_unformatted_code) {\n",
       "                             nbb_cells[i].set_text(nbb_formatted_code);\n",
       "                        }\n",
       "                        break;\n",
       "                    }\n",
       "                }\n",
       "            }, 500);\n",
       "            "
      ],
      "text/plain": [
       "<IPython.core.display.Javascript object>"
      ]
     },
     "metadata": {},
     "output_type": "display_data"
    }
   ],
   "source": [
    "version += 1\n",
    "args = Seq2SeqTrainingArguments(\n",
    "    output_dir=Path(\"models\") / model_name,\n",
    "    evaluation_strategy=\"steps\",\n",
    "    learning_rate=5e-5,\n",
    "    #     lr_scheduler_type=\"constant_with_warmup\",\n",
    "    per_device_train_batch_size=batch_size,\n",
    "    per_device_eval_batch_size=batch_size,\n",
    "    save_total_limit=1,\n",
    "    num_train_epochs=4,\n",
    "    predict_with_generate=True,\n",
    "    warmup_steps=3000,\n",
    "    fp16=False,\n",
    "    logging_dir=f\"../made/logs/lightning_logs/{model_name}/{version}\",\n",
    "    logging_first_step=False,\n",
    "    eval_steps=1000,\n",
    "    logging_steps=500,\n",
    "    overwrite_output_dir=True,\n",
    "    group_by_length=True,\n",
    ")"
   ]
  },
  {
   "cell_type": "code",
   "execution_count": 14,
   "id": "d5738285",
   "metadata": {},
   "outputs": [
    {
     "data": {
      "application/javascript": [
       "\n",
       "            setTimeout(function() {\n",
       "                var nbb_cell_id = 14;\n",
       "                var nbb_unformatted_code = \"trainer = Seq2SeqTrainer(\\n    model=model,\\n    args=args,\\n    compute_metrics=partial(compute_metrics, tokenizer, metric),\\n    train_dataset=dataset[\\\"train\\\"],\\n    eval_dataset=dataset[\\\"val\\\"],\\n    data_collator=DataCollatorForSeq2Seq(tokenizer, model=model),\\n)\";\n",
       "                var nbb_formatted_code = \"trainer = Seq2SeqTrainer(\\n    model=model,\\n    args=args,\\n    compute_metrics=partial(compute_metrics, tokenizer, metric),\\n    train_dataset=dataset[\\\"train\\\"],\\n    eval_dataset=dataset[\\\"val\\\"],\\n    data_collator=DataCollatorForSeq2Seq(tokenizer, model=model),\\n)\";\n",
       "                var nbb_cells = Jupyter.notebook.get_cells();\n",
       "                for (var i = 0; i < nbb_cells.length; ++i) {\n",
       "                    if (nbb_cells[i].input_prompt_number == nbb_cell_id) {\n",
       "                        if (nbb_cells[i].get_text() == nbb_unformatted_code) {\n",
       "                             nbb_cells[i].set_text(nbb_formatted_code);\n",
       "                        }\n",
       "                        break;\n",
       "                    }\n",
       "                }\n",
       "            }, 500);\n",
       "            "
      ],
      "text/plain": [
       "<IPython.core.display.Javascript object>"
      ]
     },
     "metadata": {},
     "output_type": "display_data"
    }
   ],
   "source": [
    "trainer = Seq2SeqTrainer(\n",
    "    model=model,\n",
    "    args=args,\n",
    "    compute_metrics=partial(compute_metrics, tokenizer, metric),\n",
    "    train_dataset=dataset[\"train\"],\n",
    "    eval_dataset=dataset[\"val\"],\n",
    "    data_collator=DataCollatorForSeq2Seq(tokenizer, model=model),\n",
    ")"
   ]
  },
  {
   "cell_type": "code",
   "execution_count": null,
   "id": "520bc29c",
   "metadata": {},
   "outputs": [
    {
     "name": "stderr",
     "output_type": "stream",
     "text": [
      "C:\\tempjeka\\anaconda3\\lib\\site-packages\\transformers\\optimization.py:391: FutureWarning: This implementation of AdamW is deprecated and will be removed in a future version. Use the PyTorch implementation torch.optim.AdamW instead, or set `no_deprecation_warning=True` to disable this warning\n",
      "  warnings.warn(\n",
      "You're using a T5TokenizerFast tokenizer. Please note that with a fast tokenizer, using the `__call__` method is faster than using a method to encode the text followed by a call to the `pad` method to get a padded encoding.\n"
     ]
    },
    {
     "data": {
      "text/html": [
       "\n",
       "    <div>\n",
       "      \n",
       "      <progress value='76616' max='90000' style='width:300px; height:20px; vertical-align: middle;'></progress>\n",
       "      [76616/90000 5:37:21 < 58:56, 3.79 it/s, Epoch 3.41/4]\n",
       "    </div>\n",
       "    <table border=\"1\" class=\"dataframe\">\n",
       "  <thead>\n",
       " <tr style=\"text-align: left;\">\n",
       "      <th>Step</th>\n",
       "      <th>Training Loss</th>\n",
       "      <th>Validation Loss</th>\n",
       "      <th>Bleu</th>\n",
       "      <th>Gen Len</th>\n",
       "    </tr>\n",
       "  </thead>\n",
       "  <tbody>\n",
       "    <tr>\n",
       "      <td>1000</td>\n",
       "      <td>15.818700</td>\n",
       "      <td>5.710825</td>\n",
       "      <td>0.013690</td>\n",
       "      <td>51.950000</td>\n",
       "    </tr>\n",
       "    <tr>\n",
       "      <td>2000</td>\n",
       "      <td>4.466300</td>\n",
       "      <td>2.278508</td>\n",
       "      <td>0.027006</td>\n",
       "      <td>50.240000</td>\n",
       "    </tr>\n",
       "    <tr>\n",
       "      <td>3000</td>\n",
       "      <td>3.266300</td>\n",
       "      <td>1.888404</td>\n",
       "      <td>0.043935</td>\n",
       "      <td>59.580000</td>\n",
       "    </tr>\n",
       "    <tr>\n",
       "      <td>4000</td>\n",
       "      <td>2.821100</td>\n",
       "      <td>1.711197</td>\n",
       "      <td>0.078820</td>\n",
       "      <td>62.400000</td>\n",
       "    </tr>\n",
       "    <tr>\n",
       "      <td>5000</td>\n",
       "      <td>2.555400</td>\n",
       "      <td>1.624669</td>\n",
       "      <td>0.116278</td>\n",
       "      <td>65.130000</td>\n",
       "    </tr>\n",
       "    <tr>\n",
       "      <td>6000</td>\n",
       "      <td>2.430600</td>\n",
       "      <td>1.535547</td>\n",
       "      <td>0.134998</td>\n",
       "      <td>68.250000</td>\n",
       "    </tr>\n",
       "    <tr>\n",
       "      <td>7000</td>\n",
       "      <td>2.303400</td>\n",
       "      <td>1.468963</td>\n",
       "      <td>0.139088</td>\n",
       "      <td>64.720000</td>\n",
       "    </tr>\n",
       "    <tr>\n",
       "      <td>8000</td>\n",
       "      <td>2.231800</td>\n",
       "      <td>1.396612</td>\n",
       "      <td>0.172062</td>\n",
       "      <td>71.020000</td>\n",
       "    </tr>\n",
       "    <tr>\n",
       "      <td>9000</td>\n",
       "      <td>2.133100</td>\n",
       "      <td>1.361709</td>\n",
       "      <td>0.160453</td>\n",
       "      <td>67.380000</td>\n",
       "    </tr>\n",
       "    <tr>\n",
       "      <td>10000</td>\n",
       "      <td>2.053800</td>\n",
       "      <td>1.329129</td>\n",
       "      <td>0.196267</td>\n",
       "      <td>70.620000</td>\n",
       "    </tr>\n",
       "    <tr>\n",
       "      <td>11000</td>\n",
       "      <td>2.008400</td>\n",
       "      <td>1.293301</td>\n",
       "      <td>0.214590</td>\n",
       "      <td>71.580000</td>\n",
       "    </tr>\n",
       "    <tr>\n",
       "      <td>12000</td>\n",
       "      <td>2.004500</td>\n",
       "      <td>1.266011</td>\n",
       "      <td>0.210424</td>\n",
       "      <td>70.640000</td>\n",
       "    </tr>\n",
       "    <tr>\n",
       "      <td>13000</td>\n",
       "      <td>1.913500</td>\n",
       "      <td>1.237671</td>\n",
       "      <td>0.218715</td>\n",
       "      <td>72.280000</td>\n",
       "    </tr>\n",
       "    <tr>\n",
       "      <td>14000</td>\n",
       "      <td>1.900600</td>\n",
       "      <td>1.220740</td>\n",
       "      <td>0.226734</td>\n",
       "      <td>71.190000</td>\n",
       "    </tr>\n",
       "    <tr>\n",
       "      <td>15000</td>\n",
       "      <td>1.857000</td>\n",
       "      <td>1.214239</td>\n",
       "      <td>0.234266</td>\n",
       "      <td>72.490000</td>\n",
       "    </tr>\n",
       "    <tr>\n",
       "      <td>16000</td>\n",
       "      <td>1.846700</td>\n",
       "      <td>1.200710</td>\n",
       "      <td>0.228211</td>\n",
       "      <td>74.370000</td>\n",
       "    </tr>\n",
       "    <tr>\n",
       "      <td>17000</td>\n",
       "      <td>1.810900</td>\n",
       "      <td>1.179651</td>\n",
       "      <td>0.244630</td>\n",
       "      <td>72.880000</td>\n",
       "    </tr>\n",
       "    <tr>\n",
       "      <td>18000</td>\n",
       "      <td>1.774900</td>\n",
       "      <td>1.154335</td>\n",
       "      <td>0.259318</td>\n",
       "      <td>77.350000</td>\n",
       "    </tr>\n",
       "    <tr>\n",
       "      <td>19000</td>\n",
       "      <td>1.732500</td>\n",
       "      <td>1.148869</td>\n",
       "      <td>0.250386</td>\n",
       "      <td>71.600000</td>\n",
       "    </tr>\n",
       "    <tr>\n",
       "      <td>20000</td>\n",
       "      <td>1.758100</td>\n",
       "      <td>1.135682</td>\n",
       "      <td>0.257400</td>\n",
       "      <td>74.380000</td>\n",
       "    </tr>\n",
       "    <tr>\n",
       "      <td>21000</td>\n",
       "      <td>1.719100</td>\n",
       "      <td>1.114012</td>\n",
       "      <td>0.265486</td>\n",
       "      <td>74.340000</td>\n",
       "    </tr>\n",
       "    <tr>\n",
       "      <td>22000</td>\n",
       "      <td>1.712600</td>\n",
       "      <td>1.108922</td>\n",
       "      <td>0.263431</td>\n",
       "      <td>76.240000</td>\n",
       "    </tr>\n",
       "    <tr>\n",
       "      <td>23000</td>\n",
       "      <td>1.643400</td>\n",
       "      <td>1.096945</td>\n",
       "      <td>0.265713</td>\n",
       "      <td>75.780000</td>\n",
       "    </tr>\n",
       "    <tr>\n",
       "      <td>24000</td>\n",
       "      <td>1.646600</td>\n",
       "      <td>1.084006</td>\n",
       "      <td>0.276206</td>\n",
       "      <td>76.880000</td>\n",
       "    </tr>\n",
       "    <tr>\n",
       "      <td>25000</td>\n",
       "      <td>1.636500</td>\n",
       "      <td>1.078172</td>\n",
       "      <td>0.273378</td>\n",
       "      <td>76.080000</td>\n",
       "    </tr>\n",
       "    <tr>\n",
       "      <td>26000</td>\n",
       "      <td>1.619600</td>\n",
       "      <td>1.077100</td>\n",
       "      <td>0.295448</td>\n",
       "      <td>75.090000</td>\n",
       "    </tr>\n",
       "    <tr>\n",
       "      <td>27000</td>\n",
       "      <td>1.567800</td>\n",
       "      <td>1.073169</td>\n",
       "      <td>0.277998</td>\n",
       "      <td>76.010000</td>\n",
       "    </tr>\n",
       "    <tr>\n",
       "      <td>28000</td>\n",
       "      <td>1.593500</td>\n",
       "      <td>1.065334</td>\n",
       "      <td>0.281763</td>\n",
       "      <td>75.350000</td>\n",
       "    </tr>\n",
       "    <tr>\n",
       "      <td>29000</td>\n",
       "      <td>1.571900</td>\n",
       "      <td>1.049376</td>\n",
       "      <td>0.308496</td>\n",
       "      <td>78.090000</td>\n",
       "    </tr>\n",
       "    <tr>\n",
       "      <td>30000</td>\n",
       "      <td>1.580400</td>\n",
       "      <td>1.046810</td>\n",
       "      <td>0.292852</td>\n",
       "      <td>77.670000</td>\n",
       "    </tr>\n",
       "    <tr>\n",
       "      <td>31000</td>\n",
       "      <td>1.556900</td>\n",
       "      <td>1.034549</td>\n",
       "      <td>0.309262</td>\n",
       "      <td>80.380000</td>\n",
       "    </tr>\n",
       "    <tr>\n",
       "      <td>32000</td>\n",
       "      <td>1.531100</td>\n",
       "      <td>1.031002</td>\n",
       "      <td>0.298623</td>\n",
       "      <td>77.840000</td>\n",
       "    </tr>\n",
       "    <tr>\n",
       "      <td>33000</td>\n",
       "      <td>1.573500</td>\n",
       "      <td>1.020356</td>\n",
       "      <td>0.283912</td>\n",
       "      <td>77.420000</td>\n",
       "    </tr>\n",
       "    <tr>\n",
       "      <td>34000</td>\n",
       "      <td>1.526900</td>\n",
       "      <td>1.019522</td>\n",
       "      <td>0.308931</td>\n",
       "      <td>76.990000</td>\n",
       "    </tr>\n",
       "    <tr>\n",
       "      <td>35000</td>\n",
       "      <td>1.538600</td>\n",
       "      <td>1.018976</td>\n",
       "      <td>0.289534</td>\n",
       "      <td>76.970000</td>\n",
       "    </tr>\n",
       "    <tr>\n",
       "      <td>36000</td>\n",
       "      <td>1.528000</td>\n",
       "      <td>1.014427</td>\n",
       "      <td>0.312060</td>\n",
       "      <td>78.850000</td>\n",
       "    </tr>\n",
       "    <tr>\n",
       "      <td>37000</td>\n",
       "      <td>1.503200</td>\n",
       "      <td>1.005146</td>\n",
       "      <td>0.310482</td>\n",
       "      <td>79.650000</td>\n",
       "    </tr>\n",
       "    <tr>\n",
       "      <td>38000</td>\n",
       "      <td>1.501200</td>\n",
       "      <td>1.000960</td>\n",
       "      <td>0.288589</td>\n",
       "      <td>76.990000</td>\n",
       "    </tr>\n",
       "    <tr>\n",
       "      <td>39000</td>\n",
       "      <td>1.480600</td>\n",
       "      <td>0.998635</td>\n",
       "      <td>0.288117</td>\n",
       "      <td>78.220000</td>\n",
       "    </tr>\n",
       "    <tr>\n",
       "      <td>40000</td>\n",
       "      <td>1.464900</td>\n",
       "      <td>1.002205</td>\n",
       "      <td>0.298577</td>\n",
       "      <td>77.760000</td>\n",
       "    </tr>\n",
       "    <tr>\n",
       "      <td>41000</td>\n",
       "      <td>1.516900</td>\n",
       "      <td>0.993585</td>\n",
       "      <td>0.312220</td>\n",
       "      <td>78.230000</td>\n",
       "    </tr>\n",
       "    <tr>\n",
       "      <td>42000</td>\n",
       "      <td>1.489300</td>\n",
       "      <td>0.990648</td>\n",
       "      <td>0.315658</td>\n",
       "      <td>80.000000</td>\n",
       "    </tr>\n",
       "    <tr>\n",
       "      <td>43000</td>\n",
       "      <td>1.436400</td>\n",
       "      <td>0.988384</td>\n",
       "      <td>0.331972</td>\n",
       "      <td>77.910000</td>\n",
       "    </tr>\n",
       "    <tr>\n",
       "      <td>44000</td>\n",
       "      <td>1.479000</td>\n",
       "      <td>0.980886</td>\n",
       "      <td>0.299704</td>\n",
       "      <td>78.140000</td>\n",
       "    </tr>\n",
       "    <tr>\n",
       "      <td>45000</td>\n",
       "      <td>1.451800</td>\n",
       "      <td>0.976619</td>\n",
       "      <td>0.307787</td>\n",
       "      <td>79.550000</td>\n",
       "    </tr>\n",
       "    <tr>\n",
       "      <td>46000</td>\n",
       "      <td>1.394700</td>\n",
       "      <td>0.981462</td>\n",
       "      <td>0.322051</td>\n",
       "      <td>79.550000</td>\n",
       "    </tr>\n",
       "    <tr>\n",
       "      <td>47000</td>\n",
       "      <td>1.418900</td>\n",
       "      <td>0.969188</td>\n",
       "      <td>0.314634</td>\n",
       "      <td>78.810000</td>\n",
       "    </tr>\n",
       "    <tr>\n",
       "      <td>48000</td>\n",
       "      <td>1.419600</td>\n",
       "      <td>0.968154</td>\n",
       "      <td>0.299036</td>\n",
       "      <td>77.190000</td>\n",
       "    </tr>\n",
       "    <tr>\n",
       "      <td>49000</td>\n",
       "      <td>1.408800</td>\n",
       "      <td>0.967254</td>\n",
       "      <td>0.318340</td>\n",
       "      <td>79.620000</td>\n",
       "    </tr>\n",
       "    <tr>\n",
       "      <td>50000</td>\n",
       "      <td>1.402600</td>\n",
       "      <td>0.962558</td>\n",
       "      <td>0.312574</td>\n",
       "      <td>78.420000</td>\n",
       "    </tr>\n",
       "    <tr>\n",
       "      <td>51000</td>\n",
       "      <td>1.411100</td>\n",
       "      <td>0.966235</td>\n",
       "      <td>0.314739</td>\n",
       "      <td>77.740000</td>\n",
       "    </tr>\n",
       "    <tr>\n",
       "      <td>52000</td>\n",
       "      <td>1.410100</td>\n",
       "      <td>0.964758</td>\n",
       "      <td>0.314207</td>\n",
       "      <td>78.140000</td>\n",
       "    </tr>\n",
       "    <tr>\n",
       "      <td>53000</td>\n",
       "      <td>1.422800</td>\n",
       "      <td>0.963112</td>\n",
       "      <td>0.317637</td>\n",
       "      <td>77.990000</td>\n",
       "    </tr>\n",
       "    <tr>\n",
       "      <td>54000</td>\n",
       "      <td>1.374800</td>\n",
       "      <td>0.967393</td>\n",
       "      <td>0.311473</td>\n",
       "      <td>78.830000</td>\n",
       "    </tr>\n",
       "    <tr>\n",
       "      <td>55000</td>\n",
       "      <td>1.391600</td>\n",
       "      <td>0.957571</td>\n",
       "      <td>0.321507</td>\n",
       "      <td>78.190000</td>\n",
       "    </tr>\n",
       "    <tr>\n",
       "      <td>56000</td>\n",
       "      <td>1.382500</td>\n",
       "      <td>0.962829</td>\n",
       "      <td>0.327333</td>\n",
       "      <td>79.320000</td>\n",
       "    </tr>\n",
       "    <tr>\n",
       "      <td>57000</td>\n",
       "      <td>1.371600</td>\n",
       "      <td>0.950942</td>\n",
       "      <td>0.324683</td>\n",
       "      <td>78.110000</td>\n",
       "    </tr>\n",
       "    <tr>\n",
       "      <td>58000</td>\n",
       "      <td>1.351800</td>\n",
       "      <td>0.952982</td>\n",
       "      <td>0.324762</td>\n",
       "      <td>77.100000</td>\n",
       "    </tr>\n",
       "    <tr>\n",
       "      <td>59000</td>\n",
       "      <td>1.399200</td>\n",
       "      <td>0.954120</td>\n",
       "      <td>0.331335</td>\n",
       "      <td>78.130000</td>\n",
       "    </tr>\n",
       "    <tr>\n",
       "      <td>60000</td>\n",
       "      <td>1.348700</td>\n",
       "      <td>0.950306</td>\n",
       "      <td>0.333236</td>\n",
       "      <td>78.670000</td>\n",
       "    </tr>\n",
       "    <tr>\n",
       "      <td>61000</td>\n",
       "      <td>1.379800</td>\n",
       "      <td>0.943821</td>\n",
       "      <td>0.326343</td>\n",
       "      <td>78.210000</td>\n",
       "    </tr>\n",
       "    <tr>\n",
       "      <td>62000</td>\n",
       "      <td>1.354900</td>\n",
       "      <td>0.939940</td>\n",
       "      <td>0.335158</td>\n",
       "      <td>77.750000</td>\n",
       "    </tr>\n",
       "    <tr>\n",
       "      <td>63000</td>\n",
       "      <td>1.370100</td>\n",
       "      <td>0.940746</td>\n",
       "      <td>0.328107</td>\n",
       "      <td>78.200000</td>\n",
       "    </tr>\n",
       "    <tr>\n",
       "      <td>64000</td>\n",
       "      <td>1.357600</td>\n",
       "      <td>0.941550</td>\n",
       "      <td>0.320246</td>\n",
       "      <td>77.050000</td>\n",
       "    </tr>\n",
       "    <tr>\n",
       "      <td>65000</td>\n",
       "      <td>1.334800</td>\n",
       "      <td>0.938493</td>\n",
       "      <td>0.333211</td>\n",
       "      <td>77.240000</td>\n",
       "    </tr>\n",
       "    <tr>\n",
       "      <td>66000</td>\n",
       "      <td>1.335000</td>\n",
       "      <td>0.937690</td>\n",
       "      <td>0.332077</td>\n",
       "      <td>77.200000</td>\n",
       "    </tr>\n",
       "    <tr>\n",
       "      <td>67000</td>\n",
       "      <td>1.385800</td>\n",
       "      <td>0.933824</td>\n",
       "      <td>0.329186</td>\n",
       "      <td>77.960000</td>\n",
       "    </tr>\n",
       "    <tr>\n",
       "      <td>68000</td>\n",
       "      <td>1.320700</td>\n",
       "      <td>0.937822</td>\n",
       "      <td>0.331931</td>\n",
       "      <td>78.900000</td>\n",
       "    </tr>\n",
       "    <tr>\n",
       "      <td>69000</td>\n",
       "      <td>1.350500</td>\n",
       "      <td>0.932519</td>\n",
       "      <td>0.335944</td>\n",
       "      <td>79.040000</td>\n",
       "    </tr>\n",
       "    <tr>\n",
       "      <td>70000</td>\n",
       "      <td>1.294500</td>\n",
       "      <td>0.929761</td>\n",
       "      <td>0.332046</td>\n",
       "      <td>77.640000</td>\n",
       "    </tr>\n",
       "    <tr>\n",
       "      <td>71000</td>\n",
       "      <td>1.341300</td>\n",
       "      <td>0.931530</td>\n",
       "      <td>0.331014</td>\n",
       "      <td>79.040000</td>\n",
       "    </tr>\n",
       "    <tr>\n",
       "      <td>72000</td>\n",
       "      <td>1.313500</td>\n",
       "      <td>0.929947</td>\n",
       "      <td>0.333303</td>\n",
       "      <td>78.470000</td>\n",
       "    </tr>\n",
       "    <tr>\n",
       "      <td>73000</td>\n",
       "      <td>1.321800</td>\n",
       "      <td>0.927920</td>\n",
       "      <td>0.335616</td>\n",
       "      <td>79.060000</td>\n",
       "    </tr>\n",
       "    <tr>\n",
       "      <td>74000</td>\n",
       "      <td>1.328500</td>\n",
       "      <td>0.928371</td>\n",
       "      <td>0.328631</td>\n",
       "      <td>77.620000</td>\n",
       "    </tr>\n",
       "    <tr>\n",
       "      <td>75000</td>\n",
       "      <td>1.323900</td>\n",
       "      <td>0.928196</td>\n",
       "      <td>0.327783</td>\n",
       "      <td>78.090000</td>\n",
       "    </tr>\n",
       "    <tr>\n",
       "      <td>76000</td>\n",
       "      <td>1.301000</td>\n",
       "      <td>0.927053</td>\n",
       "      <td>0.327608</td>\n",
       "      <td>77.630000</td>\n",
       "    </tr>\n",
       "  </tbody>\n",
       "</table><p>"
      ],
      "text/plain": [
       "<IPython.core.display.HTML object>"
      ]
     },
     "metadata": {},
     "output_type": "display_data"
    },
    {
     "name": "stderr",
     "output_type": "stream",
     "text": [
      "C:\\tempjeka\\anaconda3\\lib\\site-packages\\transformers\\generation\\utils.py:1219: UserWarning: You have modified the pretrained model configuration to control generation. This is a deprecated strategy to control generation and will be removed soon, in a future version. Please use a generation configuration file (see https://huggingface.co/docs/transformers/main_classes/text_generation)\n",
      "  warnings.warn(\n",
      "IOPub message rate exceeded.\n",
      "The notebook server will temporarily stop sending output\n",
      "to the client in order to avoid crashing it.\n",
      "To change this limit, set the config variable\n",
      "`--NotebookApp.iopub_msg_rate_limit`.\n",
      "\n",
      "Current values:\n",
      "NotebookApp.iopub_msg_rate_limit=1000.0 (msgs/sec)\n",
      "NotebookApp.rate_limit_window=3.0 (secs)\n",
      "\n",
      "IOPub message rate exceeded.\n",
      "The notebook server will temporarily stop sending output\n",
      "to the client in order to avoid crashing it.\n",
      "To change this limit, set the config variable\n",
      "`--NotebookApp.iopub_msg_rate_limit`.\n",
      "\n",
      "Current values:\n",
      "NotebookApp.iopub_msg_rate_limit=1000.0 (msgs/sec)\n",
      "NotebookApp.rate_limit_window=3.0 (secs)\n",
      "\n",
      "IOPub message rate exceeded.\n",
      "The notebook server will temporarily stop sending output\n",
      "to the client in order to avoid crashing it.\n",
      "To change this limit, set the config variable\n",
      "`--NotebookApp.iopub_msg_rate_limit`.\n",
      "\n",
      "Current values:\n",
      "NotebookApp.iopub_msg_rate_limit=1000.0 (msgs/sec)\n",
      "NotebookApp.rate_limit_window=3.0 (secs)\n",
      "\n",
      "IOPub message rate exceeded.\n",
      "The notebook server will temporarily stop sending output\n",
      "to the client in order to avoid crashing it.\n",
      "To change this limit, set the config variable\n",
      "`--NotebookApp.iopub_msg_rate_limit`.\n",
      "\n",
      "Current values:\n",
      "NotebookApp.iopub_msg_rate_limit=1000.0 (msgs/sec)\n",
      "NotebookApp.rate_limit_window=3.0 (secs)\n",
      "\n",
      "IOPub message rate exceeded.\n",
      "The notebook server will temporarily stop sending output\n",
      "to the client in order to avoid crashing it.\n",
      "To change this limit, set the config variable\n",
      "`--NotebookApp.iopub_msg_rate_limit`.\n",
      "\n",
      "Current values:\n",
      "NotebookApp.iopub_msg_rate_limit=1000.0 (msgs/sec)\n",
      "NotebookApp.rate_limit_window=3.0 (secs)\n",
      "\n",
      "IOPub message rate exceeded.\n",
      "The notebook server will temporarily stop sending output\n",
      "to the client in order to avoid crashing it.\n",
      "To change this limit, set the config variable\n",
      "`--NotebookApp.iopub_msg_rate_limit`.\n",
      "\n",
      "Current values:\n",
      "NotebookApp.iopub_msg_rate_limit=1000.0 (msgs/sec)\n",
      "NotebookApp.rate_limit_window=3.0 (secs)\n",
      "\n",
      "IOPub message rate exceeded.\n",
      "The notebook server will temporarily stop sending output\n",
      "to the client in order to avoid crashing it.\n",
      "To change this limit, set the config variable\n",
      "`--NotebookApp.iopub_msg_rate_limit`.\n",
      "\n",
      "Current values:\n",
      "NotebookApp.iopub_msg_rate_limit=1000.0 (msgs/sec)\n",
      "NotebookApp.rate_limit_window=3.0 (secs)\n",
      "\n",
      "IOPub message rate exceeded.\n",
      "The notebook server will temporarily stop sending output\n",
      "to the client in order to avoid crashing it.\n",
      "To change this limit, set the config variable\n",
      "`--NotebookApp.iopub_msg_rate_limit`.\n",
      "\n",
      "Current values:\n",
      "NotebookApp.iopub_msg_rate_limit=1000.0 (msgs/sec)\n",
      "NotebookApp.rate_limit_window=3.0 (secs)\n",
      "\n"
     ]
    }
   ],
   "source": [
    "trainer.train()"
   ]
  },
  {
   "cell_type": "code",
   "execution_count": 16,
   "id": "077a277c",
   "metadata": {},
   "outputs": [
    {
     "data": {
      "application/javascript": [
       "\n",
       "            setTimeout(function() {\n",
       "                var nbb_cell_id = 16;\n",
       "                var nbb_unformatted_code = \"model.save_pretrained(model_name)\";\n",
       "                var nbb_formatted_code = \"model.save_pretrained(model_name)\";\n",
       "                var nbb_cells = Jupyter.notebook.get_cells();\n",
       "                for (var i = 0; i < nbb_cells.length; ++i) {\n",
       "                    if (nbb_cells[i].input_prompt_number == nbb_cell_id) {\n",
       "                        if (nbb_cells[i].get_text() == nbb_unformatted_code) {\n",
       "                             nbb_cells[i].set_text(nbb_formatted_code);\n",
       "                        }\n",
       "                        break;\n",
       "                    }\n",
       "                }\n",
       "            }, 500);\n",
       "            "
      ],
      "text/plain": [
       "<IPython.core.display.Javascript object>"
      ]
     },
     "metadata": {},
     "output_type": "display_data"
    }
   ],
   "source": [
    "model.save_pretrained(model_name)"
   ]
  },
  {
   "cell_type": "code",
   "execution_count": 7,
   "id": "6bd470bf",
   "metadata": {},
   "outputs": [
    {
     "data": {
      "application/javascript": [
       "\n",
       "            setTimeout(function() {\n",
       "                var nbb_cell_id = 7;\n",
       "                var nbb_unformatted_code = \"model = EncoderDecoderModel.from_pretrained(model_name)\";\n",
       "                var nbb_formatted_code = \"model = EncoderDecoderModel.from_pretrained(model_name)\";\n",
       "                var nbb_cells = Jupyter.notebook.get_cells();\n",
       "                for (var i = 0; i < nbb_cells.length; ++i) {\n",
       "                    if (nbb_cells[i].input_prompt_number == nbb_cell_id) {\n",
       "                        if (nbb_cells[i].get_text() == nbb_unformatted_code) {\n",
       "                             nbb_cells[i].set_text(nbb_formatted_code);\n",
       "                        }\n",
       "                        break;\n",
       "                    }\n",
       "                }\n",
       "            }, 500);\n",
       "            "
      ],
      "text/plain": [
       "<IPython.core.display.Javascript object>"
      ]
     },
     "metadata": {},
     "output_type": "display_data"
    }
   ],
   "source": [
    "model = EncoderDecoderModel.from_pretrained(model_name)"
   ]
  },
  {
   "cell_type": "code",
   "execution_count": 17,
   "id": "b1228f63",
   "metadata": {},
   "outputs": [
    {
     "data": {
      "application/javascript": [
       "\n",
       "            setTimeout(function() {\n",
       "                var nbb_cell_id = 17;\n",
       "                var nbb_unformatted_code = \"def compute_metrics_test(model, collator, tokenizer, metric, batch, log=False):\\n    data = collator(dict(input_ids=batch[\\\"input_ids\\\"]))\\n\\n    preds = model.generate(\\n        data[\\\"input_ids\\\"].cuda(),\\n        attention_mask=data[\\\"attention_mask\\\"].cuda(),\\n    ).cpu()\\n    decoded_preds = tokenizer.batch_decode(preds, skip_special_tokens=True)\\n\\n    source = [s[s['source_lang']] for s in batch[\\\"translation\\\"]]\\n    decoded_labels = [s[s['target_lang']] for s in batch[\\\"translation\\\"]]\\n    decoded_preds, decoded_labels = postprocess_text(decoded_preds, decoded_labels)\\n\\n    metric.add_batch(references=decoded_labels, predictions=decoded_preds)\\n    if log:\\n        display(\\n            [\\n                dict(input=i, target=l, preds=p)\\n                for p, l, i in zip(decoded_preds, decoded_labels, source)\\n            ]\\n        )\";\n",
       "                var nbb_formatted_code = \"def compute_metrics_test(model, collator, tokenizer, metric, batch, log=False):\\n    data = collator(dict(input_ids=batch[\\\"input_ids\\\"]))\\n\\n    preds = model.generate(\\n        data[\\\"input_ids\\\"].cuda(),\\n        attention_mask=data[\\\"attention_mask\\\"].cuda(),\\n    ).cpu()\\n    decoded_preds = tokenizer.batch_decode(preds, skip_special_tokens=True)\\n\\n    source = [s[s[\\\"source_lang\\\"]] for s in batch[\\\"translation\\\"]]\\n    decoded_labels = [s[s[\\\"target_lang\\\"]] for s in batch[\\\"translation\\\"]]\\n    decoded_preds, decoded_labels = postprocess_text(decoded_preds, decoded_labels)\\n\\n    metric.add_batch(references=decoded_labels, predictions=decoded_preds)\\n    if log:\\n        display(\\n            [\\n                dict(input=i, target=l, preds=p)\\n                for p, l, i in zip(decoded_preds, decoded_labels, source)\\n            ]\\n        )\";\n",
       "                var nbb_cells = Jupyter.notebook.get_cells();\n",
       "                for (var i = 0; i < nbb_cells.length; ++i) {\n",
       "                    if (nbb_cells[i].input_prompt_number == nbb_cell_id) {\n",
       "                        if (nbb_cells[i].get_text() == nbb_unformatted_code) {\n",
       "                             nbb_cells[i].set_text(nbb_formatted_code);\n",
       "                        }\n",
       "                        break;\n",
       "                    }\n",
       "                }\n",
       "            }, 500);\n",
       "            "
      ],
      "text/plain": [
       "<IPython.core.display.Javascript object>"
      ]
     },
     "metadata": {},
     "output_type": "display_data"
    }
   ],
   "source": [
    "def compute_metrics_test(model, collator, tokenizer, metric, batch, log=False):\n",
    "    data = collator(dict(input_ids=batch[\"input_ids\"]))\n",
    "\n",
    "    preds = model.generate(\n",
    "        data[\"input_ids\"].cuda(),\n",
    "        attention_mask=data[\"attention_mask\"].cuda(),\n",
    "    ).cpu()\n",
    "    decoded_preds = tokenizer.batch_decode(preds, skip_special_tokens=True)\n",
    "\n",
    "    source = [s[s['source_lang']] for s in batch[\"translation\"]]\n",
    "    decoded_labels = [s[s['target_lang']] for s in batch[\"translation\"]]\n",
    "    decoded_preds, decoded_labels = postprocess_text(decoded_preds, decoded_labels)\n",
    "\n",
    "    metric.add_batch(references=decoded_labels, predictions=decoded_preds)\n",
    "    if log:\n",
    "        display(\n",
    "            [\n",
    "                dict(input=i, target=l, preds=p)\n",
    "                for p, l, i in zip(decoded_preds, decoded_labels, source)\n",
    "            ]\n",
    "        )\n"
   ]
  },
  {
   "cell_type": "code",
   "execution_count": 25,
   "id": "37c91bb6",
   "metadata": {},
   "outputs": [
    {
     "data": {
      "application/vnd.jupyter.widget-view+json": {
       "model_id": "",
       "version_major": 2,
       "version_minor": 0
      },
      "text/plain": [
       "Map:   0%|          | 0/4950 [00:00<?, ? examples/s]"
      ]
     },
     "metadata": {},
     "output_type": "display_data"
    },
    {
     "data": {
      "application/javascript": [
       "\n",
       "            setTimeout(function() {\n",
       "                var nbb_cell_id = 25;\n",
       "                var nbb_unformatted_code = \"ru_part_test = DatasetDict(dict(test=part2[\\\"test\\\"])).map(\\n    preprocess_function, batched=True, batch_size=batch_size\\n)\\nru_part_test.set_format(\\n    type=\\\"torch\\\",\\n    columns=[\\\"input_ids\\\", \\\"attention_mask\\\", \\\"labels\\\"],\\n)\";\n",
       "                var nbb_formatted_code = \"ru_part_test = DatasetDict(dict(test=part2[\\\"test\\\"])).map(\\n    preprocess_function, batched=True, batch_size=batch_size\\n)\\nru_part_test.set_format(\\n    type=\\\"torch\\\",\\n    columns=[\\\"input_ids\\\", \\\"attention_mask\\\", \\\"labels\\\"],\\n)\";\n",
       "                var nbb_cells = Jupyter.notebook.get_cells();\n",
       "                for (var i = 0; i < nbb_cells.length; ++i) {\n",
       "                    if (nbb_cells[i].input_prompt_number == nbb_cell_id) {\n",
       "                        if (nbb_cells[i].get_text() == nbb_unformatted_code) {\n",
       "                             nbb_cells[i].set_text(nbb_formatted_code);\n",
       "                        }\n",
       "                        break;\n",
       "                    }\n",
       "                }\n",
       "            }, 500);\n",
       "            "
      ],
      "text/plain": [
       "<IPython.core.display.Javascript object>"
      ]
     },
     "metadata": {},
     "output_type": "display_data"
    }
   ],
   "source": [
    "ru_part_test = DatasetDict(dict(test=part2[\"test\"])).map(\n",
    "    preprocess_function, batched=True, batch_size=batch_size\n",
    ")\n",
    "ru_part_test.set_format(\n",
    "    type=\"torch\",\n",
    "    columns=[\"input_ids\", \"attention_mask\", \"labels\"],\n",
    ")"
   ]
  },
  {
   "cell_type": "code",
   "execution_count": 26,
   "id": "7c9c1727",
   "metadata": {},
   "outputs": [
    {
     "data": {
      "application/vnd.jupyter.widget-view+json": {
       "model_id": "",
       "version_major": 2,
       "version_minor": 0
      },
      "text/plain": [
       "Map:   0%|          | 0/4950 [00:00<?, ? examples/s]"
      ]
     },
     "metadata": {},
     "output_type": "display_data"
    },
    {
     "data": {
      "application/javascript": [
       "\n",
       "            setTimeout(function() {\n",
       "                var nbb_cell_id = 26;\n",
       "                var nbb_unformatted_code = \"metric = evaluate.load(\\\"bleu\\\")\\nmodel.cuda()\\nmodel.eval()\\nwith torch.no_grad():\\n    ru_part_test[\\\"test\\\"].map(\\n        partial(\\n            compute_metrics_test,\\n            model,\\n            DataCollatorWithPadding(tokenizer),\\n            tokenizer,\\n            metric,\\n            log=False,\\n        ),\\n        batched=True,\\n        batch_size=batch_size,\\n    )\";\n",
       "                var nbb_formatted_code = \"metric = evaluate.load(\\\"bleu\\\")\\nmodel.cuda()\\nmodel.eval()\\nwith torch.no_grad():\\n    ru_part_test[\\\"test\\\"].map(\\n        partial(\\n            compute_metrics_test,\\n            model,\\n            DataCollatorWithPadding(tokenizer),\\n            tokenizer,\\n            metric,\\n            log=False,\\n        ),\\n        batched=True,\\n        batch_size=batch_size,\\n    )\";\n",
       "                var nbb_cells = Jupyter.notebook.get_cells();\n",
       "                for (var i = 0; i < nbb_cells.length; ++i) {\n",
       "                    if (nbb_cells[i].input_prompt_number == nbb_cell_id) {\n",
       "                        if (nbb_cells[i].get_text() == nbb_unformatted_code) {\n",
       "                             nbb_cells[i].set_text(nbb_formatted_code);\n",
       "                        }\n",
       "                        break;\n",
       "                    }\n",
       "                }\n",
       "            }, 500);\n",
       "            "
      ],
      "text/plain": [
       "<IPython.core.display.Javascript object>"
      ]
     },
     "metadata": {},
     "output_type": "display_data"
    }
   ],
   "source": [
    "metric = evaluate.load(\"bleu\")\n",
    "model.cuda()\n",
    "model.eval()\n",
    "with torch.no_grad():\n",
    "    ru_part_test[\"test\"].map(\n",
    "        partial(\n",
    "            compute_metrics_test,\n",
    "            model,\n",
    "            DataCollatorWithPadding(tokenizer),\n",
    "            tokenizer,\n",
    "            metric,\n",
    "            log=False,\n",
    "        ),\n",
    "        batched=True,\n",
    "        batch_size=batch_size,\n",
    "    )"
   ]
  },
  {
   "cell_type": "code",
   "execution_count": 28,
   "id": "02cdeb75",
   "metadata": {},
   "outputs": [
    {
     "data": {
      "text/plain": [
       "{'bleu': 0.29851986983150725,\n",
       " 'precisions': [0.5917859274680798,\n",
       "  0.3811287007546637,\n",
       "  0.27385306275196897,\n",
       "  0.19709493471032932],\n",
       " 'brevity_penalty': 0.8987024077003947,\n",
       " 'length_ratio': 0.9035028872841114,\n",
       " 'translation_length': 68687,\n",
       " 'reference_length': 76023}"
      ]
     },
     "execution_count": 28,
     "metadata": {},
     "output_type": "execute_result"
    },
    {
     "data": {
      "application/javascript": [
       "\n",
       "            setTimeout(function() {\n",
       "                var nbb_cell_id = 28;\n",
       "                var nbb_unformatted_code = \"metric.compute()\";\n",
       "                var nbb_formatted_code = \"metric.compute()\";\n",
       "                var nbb_cells = Jupyter.notebook.get_cells();\n",
       "                for (var i = 0; i < nbb_cells.length; ++i) {\n",
       "                    if (nbb_cells[i].input_prompt_number == nbb_cell_id) {\n",
       "                        if (nbb_cells[i].get_text() == nbb_unformatted_code) {\n",
       "                             nbb_cells[i].set_text(nbb_formatted_code);\n",
       "                        }\n",
       "                        break;\n",
       "                    }\n",
       "                }\n",
       "            }, 500);\n",
       "            "
      ],
      "text/plain": [
       "<IPython.core.display.Javascript object>"
      ]
     },
     "metadata": {},
     "output_type": "display_data"
    }
   ],
   "source": [
    "metric.compute()"
   ]
  },
  {
   "cell_type": "code",
   "execution_count": 20,
   "id": "996e4891",
   "metadata": {},
   "outputs": [
    {
     "data": {
      "application/vnd.jupyter.widget-view+json": {
       "model_id": "",
       "version_major": 2,
       "version_minor": 0
      },
      "text/plain": [
       "Map:   0%|          | 0/16 [00:00<?, ? examples/s]"
      ]
     },
     "metadata": {},
     "output_type": "display_data"
    },
    {
     "name": "stderr",
     "output_type": "stream",
     "text": [
      "C:\\tempjeka\\anaconda3\\lib\\site-packages\\transformers\\generation\\utils.py:1313: UserWarning: Using `max_length`'s default (512) to control the generation length. This behaviour is deprecated and will be removed from the config in v5 of Transformers -- we recommend using `max_new_tokens` to control the maximum length of the generation.\n",
      "  warnings.warn(\n"
     ]
    },
    {
     "data": {
      "text/plain": [
       "[{'input': 'Internet is free at the hotel.',\n",
       "  'target': ['В отеле предоставляется бесплатный доступ в интернет.'],\n",
       "  'preds': 'На территории отеля предоставляется бесплатный Wi-Fi.'},\n",
       " {'input': 'The property offers free parking.',\n",
       "  'target': ['В распоряжении гостей бесплатная парковка.'],\n",
       "  'preds': 'На территории обустроена бесплатная парковка.'},\n",
       " {'input': 'The property offers free parking.',\n",
       "  'target': ['Предоставляется бесплатная парковка.'],\n",
       "  'preds': 'На территории обустроена бесплатная парковка.'},\n",
       " {'input': 'Breakfast is served every morning.',\n",
       "  'target': ['Каждое утро для гостей сервируется завтрак.'],\n",
       "  'preds': 'Каждое утро для гостей сервируется завтрак.'}]"
      ]
     },
     "metadata": {},
     "output_type": "display_data"
    },
    {
     "data": {
      "text/plain": [
       "[{'input': 'The property offers free parking.',\n",
       "  'target': ['На территории обустроена бесплатная парковка.'],\n",
       "  'preds': 'На территории обустроена бесплатная парковка.'},\n",
       " {'input': 'Room service options are also available.',\n",
       "  'target': ['Кроме того, производится доставка еды и напитков в номер.'],\n",
       "  'preds': 'Гости могут воспользоваться услугами доставки еды и напитков в номер.'},\n",
       " {'input': 'The property offers free parking.',\n",
       "  'target': ['Гостям предоставляется место на бесплатной парковки.'],\n",
       "  'preds': 'На территории обустроена бесплатная парковка.'},\n",
       " {'input': 'The property offers free parking.',\n",
       "  'target': ['Места на парковке дома для отпуска предоставляются бесплатно.'],\n",
       "  'preds': 'На территории обустроена бесплатная парковка.'}]"
      ]
     },
     "metadata": {},
     "output_type": "display_data"
    },
    {
     "data": {
      "text/plain": [
       "[{'input': 'It features free Wi-Fi.',\n",
       "  'target': ['К услугам гостей бесплатный WiFi.'],\n",
       "  'preds': 'К услугам гостей бесплатный Wi-Fi.'},\n",
       " {'input': 'Barbecue facilities are also available.',\n",
       "  'target': ['Предоставляются принадлежности для барбекю.'],\n",
       "  'preds': 'В распоряжении гостей принадлежности для барбекю.'},\n",
       " {'input': 'On-site parking is free.',\n",
       "  'target': ['На территории отеля предоставляется бесплатная парковка.'],\n",
       "  'preds': 'На территории обустроена бесплатная парковка.'},\n",
       " {'input': 'Free secure parking is available.',\n",
       "  'target': ['Для гостей предусмотрена бесплатная охраняемая парковка.'],\n",
       "  'preds': 'На территории обустроена бесплатная охраняемая парковка.'}]"
      ]
     },
     "metadata": {},
     "output_type": "display_data"
    },
    {
     "data": {
      "text/plain": [
       "[{'input': 'It provides free private parking.',\n",
       "  'target': ['К услугам гостей бесплатная частная парковка.'],\n",
       "  'preds': 'К услугам гостей бесплатная частная парковка.'},\n",
       " {'input': 'The property offers free parking.',\n",
       "  'target': ['На территории виллы обустроена бесплатная парковка.'],\n",
       "  'preds': 'На территории обустроена бесплатная парковка.'},\n",
       " {'input': 'Some have a balcony.',\n",
       "  'target': ['Некоторые апартаменты оборудованы балконом.'],\n",
       "  'preds': 'В некоторых номерах есть балкон.'},\n",
       " {'input': 'The property offers free parking.',\n",
       "  'target': ['Гостям предоставляется бесплатная парковка.'],\n",
       "  'preds': 'На территории обустроена бесплатная парковка.'}]"
      ]
     },
     "metadata": {},
     "output_type": "display_data"
    },
    {
     "data": {
      "text/plain": [
       "{'bleu': 0.43901642391210577,\n",
       " 'precisions': [0.6132075471698113,\n",
       "  0.5,\n",
       "  0.40540540540540543,\n",
       "  0.3103448275862069],\n",
       " 'brevity_penalty': 0.9906103979507198,\n",
       " 'length_ratio': 0.9906542056074766,\n",
       " 'translation_length': 106,\n",
       " 'reference_length': 107}"
      ]
     },
     "execution_count": 20,
     "metadata": {},
     "output_type": "execute_result"
    },
    {
     "data": {
      "application/javascript": [
       "\n",
       "            setTimeout(function() {\n",
       "                var nbb_cell_id = 20;\n",
       "                var nbb_unformatted_code = \"metric = evaluate.load(\\\"bleu\\\")\\nmodel.cuda()\\nmodel.eval()\\n_idx = 100\\nwith torch.no_grad():\\n    dataset[\\\"test\\\"].select(range(_idx, _idx + 16)).map(\\n        partial(\\n            compute_metrics_test,\\n            model,\\n            DataCollatorWithPadding(tokenizer),\\n            tokenizer,\\n            metric,\\n            log=True,\\n        ),\\n        batched=True,\\n        batch_size=batch_size,\\n    )\\nmetric.compute()\";\n",
       "                var nbb_formatted_code = \"metric = evaluate.load(\\\"bleu\\\")\\nmodel.cuda()\\nmodel.eval()\\n_idx = 100\\nwith torch.no_grad():\\n    dataset[\\\"test\\\"].select(range(_idx, _idx + 16)).map(\\n        partial(\\n            compute_metrics_test,\\n            model,\\n            DataCollatorWithPadding(tokenizer),\\n            tokenizer,\\n            metric,\\n            log=True,\\n        ),\\n        batched=True,\\n        batch_size=batch_size,\\n    )\\nmetric.compute()\";\n",
       "                var nbb_cells = Jupyter.notebook.get_cells();\n",
       "                for (var i = 0; i < nbb_cells.length; ++i) {\n",
       "                    if (nbb_cells[i].input_prompt_number == nbb_cell_id) {\n",
       "                        if (nbb_cells[i].get_text() == nbb_unformatted_code) {\n",
       "                             nbb_cells[i].set_text(nbb_formatted_code);\n",
       "                        }\n",
       "                        break;\n",
       "                    }\n",
       "                }\n",
       "            }, 500);\n",
       "            "
      ],
      "text/plain": [
       "<IPython.core.display.Javascript object>"
      ]
     },
     "metadata": {},
     "output_type": "display_data"
    }
   ],
   "source": [
    "metric = evaluate.load(\"bleu\")\n",
    "model.cuda()\n",
    "model.eval()\n",
    "_idx = 100\n",
    "with torch.no_grad():\n",
    "    dataset[\"test\"].select(range(_idx, _idx + 16)).map(\n",
    "        partial(\n",
    "            compute_metrics_test,\n",
    "            model,\n",
    "            DataCollatorWithPadding(tokenizer),\n",
    "            tokenizer,\n",
    "            metric,\n",
    "            log=True,\n",
    "        ),\n",
    "        batched=True,\n",
    "        batch_size=batch_size,\n",
    "    )\n",
    "metric.compute()"
   ]
  },
  {
   "attachments": {
    "image-15.png": {
     "image/png": "[encoded data removed]"
    },
    "image-16.png": {
     "image/png": "[encoded data removed]"
    }
   },
   "cell_type": "markdown",
   "id": "676aa8e4",
   "metadata": {},
   "source": [
    "![image-15.png](attachment:image-15.png) ![image-16.png](attachment:image-16.png)"
   ]
  }
 ],
 "metadata": {
  "kernelspec": {
   "display_name": "Python 3 (ipykernel)",
   "language": "python",
   "name": "python3"
  },
  "language_info": {
   "codemirror_mode": {
    "name": "ipython",
    "version": 3
   },
   "file_extension": ".py",
   "mimetype": "text/x-python",
   "name": "python",
   "nbconvert_exporter": "python",
   "pygments_lexer": "ipython3",
   "version": "3.10.9"
  }
 },
 "nbformat": 4,
 "nbformat_minor": 5
}
