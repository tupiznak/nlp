{
 "cells": [
  {
   "cell_type": "code",
   "execution_count": 1,
   "id": "c7a27d0a",
   "metadata": {},
   "outputs": [
    {
     "data": {
      "application/javascript": [
       "\n",
       "            setTimeout(function() {\n",
       "                var nbb_cell_id = 1;\n",
       "                var nbb_unformatted_code = \"%load_ext nb_black\";\n",
       "                var nbb_formatted_code = \"%load_ext nb_black\";\n",
       "                var nbb_cells = Jupyter.notebook.get_cells();\n",
       "                for (var i = 0; i < nbb_cells.length; ++i) {\n",
       "                    if (nbb_cells[i].input_prompt_number == nbb_cell_id) {\n",
       "                        if (nbb_cells[i].get_text() == nbb_unformatted_code) {\n",
       "                             nbb_cells[i].set_text(nbb_formatted_code);\n",
       "                        }\n",
       "                        break;\n",
       "                    }\n",
       "                }\n",
       "            }, 500);\n",
       "            "
      ],
      "text/plain": [
       "<IPython.core.display.Javascript object>"
      ]
     },
     "metadata": {},
     "output_type": "display_data"
    }
   ],
   "source": [
    "%load_ext nb_black"
   ]
  },
  {
   "cell_type": "code",
   "execution_count": 2,
   "id": "e507e35b",
   "metadata": {},
   "outputs": [
    {
     "name": "stderr",
     "output_type": "stream",
     "text": [
      "Found cached dataset generator (C:/tempjeka/cache/huggingface/generator/default-f628ff2f2d994b84/0.0.0)\n",
      "Loading cached split indices for dataset at C:\\tempjeka\\cache\\huggingface\\generator\\default-f628ff2f2d994b84\\0.0.0\\cache-a84cfc0a0e11ed54.arrow and C:\\tempjeka\\cache\\huggingface\\generator\\default-f628ff2f2d994b84\\0.0.0\\cache-665145fe0a5a6a51.arrow\n",
      "Loading cached split indices for dataset at C:\\tempjeka\\cache\\huggingface\\generator\\default-f628ff2f2d994b84\\0.0.0\\cache-e104a2bffe25c7fa.arrow and C:\\tempjeka\\cache\\huggingface\\generator\\default-f628ff2f2d994b84\\0.0.0\\cache-4096519e2393e19f.arrow\n"
     ]
    },
    {
     "data": {
      "application/javascript": [
       "\n",
       "            setTimeout(function() {\n",
       "                var nbb_cell_id = 2;\n",
       "                var nbb_unformatted_code = \"from src.env import *\\nfrom src.imports import *\\nfrom src.config import *\\nfrom src.dataset import *\\nfrom src.metric import *\";\n",
       "                var nbb_formatted_code = \"from src.env import *\\nfrom src.imports import *\\nfrom src.config import *\\nfrom src.dataset import *\\nfrom src.metric import *\";\n",
       "                var nbb_cells = Jupyter.notebook.get_cells();\n",
       "                for (var i = 0; i < nbb_cells.length; ++i) {\n",
       "                    if (nbb_cells[i].input_prompt_number == nbb_cell_id) {\n",
       "                        if (nbb_cells[i].get_text() == nbb_unformatted_code) {\n",
       "                             nbb_cells[i].set_text(nbb_formatted_code);\n",
       "                        }\n",
       "                        break;\n",
       "                    }\n",
       "                }\n",
       "            }, 500);\n",
       "            "
      ],
      "text/plain": [
       "<IPython.core.display.Javascript object>"
      ]
     },
     "metadata": {},
     "output_type": "display_data"
    }
   ],
   "source": [
    "from src.env import *\n",
    "from src.imports import *\n",
    "from src.config import *\n",
    "from src.dataset import *\n",
    "from src.metric import *"
   ]
  },
  {
   "cell_type": "code",
   "execution_count": 3,
   "id": "83d3db35",
   "metadata": {},
   "outputs": [
    {
     "data": {
      "application/javascript": [
       "\n",
       "            setTimeout(function() {\n",
       "                var nbb_cell_id = 3;\n",
       "                var nbb_unformatted_code = \"enc_name = \\\"bert-base-multilingual-cased\\\"\\ndec_name = \\\"ai-forever/rugpt3small_based_on_gpt2\\\"\\n# dec_name = \\\"bert-base-multilingual-cased\\\"\\nmodel_name = \\\"bert2gpt\\\"\";\n",
       "                var nbb_formatted_code = \"enc_name = \\\"bert-base-multilingual-cased\\\"\\ndec_name = \\\"ai-forever/rugpt3small_based_on_gpt2\\\"\\n# dec_name = \\\"bert-base-multilingual-cased\\\"\\nmodel_name = \\\"bert2gpt\\\"\";\n",
       "                var nbb_cells = Jupyter.notebook.get_cells();\n",
       "                for (var i = 0; i < nbb_cells.length; ++i) {\n",
       "                    if (nbb_cells[i].input_prompt_number == nbb_cell_id) {\n",
       "                        if (nbb_cells[i].get_text() == nbb_unformatted_code) {\n",
       "                             nbb_cells[i].set_text(nbb_formatted_code);\n",
       "                        }\n",
       "                        break;\n",
       "                    }\n",
       "                }\n",
       "            }, 500);\n",
       "            "
      ],
      "text/plain": [
       "<IPython.core.display.Javascript object>"
      ]
     },
     "metadata": {},
     "output_type": "display_data"
    }
   ],
   "source": [
    "enc_name = \"bert-base-multilingual-cased\"\n",
    "dec_name = \"ai-forever/rugpt3small_based_on_gpt2\"\n",
    "# dec_name = \"bert-base-multilingual-cased\"\n",
    "model_name = \"bert2gpt\""
   ]
  },
  {
   "cell_type": "code",
   "execution_count": 4,
   "id": "56ccf276",
   "metadata": {},
   "outputs": [
    {
     "data": {
      "application/javascript": [
       "\n",
       "            setTimeout(function() {\n",
       "                var nbb_cell_id = 4;\n",
       "                var nbb_unformatted_code = \"enc_tokenizer = AutoTokenizer.from_pretrained(enc_name)\\nenc_tokenizer.bos_token = enc_tokenizer.cls_token\\nenc_tokenizer.eos_token = enc_tokenizer.sep_token\";\n",
       "                var nbb_formatted_code = \"enc_tokenizer = AutoTokenizer.from_pretrained(enc_name)\\nenc_tokenizer.bos_token = enc_tokenizer.cls_token\\nenc_tokenizer.eos_token = enc_tokenizer.sep_token\";\n",
       "                var nbb_cells = Jupyter.notebook.get_cells();\n",
       "                for (var i = 0; i < nbb_cells.length; ++i) {\n",
       "                    if (nbb_cells[i].input_prompt_number == nbb_cell_id) {\n",
       "                        if (nbb_cells[i].get_text() == nbb_unformatted_code) {\n",
       "                             nbb_cells[i].set_text(nbb_formatted_code);\n",
       "                        }\n",
       "                        break;\n",
       "                    }\n",
       "                }\n",
       "            }, 500);\n",
       "            "
      ],
      "text/plain": [
       "<IPython.core.display.Javascript object>"
      ]
     },
     "metadata": {},
     "output_type": "display_data"
    }
   ],
   "source": [
    "enc_tokenizer = AutoTokenizer.from_pretrained(enc_name)\n",
    "enc_tokenizer.bos_token = enc_tokenizer.cls_token\n",
    "enc_tokenizer.eos_token = enc_tokenizer.sep_token"
   ]
  },
  {
   "cell_type": "code",
   "execution_count": 5,
   "id": "a088a0ee",
   "metadata": {},
   "outputs": [
    {
     "name": "stderr",
     "output_type": "stream",
     "text": [
      "Special tokens have been added in the vocabulary, make sure the associated word embeddings are fine-tuned or trained.\n"
     ]
    },
    {
     "data": {
      "text/plain": [
       "1"
      ]
     },
     "execution_count": 5,
     "metadata": {},
     "output_type": "execute_result"
    },
    {
     "data": {
      "application/javascript": [
       "\n",
       "            setTimeout(function() {\n",
       "                var nbb_cell_id = 5;\n",
       "                var nbb_unformatted_code = \"from transformers import GPT2TokenizerFast\\n\\ndec_tokenizer = GPT2TokenizerFast.from_pretrained(dec_name)\\n# dec_tokenizer.pad_token = dec_tokenizer.unk_token\\ndec_tokenizer.add_special_tokens({\\\"pad_token\\\": enc_tokenizer.pad_token})\\n\\n# dec_tokenizer.bos_token = enc_tokenizer.cls_token\\n# dec_tokenizer.eos_token = enc_tokenizer.sep_token\";\n",
       "                var nbb_formatted_code = \"from transformers import GPT2TokenizerFast\\n\\ndec_tokenizer = GPT2TokenizerFast.from_pretrained(dec_name)\\n# dec_tokenizer.pad_token = dec_tokenizer.unk_token\\ndec_tokenizer.add_special_tokens({\\\"pad_token\\\": enc_tokenizer.pad_token})\\n\\n# dec_tokenizer.bos_token = enc_tokenizer.cls_token\\n# dec_tokenizer.eos_token = enc_tokenizer.sep_token\";\n",
       "                var nbb_cells = Jupyter.notebook.get_cells();\n",
       "                for (var i = 0; i < nbb_cells.length; ++i) {\n",
       "                    if (nbb_cells[i].input_prompt_number == nbb_cell_id) {\n",
       "                        if (nbb_cells[i].get_text() == nbb_unformatted_code) {\n",
       "                             nbb_cells[i].set_text(nbb_formatted_code);\n",
       "                        }\n",
       "                        break;\n",
       "                    }\n",
       "                }\n",
       "            }, 500);\n",
       "            "
      ],
      "text/plain": [
       "<IPython.core.display.Javascript object>"
      ]
     },
     "metadata": {},
     "output_type": "display_data"
    }
   ],
   "source": [
    "from transformers import GPT2TokenizerFast\n",
    "\n",
    "dec_tokenizer = GPT2TokenizerFast.from_pretrained(dec_name)\n",
    "# dec_tokenizer.pad_token = dec_tokenizer.unk_token\n",
    "dec_tokenizer.add_special_tokens({\"pad_token\": enc_tokenizer.pad_token})\n",
    "\n",
    "# dec_tokenizer.bos_token = enc_tokenizer.cls_token\n",
    "# dec_tokenizer.eos_token = enc_tokenizer.sep_token"
   ]
  },
  {
   "cell_type": "code",
   "execution_count": 6,
   "id": "1bbc611e",
   "metadata": {},
   "outputs": [
    {
     "name": "stderr",
     "output_type": "stream",
     "text": [
      "Loading cached processed dataset at C:\\tempjeka\\cache\\huggingface\\generator\\default-f628ff2f2d994b84\\0.0.0\\cache-d63b730755503f10.arrow\n",
      "Loading cached processed dataset at C:\\tempjeka\\cache\\huggingface\\generator\\default-f628ff2f2d994b84\\0.0.0\\cache-c48910358007480a.arrow\n",
      "Loading cached processed dataset at C:\\tempjeka\\cache\\huggingface\\generator\\default-f628ff2f2d994b84\\0.0.0\\cache-1e3123ae84f08796.arrow\n"
     ]
    },
    {
     "data": {
      "application/javascript": [
       "\n",
       "            setTimeout(function() {\n",
       "                var nbb_cell_id = 6;\n",
       "                var nbb_unformatted_code = \"dataset = create_dataset(enc_tokenizer, dec_tokenizer)\";\n",
       "                var nbb_formatted_code = \"dataset = create_dataset(enc_tokenizer, dec_tokenizer)\";\n",
       "                var nbb_cells = Jupyter.notebook.get_cells();\n",
       "                for (var i = 0; i < nbb_cells.length; ++i) {\n",
       "                    if (nbb_cells[i].input_prompt_number == nbb_cell_id) {\n",
       "                        if (nbb_cells[i].get_text() == nbb_unformatted_code) {\n",
       "                             nbb_cells[i].set_text(nbb_formatted_code);\n",
       "                        }\n",
       "                        break;\n",
       "                    }\n",
       "                }\n",
       "            }, 500);\n",
       "            "
      ],
      "text/plain": [
       "<IPython.core.display.Javascript object>"
      ]
     },
     "metadata": {},
     "output_type": "display_data"
    }
   ],
   "source": [
    "dataset = create_dataset(enc_tokenizer, dec_tokenizer)"
   ]
  },
  {
   "cell_type": "code",
   "execution_count": 7,
   "id": "c222954f",
   "metadata": {},
   "outputs": [
    {
     "name": "stderr",
     "output_type": "stream",
     "text": [
      "Some weights of the model checkpoint at bert-base-multilingual-cased were not used when initializing BertModel: ['cls.predictions.transform.dense.weight', 'cls.seq_relationship.weight', 'cls.predictions.bias', 'cls.predictions.transform.LayerNorm.bias', 'cls.predictions.transform.dense.bias', 'cls.predictions.transform.LayerNorm.weight', 'cls.seq_relationship.bias', 'cls.predictions.decoder.weight']\n",
      "- This IS expected if you are initializing BertModel from the checkpoint of a model trained on another task or with another architecture (e.g. initializing a BertForSequenceClassification model from a BertForPreTraining model).\n",
      "- This IS NOT expected if you are initializing BertModel from the checkpoint of a model that you expect to be exactly identical (initializing a BertForSequenceClassification model from a BertForSequenceClassification model).\n",
      "Some weights of GPT2LMHeadModel were not initialized from the model checkpoint at ai-forever/rugpt3small_based_on_gpt2 and are newly initialized: ['transformer.h.6.ln_cross_attn.weight', 'transformer.h.7.crossattention.c_proj.bias', 'transformer.h.1.ln_cross_attn.weight', 'transformer.h.7.ln_cross_attn.weight', 'transformer.h.0.crossattention.c_proj.weight', 'transformer.h.3.crossattention.c_proj.bias', 'transformer.h.11.crossattention.masked_bias', 'transformer.h.2.ln_cross_attn.weight', 'transformer.h.8.crossattention.masked_bias', 'transformer.h.1.crossattention.bias', 'transformer.h.2.crossattention.c_proj.bias', 'transformer.h.9.crossattention.c_proj.weight', 'transformer.h.4.crossattention.masked_bias', 'transformer.h.8.ln_cross_attn.weight', 'transformer.h.10.crossattention.c_proj.weight', 'transformer.h.10.crossattention.c_attn.weight', 'transformer.h.9.ln_cross_attn.weight', 'transformer.h.0.crossattention.c_attn.weight', 'transformer.h.9.crossattention.masked_bias', 'transformer.h.0.crossattention.bias', 'transformer.h.8.crossattention.c_attn.weight', 'transformer.h.2.crossattention.c_proj.weight', 'transformer.h.7.crossattention.c_proj.weight', 'transformer.h.3.crossattention.bias', 'transformer.h.7.crossattention.bias', 'transformer.h.5.crossattention.q_attn.weight', 'transformer.h.10.ln_cross_attn.weight', 'transformer.h.1.crossattention.c_attn.weight', 'transformer.h.5.crossattention.c_proj.weight', 'transformer.h.10.crossattention.bias', 'transformer.h.3.crossattention.c_proj.weight', 'transformer.h.11.crossattention.bias', 'transformer.h.4.ln_cross_attn.weight', 'transformer.h.8.crossattention.q_attn.weight', 'transformer.h.10.crossattention.masked_bias', 'transformer.h.2.crossattention.bias', 'transformer.h.3.crossattention.q_attn.weight', 'transformer.h.9.crossattention.q_attn.weight', 'transformer.h.6.crossattention.q_attn.weight', 'transformer.h.0.ln_cross_attn.weight', 'transformer.h.6.crossattention.c_proj.weight', 'transformer.h.11.crossattention.q_attn.weight', 'transformer.h.5.ln_cross_attn.weight', 'transformer.h.5.crossattention.c_proj.bias', 'transformer.h.5.crossattention.masked_bias', 'transformer.h.8.crossattention.c_proj.bias', 'transformer.h.0.crossattention.q_attn.weight', 'transformer.h.3.crossattention.c_attn.weight', 'transformer.h.7.crossattention.masked_bias', 'transformer.h.0.crossattention.masked_bias', 'transformer.h.7.crossattention.q_attn.weight', 'transformer.h.6.crossattention.c_attn.weight', 'transformer.h.4.crossattention.bias', 'transformer.h.5.crossattention.bias', 'transformer.h.4.crossattention.c_attn.weight', 'transformer.h.4.crossattention.c_proj.weight', 'transformer.h.6.crossattention.masked_bias', 'transformer.h.5.crossattention.c_attn.weight', 'transformer.h.8.crossattention.c_proj.weight', 'transformer.h.3.crossattention.masked_bias', 'transformer.h.9.crossattention.bias', 'transformer.h.10.crossattention.c_proj.bias', 'transformer.h.1.crossattention.c_proj.weight', 'transformer.h.3.ln_cross_attn.weight', 'transformer.h.10.crossattention.q_attn.weight', 'transformer.h.11.crossattention.c_attn.weight', 'transformer.h.1.crossattention.c_proj.bias', 'transformer.h.11.crossattention.c_proj.weight', 'transformer.h.11.crossattention.c_proj.bias', 'transformer.h.6.crossattention.c_proj.bias', 'transformer.h.1.crossattention.q_attn.weight', 'transformer.h.0.crossattention.c_proj.bias', 'transformer.h.1.crossattention.masked_bias', 'transformer.h.2.crossattention.c_attn.weight', 'transformer.h.9.crossattention.c_attn.weight', 'transformer.h.9.crossattention.c_proj.bias', 'transformer.h.4.crossattention.q_attn.weight', 'transformer.h.2.crossattention.masked_bias', 'transformer.h.8.crossattention.bias', 'transformer.h.11.ln_cross_attn.weight', 'transformer.h.6.crossattention.bias', 'transformer.h.7.crossattention.c_attn.weight', 'transformer.h.2.crossattention.q_attn.weight', 'transformer.h.4.crossattention.c_proj.bias']\n",
      "You should probably TRAIN this model on a down-stream task to be able to use it for predictions and inference.\n"
     ]
    },
    {
     "data": {
      "application/javascript": [
       "\n",
       "            setTimeout(function() {\n",
       "                var nbb_cell_id = 7;\n",
       "                var nbb_unformatted_code = \"model = EncoderDecoderModel.from_encoder_decoder_pretrained(enc_name, dec_name)\";\n",
       "                var nbb_formatted_code = \"model = EncoderDecoderModel.from_encoder_decoder_pretrained(enc_name, dec_name)\";\n",
       "                var nbb_cells = Jupyter.notebook.get_cells();\n",
       "                for (var i = 0; i < nbb_cells.length; ++i) {\n",
       "                    if (nbb_cells[i].input_prompt_number == nbb_cell_id) {\n",
       "                        if (nbb_cells[i].get_text() == nbb_unformatted_code) {\n",
       "                             nbb_cells[i].set_text(nbb_formatted_code);\n",
       "                        }\n",
       "                        break;\n",
       "                    }\n",
       "                }\n",
       "            }, 500);\n",
       "            "
      ],
      "text/plain": [
       "<IPython.core.display.Javascript object>"
      ]
     },
     "metadata": {},
     "output_type": "display_data"
    }
   ],
   "source": [
    "model = EncoderDecoderModel.from_encoder_decoder_pretrained(enc_name, dec_name)"
   ]
  },
  {
   "cell_type": "code",
   "execution_count": 8,
   "id": "478ee05e",
   "metadata": {},
   "outputs": [
    {
     "data": {
      "application/javascript": [
       "\n",
       "            setTimeout(function() {\n",
       "                var nbb_cell_id = 8;\n",
       "                var nbb_unformatted_code = \"model.config.decoder_start_token_id = dec_tokenizer.bos_token_id\\nmodel.config.pad_token_id = enc_tokenizer.pad_token_id\\n\\n\\n# model.config.decoder.eos_token_id = dec_tokenizer.eos_token_id\\n# model.config.decoder.bos_token_id = dec_tokenizer.bos_token_id\\n# model.config.vocab_size = model.config.decoder.vocab_size\\n\\n# model.config.pad_token_id = model.config.decoder.eos_token_id\\n# # model.config.pad_token_id = dec_tokenizer.pad_token_id\\n\\n# model.config.max_length = 142\\n# model.config.min_length = 10\\n# model.config.no_repeat_ngram_size = 3\\n# model.config.early_stopping = True\\n# model.config.num_beams = 4\\n\\n# model.decoder.config.use_cache = False\\n# model.config\";\n",
       "                var nbb_formatted_code = \"model.config.decoder_start_token_id = dec_tokenizer.bos_token_id\\nmodel.config.pad_token_id = enc_tokenizer.pad_token_id\\n\\n\\n# model.config.decoder.eos_token_id = dec_tokenizer.eos_token_id\\n# model.config.decoder.bos_token_id = dec_tokenizer.bos_token_id\\n# model.config.vocab_size = model.config.decoder.vocab_size\\n\\n# model.config.pad_token_id = model.config.decoder.eos_token_id\\n# # model.config.pad_token_id = dec_tokenizer.pad_token_id\\n\\n# model.config.max_length = 142\\n# model.config.min_length = 10\\n# model.config.no_repeat_ngram_size = 3\\n# model.config.early_stopping = True\\n# model.config.num_beams = 4\\n\\n# model.decoder.config.use_cache = False\\n# model.config\";\n",
       "                var nbb_cells = Jupyter.notebook.get_cells();\n",
       "                for (var i = 0; i < nbb_cells.length; ++i) {\n",
       "                    if (nbb_cells[i].input_prompt_number == nbb_cell_id) {\n",
       "                        if (nbb_cells[i].get_text() == nbb_unformatted_code) {\n",
       "                             nbb_cells[i].set_text(nbb_formatted_code);\n",
       "                        }\n",
       "                        break;\n",
       "                    }\n",
       "                }\n",
       "            }, 500);\n",
       "            "
      ],
      "text/plain": [
       "<IPython.core.display.Javascript object>"
      ]
     },
     "metadata": {},
     "output_type": "display_data"
    }
   ],
   "source": [
    "model.config.decoder_start_token_id = dec_tokenizer.bos_token_id\n",
    "model.config.pad_token_id = enc_tokenizer.pad_token_id\n",
    "\n",
    "\n",
    "# model.config.decoder.eos_token_id = dec_tokenizer.eos_token_id\n",
    "# model.config.decoder.bos_token_id = dec_tokenizer.bos_token_id\n",
    "# model.config.vocab_size = model.config.decoder.vocab_size\n",
    "\n",
    "# model.config.pad_token_id = model.config.decoder.eos_token_id\n",
    "# # model.config.pad_token_id = dec_tokenizer.pad_token_id\n",
    "\n",
    "# model.config.max_length = 142\n",
    "# model.config.min_length = 10\n",
    "# model.config.no_repeat_ngram_size = 3\n",
    "# model.config.early_stopping = True\n",
    "# model.config.num_beams = 4\n",
    "\n",
    "# model.decoder.config.use_cache = False\n",
    "# model.config"
   ]
  },
  {
   "cell_type": "code",
   "execution_count": 9,
   "id": "5ce6805a",
   "metadata": {},
   "outputs": [
    {
     "data": {
      "application/javascript": [
       "\n",
       "            setTimeout(function() {\n",
       "                var nbb_cell_id = 9;\n",
       "                var nbb_unformatted_code = \"version = 33\";\n",
       "                var nbb_formatted_code = \"version = 33\";\n",
       "                var nbb_cells = Jupyter.notebook.get_cells();\n",
       "                for (var i = 0; i < nbb_cells.length; ++i) {\n",
       "                    if (nbb_cells[i].input_prompt_number == nbb_cell_id) {\n",
       "                        if (nbb_cells[i].get_text() == nbb_unformatted_code) {\n",
       "                             nbb_cells[i].set_text(nbb_formatted_code);\n",
       "                        }\n",
       "                        break;\n",
       "                    }\n",
       "                }\n",
       "            }, 500);\n",
       "            "
      ],
      "text/plain": [
       "<IPython.core.display.Javascript object>"
      ]
     },
     "metadata": {},
     "output_type": "display_data"
    }
   ],
   "source": [
    "version = 33"
   ]
  },
  {
   "cell_type": "code",
   "execution_count": 13,
   "id": "6adb2d8a",
   "metadata": {},
   "outputs": [
    {
     "data": {
      "application/javascript": [
       "\n",
       "            setTimeout(function() {\n",
       "                var nbb_cell_id = 13;\n",
       "                var nbb_unformatted_code = \"version += 1\\nargs = Seq2SeqTrainingArguments(\\n    output_dir=Path(\\\"models\\\") / model_name,\\n    evaluation_strategy=\\\"steps\\\",\\n    learning_rate=5e-5,\\n    lr_scheduler_type=\\\"constant_with_warmup\\\",\\n    per_device_train_batch_size=batch_size,\\n    per_device_eval_batch_size=batch_size,\\n    save_total_limit=1,\\n    num_train_epochs=2,\\n    predict_with_generate=True,\\n    warmup_steps=1000,\\n    fp16=True,\\n    logging_dir=f\\\"../made/logs/lightning_logs/{model_name}/{version}\\\",\\n    logging_first_step=False,\\n    eval_steps=1000,\\n#     logging_steps=50,\\n    overwrite_output_dir=True,\\n    #     no_cuda=True,\\n)\";\n",
       "                var nbb_formatted_code = \"version += 1\\nargs = Seq2SeqTrainingArguments(\\n    output_dir=Path(\\\"models\\\") / model_name,\\n    evaluation_strategy=\\\"steps\\\",\\n    learning_rate=5e-5,\\n    lr_scheduler_type=\\\"constant_with_warmup\\\",\\n    per_device_train_batch_size=batch_size,\\n    per_device_eval_batch_size=batch_size,\\n    save_total_limit=1,\\n    num_train_epochs=2,\\n    predict_with_generate=True,\\n    warmup_steps=1000,\\n    fp16=True,\\n    logging_dir=f\\\"../made/logs/lightning_logs/{model_name}/{version}\\\",\\n    logging_first_step=False,\\n    eval_steps=1000,\\n    #     logging_steps=50,\\n    overwrite_output_dir=True,\\n    #     no_cuda=True,\\n)\";\n",
       "                var nbb_cells = Jupyter.notebook.get_cells();\n",
       "                for (var i = 0; i < nbb_cells.length; ++i) {\n",
       "                    if (nbb_cells[i].input_prompt_number == nbb_cell_id) {\n",
       "                        if (nbb_cells[i].get_text() == nbb_unformatted_code) {\n",
       "                             nbb_cells[i].set_text(nbb_formatted_code);\n",
       "                        }\n",
       "                        break;\n",
       "                    }\n",
       "                }\n",
       "            }, 500);\n",
       "            "
      ],
      "text/plain": [
       "<IPython.core.display.Javascript object>"
      ]
     },
     "metadata": {},
     "output_type": "display_data"
    }
   ],
   "source": [
    "version += 1\n",
    "args = Seq2SeqTrainingArguments(\n",
    "    output_dir=Path(\"models\") / model_name,\n",
    "    evaluation_strategy=\"steps\",\n",
    "    learning_rate=5e-5,\n",
    "    lr_scheduler_type=\"constant_with_warmup\",\n",
    "    per_device_train_batch_size=batch_size,\n",
    "    per_device_eval_batch_size=batch_size,\n",
    "    save_total_limit=1,\n",
    "    num_train_epochs=2,\n",
    "    predict_with_generate=True,\n",
    "    warmup_steps=1000,\n",
    "    fp16=True,\n",
    "    logging_dir=f\"../made/logs/lightning_logs/{model_name}/{version}\",\n",
    "    logging_first_step=False,\n",
    "    eval_steps=1000,\n",
    "    #     logging_steps=50,\n",
    "    overwrite_output_dir=True,\n",
    "    #     no_cuda=True,\n",
    ")"
   ]
  },
  {
   "cell_type": "code",
   "execution_count": 14,
   "id": "0e21ee29",
   "metadata": {},
   "outputs": [
    {
     "data": {
      "application/javascript": [
       "\n",
       "            setTimeout(function() {\n",
       "                var nbb_cell_id = 14;\n",
       "                var nbb_unformatted_code = \"trainer = Seq2SeqTrainer(\\n    model=model,\\n    args=args,\\n    compute_metrics=partial(compute_metrics, dec_tokenizer, metric),\\n    train_dataset=dataset[\\\"train\\\"],\\n    eval_dataset=dataset[\\\"val\\\"],\\n    #     data_collator=data_collator,\\n)\";\n",
       "                var nbb_formatted_code = \"trainer = Seq2SeqTrainer(\\n    model=model,\\n    args=args,\\n    compute_metrics=partial(compute_metrics, dec_tokenizer, metric),\\n    train_dataset=dataset[\\\"train\\\"],\\n    eval_dataset=dataset[\\\"val\\\"],\\n    #     data_collator=data_collator,\\n)\";\n",
       "                var nbb_cells = Jupyter.notebook.get_cells();\n",
       "                for (var i = 0; i < nbb_cells.length; ++i) {\n",
       "                    if (nbb_cells[i].input_prompt_number == nbb_cell_id) {\n",
       "                        if (nbb_cells[i].get_text() == nbb_unformatted_code) {\n",
       "                             nbb_cells[i].set_text(nbb_formatted_code);\n",
       "                        }\n",
       "                        break;\n",
       "                    }\n",
       "                }\n",
       "            }, 500);\n",
       "            "
      ],
      "text/plain": [
       "<IPython.core.display.Javascript object>"
      ]
     },
     "metadata": {},
     "output_type": "display_data"
    }
   ],
   "source": [
    "trainer = Seq2SeqTrainer(\n",
    "    model=model,\n",
    "    args=args,\n",
    "    compute_metrics=partial(compute_metrics, dec_tokenizer, metric),\n",
    "    train_dataset=dataset[\"train\"],\n",
    "    eval_dataset=dataset[\"val\"],\n",
    ")"
   ]
  },
  {
   "cell_type": "code",
   "execution_count": null,
   "id": "520bc29c",
   "metadata": {
    "scrolled": false
   },
   "outputs": [
    {
     "data": {
      "text/html": [
       "\n",
       "    <div>\n",
       "      \n",
       "      <progress value='10060' max='22500' style='width:300px; height:20px; vertical-align: middle;'></progress>\n",
       "      [10060/22500 51:06 < 1:03:12, 3.28 it/s, Epoch 0.89/2]\n",
       "    </div>\n",
       "    <table border=\"1\" class=\"dataframe\">\n",
       "  <thead>\n",
       " <tr style=\"text-align: left;\">\n",
       "      <th>Step</th>\n",
       "      <th>Training Loss</th>\n",
       "      <th>Validation Loss</th>\n",
       "      <th>Bleu</th>\n",
       "      <th>Gen Len</th>\n",
       "    </tr>\n",
       "  </thead>\n",
       "  <tbody>\n",
       "    <tr>\n",
       "      <td>1000</td>\n",
       "      <td>2.501600</td>\n",
       "      <td>2.204114</td>\n",
       "      <td>0.063267</td>\n",
       "      <td>97.320000</td>\n",
       "    </tr>\n",
       "    <tr>\n",
       "      <td>2000</td>\n",
       "      <td>2.342500</td>\n",
       "      <td>2.017530</td>\n",
       "      <td>0.076315</td>\n",
       "      <td>85.500000</td>\n",
       "    </tr>\n",
       "    <tr>\n",
       "      <td>3000</td>\n",
       "      <td>2.170400</td>\n",
       "      <td>1.903235</td>\n",
       "      <td>0.083174</td>\n",
       "      <td>83.100000</td>\n",
       "    </tr>\n",
       "    <tr>\n",
       "      <td>4000</td>\n",
       "      <td>2.016500</td>\n",
       "      <td>1.737057</td>\n",
       "      <td>0.103441</td>\n",
       "      <td>85.920000</td>\n",
       "    </tr>\n",
       "    <tr>\n",
       "      <td>5000</td>\n",
       "      <td>1.952000</td>\n",
       "      <td>1.678776</td>\n",
       "      <td>0.100255</td>\n",
       "      <td>80.680000</td>\n",
       "    </tr>\n",
       "    <tr>\n",
       "      <td>6000</td>\n",
       "      <td>1.907400</td>\n",
       "      <td>1.595508</td>\n",
       "      <td>0.122554</td>\n",
       "      <td>87.140000</td>\n",
       "    </tr>\n",
       "    <tr>\n",
       "      <td>7000</td>\n",
       "      <td>1.790200</td>\n",
       "      <td>1.510009</td>\n",
       "      <td>0.150492</td>\n",
       "      <td>87.700000</td>\n",
       "    </tr>\n",
       "    <tr>\n",
       "      <td>8000</td>\n",
       "      <td>1.732600</td>\n",
       "      <td>1.430141</td>\n",
       "      <td>0.137846</td>\n",
       "      <td>87.240000</td>\n",
       "    </tr>\n",
       "    <tr>\n",
       "      <td>9000</td>\n",
       "      <td>1.651100</td>\n",
       "      <td>1.347128</td>\n",
       "      <td>0.180037</td>\n",
       "      <td>86.460000</td>\n",
       "    </tr>\n",
       "    <tr>\n",
       "      <td>10000</td>\n",
       "      <td>1.572400</td>\n",
       "      <td>1.261100</td>\n",
       "      <td>0.178581</td>\n",
       "      <td>87.720000</td>\n",
       "    </tr>\n",
       "  </tbody>\n",
       "</table><p>"
      ],
      "text/plain": [
       "<IPython.core.display.HTML object>"
      ]
     },
     "metadata": {},
     "output_type": "display_data"
    },
    {
     "name": "stderr",
     "output_type": "stream",
     "text": [
      "C:\\tempjeka\\anaconda3\\lib\\site-packages\\transformers\\models\\encoder_decoder\\modeling_encoder_decoder.py:634: FutureWarning: Version v4.12.0 introduces a better way to train encoder-decoder models by computing the loss inside the encoder-decoder framework rather than in the decoder itself. You may observe training discrepancies if fine-tuning a model trained with versions anterior to 4.12.0. The decoder_input_ids are now created based on the labels, no need to pass them yourself anymore.\n",
      "  warnings.warn(DEPRECATION_WARNING, FutureWarning)\n",
      "C:\\tempjeka\\anaconda3\\lib\\site-packages\\transformers\\generation\\utils.py:1219: UserWarning: You have modified the pretrained model configuration to control generation. This is a deprecated strategy to control generation and will be removed soon, in a future version. Please use a generation configuration file (see https://huggingface.co/docs/transformers/main_classes/text_generation)\n",
      "  warnings.warn(\n",
      "C:\\tempjeka\\anaconda3\\lib\\site-packages\\transformers\\models\\encoder_decoder\\modeling_encoder_decoder.py:634: FutureWarning: Version v4.12.0 introduces a better way to train encoder-decoder models by computing the loss inside the encoder-decoder framework rather than in the decoder itself. You may observe training discrepancies if fine-tuning a model trained with versions anterior to 4.12.0. The decoder_input_ids are now created based on the labels, no need to pass them yourself anymore.\n",
      "  warnings.warn(DEPRECATION_WARNING, FutureWarning)\n",
      "C:\\tempjeka\\anaconda3\\lib\\site-packages\\transformers\\models\\encoder_decoder\\modeling_encoder_decoder.py:634: FutureWarning: Version v4.12.0 introduces a better way to train encoder-decoder models by computing the loss inside the encoder-decoder framework rather than in the decoder itself. You may observe training discrepancies if fine-tuning a model trained with versions anterior to 4.12.0. The decoder_input_ids are now created based on the labels, no need to pass them yourself anymore.\n",
      "  warnings.warn(DEPRECATION_WARNING, FutureWarning)\n",
      "C:\\tempjeka\\anaconda3\\lib\\site-packages\\transformers\\models\\encoder_decoder\\modeling_encoder_decoder.py:634: FutureWarning: Version v4.12.0 introduces a better way to train encoder-decoder models by computing the loss inside the encoder-decoder framework rather than in the decoder itself. You may observe training discrepancies if fine-tuning a model trained with versions anterior to 4.12.0. The decoder_input_ids are now created based on the labels, no need to pass them yourself anymore.\n",
      "  warnings.warn(DEPRECATION_WARNING, FutureWarning)\n",
      "C:\\tempjeka\\anaconda3\\lib\\site-packages\\transformers\\models\\encoder_decoder\\modeling_encoder_decoder.py:634: FutureWarning: Version v4.12.0 introduces a better way to train encoder-decoder models by computing the loss inside the encoder-decoder framework rather than in the decoder itself. You may observe training discrepancies if fine-tuning a model trained with versions anterior to 4.12.0. The decoder_input_ids are now created based on the labels, no need to pass them yourself anymore.\n",
      "  warnings.warn(DEPRECATION_WARNING, FutureWarning)\n",
      "C:\\tempjeka\\anaconda3\\lib\\site-packages\\transformers\\models\\encoder_decoder\\modeling_encoder_decoder.py:634: FutureWarning: Version v4.12.0 introduces a better way to train encoder-decoder models by computing the loss inside the encoder-decoder framework rather than in the decoder itself. You may observe training discrepancies if fine-tuning a model trained with versions anterior to 4.12.0. The decoder_input_ids are now created based on the labels, no need to pass them yourself anymore.\n",
      "  warnings.warn(DEPRECATION_WARNING, FutureWarning)\n",
      "C:\\tempjeka\\anaconda3\\lib\\site-packages\\transformers\\models\\encoder_decoder\\modeling_encoder_decoder.py:634: FutureWarning: Version v4.12.0 introduces a better way to train encoder-decoder models by computing the loss inside the encoder-decoder framework rather than in the decoder itself. You may observe training discrepancies if fine-tuning a model trained with versions anterior to 4.12.0. The decoder_input_ids are now created based on the labels, no need to pass them yourself anymore.\n",
      "  warnings.warn(DEPRECATION_WARNING, FutureWarning)\n",
      "C:\\tempjeka\\anaconda3\\lib\\site-packages\\transformers\\models\\encoder_decoder\\modeling_encoder_decoder.py:634: FutureWarning: Version v4.12.0 introduces a better way to train encoder-decoder models by computing the loss inside the encoder-decoder framework rather than in the decoder itself. You may observe training discrepancies if fine-tuning a model trained with versions anterior to 4.12.0. The decoder_input_ids are now created based on the labels, no need to pass them yourself anymore.\n",
      "  warnings.warn(DEPRECATION_WARNING, FutureWarning)\n",
      "C:\\tempjeka\\anaconda3\\lib\\site-packages\\transformers\\models\\encoder_decoder\\modeling_encoder_decoder.py:634: FutureWarning: Version v4.12.0 introduces a better way to train encoder-decoder models by computing the loss inside the encoder-decoder framework rather than in the decoder itself. You may observe training discrepancies if fine-tuning a model trained with versions anterior to 4.12.0. The decoder_input_ids are now created based on the labels, no need to pass them yourself anymore.\n",
      "  warnings.warn(DEPRECATION_WARNING, FutureWarning)\n",
      "C:\\tempjeka\\anaconda3\\lib\\site-packages\\transformers\\models\\encoder_decoder\\modeling_encoder_decoder.py:634: FutureWarning: Version v4.12.0 introduces a better way to train encoder-decoder models by computing the loss inside the encoder-decoder framework rather than in the decoder itself. You may observe training discrepancies if fine-tuning a model trained with versions anterior to 4.12.0. The decoder_input_ids are now created based on the labels, no need to pass them yourself anymore.\n",
      "  warnings.warn(DEPRECATION_WARNING, FutureWarning)\n",
      "C:\\tempjeka\\anaconda3\\lib\\site-packages\\transformers\\models\\encoder_decoder\\modeling_encoder_decoder.py:634: FutureWarning: Version v4.12.0 introduces a better way to train encoder-decoder models by computing the loss inside the encoder-decoder framework rather than in the decoder itself. You may observe training discrepancies if fine-tuning a model trained with versions anterior to 4.12.0. The decoder_input_ids are now created based on the labels, no need to pass them yourself anymore.\n",
      "  warnings.warn(DEPRECATION_WARNING, FutureWarning)\n",
      "C:\\tempjeka\\anaconda3\\lib\\site-packages\\transformers\\models\\encoder_decoder\\modeling_encoder_decoder.py:634: FutureWarning: Version v4.12.0 introduces a better way to train encoder-decoder models by computing the loss inside the encoder-decoder framework rather than in the decoder itself. You may observe training discrepancies if fine-tuning a model trained with versions anterior to 4.12.0. The decoder_input_ids are now created based on the labels, no need to pass them yourself anymore.\n",
      "  warnings.warn(DEPRECATION_WARNING, FutureWarning)\n",
      "C:\\tempjeka\\anaconda3\\lib\\site-packages\\transformers\\models\\encoder_decoder\\modeling_encoder_decoder.py:634: FutureWarning: Version v4.12.0 introduces a better way to train encoder-decoder models by computing the loss inside the encoder-decoder framework rather than in the decoder itself. You may observe training discrepancies if fine-tuning a model trained with versions anterior to 4.12.0. The decoder_input_ids are now created based on the labels, no need to pass them yourself anymore.\n",
      "  warnings.warn(DEPRECATION_WARNING, FutureWarning)\n",
      "C:\\tempjeka\\anaconda3\\lib\\site-packages\\transformers\\models\\encoder_decoder\\modeling_encoder_decoder.py:634: FutureWarning: Version v4.12.0 introduces a better way to train encoder-decoder models by computing the loss inside the encoder-decoder framework rather than in the decoder itself. You may observe training discrepancies if fine-tuning a model trained with versions anterior to 4.12.0. The decoder_input_ids are now created based on the labels, no need to pass them yourself anymore.\n",
      "  warnings.warn(DEPRECATION_WARNING, FutureWarning)\n",
      "C:\\tempjeka\\anaconda3\\lib\\site-packages\\transformers\\models\\encoder_decoder\\modeling_encoder_decoder.py:634: FutureWarning: Version v4.12.0 introduces a better way to train encoder-decoder models by computing the loss inside the encoder-decoder framework rather than in the decoder itself. You may observe training discrepancies if fine-tuning a model trained with versions anterior to 4.12.0. The decoder_input_ids are now created based on the labels, no need to pass them yourself anymore.\n",
      "  warnings.warn(DEPRECATION_WARNING, FutureWarning)\n"
     ]
    },
    {
     "name": "stderr",
     "output_type": "stream",
     "text": [
      "C:\\tempjeka\\anaconda3\\lib\\site-packages\\transformers\\models\\encoder_decoder\\modeling_encoder_decoder.py:634: FutureWarning: Version v4.12.0 introduces a better way to train encoder-decoder models by computing the loss inside the encoder-decoder framework rather than in the decoder itself. You may observe training discrepancies if fine-tuning a model trained with versions anterior to 4.12.0. The decoder_input_ids are now created based on the labels, no need to pass them yourself anymore.\n",
      "  warnings.warn(DEPRECATION_WARNING, FutureWarning)\n",
      "C:\\tempjeka\\anaconda3\\lib\\site-packages\\transformers\\models\\encoder_decoder\\modeling_encoder_decoder.py:634: FutureWarning: Version v4.12.0 introduces a better way to train encoder-decoder models by computing the loss inside the encoder-decoder framework rather than in the decoder itself. You may observe training discrepancies if fine-tuning a model trained with versions anterior to 4.12.0. The decoder_input_ids are now created based on the labels, no need to pass them yourself anymore.\n",
      "  warnings.warn(DEPRECATION_WARNING, FutureWarning)\n",
      "C:\\tempjeka\\anaconda3\\lib\\site-packages\\transformers\\models\\encoder_decoder\\modeling_encoder_decoder.py:634: FutureWarning: Version v4.12.0 introduces a better way to train encoder-decoder models by computing the loss inside the encoder-decoder framework rather than in the decoder itself. You may observe training discrepancies if fine-tuning a model trained with versions anterior to 4.12.0. The decoder_input_ids are now created based on the labels, no need to pass them yourself anymore.\n",
      "  warnings.warn(DEPRECATION_WARNING, FutureWarning)\n",
      "C:\\tempjeka\\anaconda3\\lib\\site-packages\\transformers\\models\\encoder_decoder\\modeling_encoder_decoder.py:634: FutureWarning: Version v4.12.0 introduces a better way to train encoder-decoder models by computing the loss inside the encoder-decoder framework rather than in the decoder itself. You may observe training discrepancies if fine-tuning a model trained with versions anterior to 4.12.0. The decoder_input_ids are now created based on the labels, no need to pass them yourself anymore.\n",
      "  warnings.warn(DEPRECATION_WARNING, FutureWarning)\n",
      "C:\\tempjeka\\anaconda3\\lib\\site-packages\\transformers\\models\\encoder_decoder\\modeling_encoder_decoder.py:634: FutureWarning: Version v4.12.0 introduces a better way to train encoder-decoder models by computing the loss inside the encoder-decoder framework rather than in the decoder itself. You may observe training discrepancies if fine-tuning a model trained with versions anterior to 4.12.0. The decoder_input_ids are now created based on the labels, no need to pass them yourself anymore.\n",
      "  warnings.warn(DEPRECATION_WARNING, FutureWarning)\n"
     ]
    }
   ],
   "source": [
    "trainer.train()"
   ]
  },
  {
   "cell_type": "code",
   "execution_count": null,
   "id": "077a277c",
   "metadata": {},
   "outputs": [],
   "source": [
    "model.save_pretrained(model_name)"
   ]
  },
  {
   "cell_type": "code",
   "execution_count": 7,
   "id": "6bd470bf",
   "metadata": {},
   "outputs": [
    {
     "data": {
      "application/javascript": [
       "\n",
       "            setTimeout(function() {\n",
       "                var nbb_cell_id = 7;\n",
       "                var nbb_unformatted_code = \"model = EncoderDecoderModel.from_pretrained(model_name)\";\n",
       "                var nbb_formatted_code = \"model = EncoderDecoderModel.from_pretrained(model_name)\";\n",
       "                var nbb_cells = Jupyter.notebook.get_cells();\n",
       "                for (var i = 0; i < nbb_cells.length; ++i) {\n",
       "                    if (nbb_cells[i].input_prompt_number == nbb_cell_id) {\n",
       "                        if (nbb_cells[i].get_text() == nbb_unformatted_code) {\n",
       "                             nbb_cells[i].set_text(nbb_formatted_code);\n",
       "                        }\n",
       "                        break;\n",
       "                    }\n",
       "                }\n",
       "            }, 500);\n",
       "            "
      ],
      "text/plain": [
       "<IPython.core.display.Javascript object>"
      ]
     },
     "metadata": {},
     "output_type": "display_data"
    }
   ],
   "source": [
    "model = EncoderDecoderModel.from_pretrained(model_name)"
   ]
  },
  {
   "cell_type": "code",
   "execution_count": 42,
   "id": "7c9c1727",
   "metadata": {},
   "outputs": [
    {
     "data": {
      "application/vnd.jupyter.widget-view+json": {
       "model_id": "",
       "version_major": 2,
       "version_minor": 0
      },
      "text/plain": [
       "Map:   0%|          | 0/4950 [00:00<?, ? examples/s]"
      ]
     },
     "metadata": {},
     "output_type": "display_data"
    },
    {
     "data": {
      "application/javascript": [
       "\n",
       "            setTimeout(function() {\n",
       "                var nbb_cell_id = 42;\n",
       "                var nbb_unformatted_code = \"# metric = evaluate.load(\\\"bleu\\\")\\n\\n\\ndef compute_metrics(batch):\\n    preds = model.generate(\\n        batch[\\\"input_ids\\\"].cuda(),\\n        attention_mask=batch[\\\"attention_mask\\\"].cuda(),\\n        num_beams=50,\\n    ).cpu()\\n    decoded_preds = dec_tokenizer.batch_decode(preds, skip_special_tokens=True)\\n    #     decoded_preds = [s.split(dec_tokenizer.eos_token)[0] for s in decoded_preds]\\n\\n    labels = np.where(\\n        batch[\\\"labels\\\"] != -100, batch[\\\"labels\\\"], dec_tokenizer.pad_token_id\\n    )\\n    decoded_labels = dec_tokenizer.batch_decode(labels, skip_special_tokens=True)\\n    #     print(list(zip(decoded_preds, decoded_labels)))\\n\\n    # Some simple post-processing\\n    decoded_preds, decoded_labels = postprocess_text(decoded_preds, decoded_labels)\\n\\n    metric.add_batch(references=decoded_labels, predictions=decoded_preds)\\n\\n\\nmodel.cuda()\\nmodel.eval()\\nwith torch.no_grad():\\n    dataset[\\\"test\\\"].map(\\n        compute_metrics, batched=True, batch_size=batch_size\\n    )\";\n",
       "                var nbb_formatted_code = \"# metric = evaluate.load(\\\"bleu\\\")\\n\\n\\ndef compute_metrics(batch):\\n    preds = model.generate(\\n        batch[\\\"input_ids\\\"].cuda(),\\n        attention_mask=batch[\\\"attention_mask\\\"].cuda(),\\n        num_beams=50,\\n    ).cpu()\\n    decoded_preds = dec_tokenizer.batch_decode(preds, skip_special_tokens=True)\\n    #     decoded_preds = [s.split(dec_tokenizer.eos_token)[0] for s in decoded_preds]\\n\\n    labels = np.where(\\n        batch[\\\"labels\\\"] != -100, batch[\\\"labels\\\"], dec_tokenizer.pad_token_id\\n    )\\n    decoded_labels = dec_tokenizer.batch_decode(labels, skip_special_tokens=True)\\n    #     print(list(zip(decoded_preds, decoded_labels)))\\n\\n    # Some simple post-processing\\n    decoded_preds, decoded_labels = postprocess_text(decoded_preds, decoded_labels)\\n\\n    metric.add_batch(references=decoded_labels, predictions=decoded_preds)\\n\\n\\nmodel.cuda()\\nmodel.eval()\\nwith torch.no_grad():\\n    dataset[\\\"test\\\"].map(compute_metrics, batched=True, batch_size=batch_size)\";\n",
       "                var nbb_cells = Jupyter.notebook.get_cells();\n",
       "                for (var i = 0; i < nbb_cells.length; ++i) {\n",
       "                    if (nbb_cells[i].input_prompt_number == nbb_cell_id) {\n",
       "                        if (nbb_cells[i].get_text() == nbb_unformatted_code) {\n",
       "                             nbb_cells[i].set_text(nbb_formatted_code);\n",
       "                        }\n",
       "                        break;\n",
       "                    }\n",
       "                }\n",
       "            }, 500);\n",
       "            "
      ],
      "text/plain": [
       "<IPython.core.display.Javascript object>"
      ]
     },
     "metadata": {},
     "output_type": "display_data"
    }
   ],
   "source": [
    "metric = evaluate.load(\"bleu\")\n",
    "model.cuda()\n",
    "model.eval()\n",
    "with torch.no_grad():\n",
    "    dataset[\"test\"].map(partial(compute_metrics_test, dec_tokenizer, metric), batched=True, batch_size=batch_size)"
   ]
  },
  {
   "cell_type": "code",
   "execution_count": 43,
   "id": "7f3524bd",
   "metadata": {},
   "outputs": [
    {
     "data": {
      "text/plain": [
       "{'bleu': 0.2131901471615152,\n",
       " 'precisions': [0.47200531906668936,\n",
       "  0.29738961539105535,\n",
       "  0.20625125518047213,\n",
       "  0.14396965257009814],\n",
       " 'brevity_penalty': 0.8390388437238083,\n",
       " 'length_ratio': 0.8507030767004722,\n",
       " 'translation_length': 64673,\n",
       " 'reference_length': 76023}"
      ]
     },
     "execution_count": 43,
     "metadata": {},
     "output_type": "execute_result"
    },
    {
     "data": {
      "application/javascript": [
       "\n",
       "            setTimeout(function() {\n",
       "                var nbb_cell_id = 43;\n",
       "                var nbb_unformatted_code = \"metric.compute()\";\n",
       "                var nbb_formatted_code = \"metric.compute()\";\n",
       "                var nbb_cells = Jupyter.notebook.get_cells();\n",
       "                for (var i = 0; i < nbb_cells.length; ++i) {\n",
       "                    if (nbb_cells[i].input_prompt_number == nbb_cell_id) {\n",
       "                        if (nbb_cells[i].get_text() == nbb_unformatted_code) {\n",
       "                             nbb_cells[i].set_text(nbb_formatted_code);\n",
       "                        }\n",
       "                        break;\n",
       "                    }\n",
       "                }\n",
       "            }, 500);\n",
       "            "
      ],
      "text/plain": [
       "<IPython.core.display.Javascript object>"
      ]
     },
     "metadata": {},
     "output_type": "display_data"
    }
   ],
   "source": [
    "metric.compute()"
   ]
  },
  {
   "attachments": {
    "image-4.png": {
     "image/png": "[encoded data removed]"
    },
    "image-5.png": {
     "image/png": "[encoded data removed]"
    },
    "image-6.png": {
     "image/png": "[encoded data removed]"
    }
   },
   "cell_type": "markdown",
   "id": "676aa8e4",
   "metadata": {},
   "source": [
    "Синий график ![image-4.png](attachment:image-4.png) ![image-5.png](attachment:image-5.png) ![image-6.png](attachment:image-6.png)"
   ]
  }
 ],
 "metadata": {
  "kernelspec": {
   "display_name": "Python 3 (ipykernel)",
   "language": "python",
   "name": "python3"
  },
  "language_info": {
   "codemirror_mode": {
    "name": "ipython",
    "version": 3
   },
   "file_extension": ".py",
   "mimetype": "text/x-python",
   "name": "python",
   "nbconvert_exporter": "python",
   "pygments_lexer": "ipython3",
   "version": "3.10.9"
  }
 },
 "nbformat": 4,
 "nbformat_minor": 5
}
